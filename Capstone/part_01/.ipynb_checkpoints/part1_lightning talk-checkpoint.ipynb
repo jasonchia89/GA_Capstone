{
 "cells": [
  {
   "cell_type": "markdown",
   "metadata": {},
   "source": [
    "# Capstone (part 1 - Lightning Talk)"
   ]
  },
  {
   "cell_type": "markdown",
   "metadata": {},
   "source": [
    "- What is your problem statement? What will you actually be doing?\n",
    "\n",
    "    1. Provide coffee outlet/bars/event recommendations based on ratings, review count, price,        <br>location (try to scrape local coffee outlets first then if not enough, try US)\n",
    "    2. Predicting hospital readmissions for diabetic patients\n",
    "    3. Brain tumour detection based on MRI scans (maybe try downloading images first from Kaggle site?)\n",
    "    \n",
    "    *Alternatives*\n",
    "    1. Customer/employee churn analysis (Kaggle Dataset)\n",
    "    2. WHO Life Expectancy predictions (Kaggle Dataset)\n",
    "    3. Netflix recommendations (Kaggle Dataset)"
   ]
  },
  {
   "cell_type": "markdown",
   "metadata": {},
   "source": [
    "- Who is your audience? Why will they care? \n",
    "\n",
    "    1. Fans of coffee, bars, social events. Get best recommendations for things they love.\n",
    "    2. Public hospitals, Healthcare ministries. Prioritise resources on diabetic patients identified to be at high risk of readmission for early intervention, with an ultimate aim of curbing the rise in inpatient healthcare costs attributed to hyperglycemia (diabetes) \n",
    "    3. Diagnosing brain tumours based on visual inspection of MRI scans is tedious and time-consuming. If classification metrics is on par with or better than clinicians' visual inspection, clinicians will have more time to handle more important aspects of their clinician duties, such as attending to patients and offering that personal touch."
   ]
  },
  {
   "cell_type": "markdown",
   "metadata": {},
   "source": [
    "- What is your success metric? How will you know if you are actually solving the problem in a useful way?\n",
    "\n",
    "    1. Correlation metrics, RMSE, or metrics used for recommender systems.\n",
    "    2. Classification metrics - precision, recall, specificity, f1-score\n",
    "    3. Classification metrics such as f1 score"
   ]
  },
  {
   "cell_type": "markdown",
   "metadata": {},
   "source": [
    "- What is your data source? What format is your data in? How much cleaning and munging will be required?\n",
    "\n",
    "    1. Yelp, json, quite a fair bit for missing entries, either drop or infer from the rest of        data (50 outlets per scrape, 5000 calls allowable per day, thus 250,000 outlets, depending number of outlets available, haven't tried specific details end point, the above only based on business search end point)\n",
    "    2. Diabetes readmission dataset from Kaggle got zero nulls. 101766 rows, 50 feature columns\n",
    "    3. Kaggle dataset. (155 images-yes, 98-no, 253 images; need to learn CNN)"
   ]
  },
  {
   "cell_type": "markdown",
   "metadata": {},
   "source": [
    "- What are potential challenges or obstacles and how will you mitigate them?\n",
    "\n",
    "    1. May have insufficient features if review info and/or business descriptions cannot be scraped from Yelp.\n",
    "    2. Too many features (multiple diabetic drugs administered?), may have multi-collinearity - might lead to overfitting or high variance - may do feature selection and/or engineering and/or PCA to address this.\n",
    "    3. Data has 2 sets of yes and no - need to double check either with Kaggle documentation or visually inspect sample images from repo to verify if any are duplicates."
   ]
  },
  {
   "cell_type": "markdown",
   "metadata": {},
   "source": [
    "- Is this a reasonable project given the time constraints that you have?\n",
    "\n",
    "    1. Yes\n",
    "    2. Yes\n",
    "    3. Yes (if can learn CNN in time; how to oversample/undersample/assign weights for CNN/image cases?)"
   ]
  }
 ],
 "metadata": {
  "kernelspec": {
   "display_name": "Python 3",
   "language": "python",
   "name": "python3"
  },
  "language_info": {
   "codemirror_mode": {
    "name": "ipython",
    "version": 3
   },
   "file_extension": ".py",
   "mimetype": "text/x-python",
   "name": "python",
   "nbconvert_exporter": "python",
   "pygments_lexer": "ipython3",
   "version": "3.7.6"
  }
 },
 "nbformat": 4,
 "nbformat_minor": 4
}
