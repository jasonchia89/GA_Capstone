{
 "cells": [
  {
   "cell_type": "markdown",
   "metadata": {},
   "source": [
    "# Part 8: Hybrid Recommender Evaluation_in test set for userid 2043\n",
    "---\n",
    "\n",
    "- Importing the relevant libraries first...\n"
   ]
  },
  {
   "cell_type": "code",
   "execution_count": 1,
   "metadata": {},
   "outputs": [],
   "source": [
    "from sklearn.preprocessing import StandardScaler\n",
    "from sklearn.metrics import confusion_matrix, classification_report, multilabel_confusion_matrix, roc_auc_score\n",
    "import matplotlib.pyplot as plt\n",
    "import seaborn as sns\n",
    "from sklearn.model_selection import train_test_split, GridSearchCV\n",
    "from sklearn.pipeline import Pipeline\n",
    "from sklearn.tree import DecisionTreeClassifier\n",
    "from sklearn.preprocessing import StandardScaler\n",
    "import numpy as np\n",
    "import pandas as pd\n",
    "import joblib\n",
    "\n",
    "%matplotlib inline\n",
    "%config InlineBackend.figure_format = 'retina'"
   ]
  },
  {
   "cell_type": "markdown",
   "metadata": {},
   "source": [
    "## Importing X_legit and y which contain the shops that userid 2043 rated and ratings respectively\n",
    "---"
   ]
  },
  {
   "cell_type": "code",
   "execution_count": 2,
   "metadata": {},
   "outputs": [
    {
     "data": {
      "text/plain": [
       "(2935, 19498)"
      ]
     },
     "execution_count": 2,
     "metadata": {},
     "output_type": "execute_result"
    }
   ],
   "source": [
    "X_legit = pd.read_csv('yelp_data/xlegit.csv')\n",
    "X_legit.shape"
   ]
  },
  {
   "cell_type": "code",
   "execution_count": 3,
   "metadata": {},
   "outputs": [
    {
     "data": {
      "text/plain": [
       "0    4.0\n",
       "1    4.0\n",
       "2    4.0\n",
       "3    4.0\n",
       "4    4.0\n",
       "Name: user_ratings, dtype: float64"
      ]
     },
     "execution_count": 3,
     "metadata": {},
     "output_type": "execute_result"
    }
   ],
   "source": [
    "y = pd.read_csv('yelp_data/y.csv', squeeze=True)\n",
    "y.head()"
   ]
  },
  {
   "cell_type": "code",
   "execution_count": 4,
   "metadata": {},
   "outputs": [
    {
     "data": {
      "text/plain": [
       "dtype('int64')"
      ]
     },
     "execution_count": 4,
     "metadata": {},
     "output_type": "execute_result"
    }
   ],
   "source": [
    "X_legit['userids'].dtypes"
   ]
  },
  {
   "cell_type": "code",
   "execution_count": 5,
   "metadata": {},
   "outputs": [],
   "source": [
    "#split the dataset into train and test sets first\n",
    "X_train, X_test, y_train, y_test = train_test_split(X_legit, y, test_size=0.2, random_state=42, stratify=X_legit['userids'])"
   ]
  },
  {
   "cell_type": "code",
   "execution_count": 6,
   "metadata": {},
   "outputs": [
    {
     "data": {
      "text/plain": [
       "(587, 19498)"
      ]
     },
     "execution_count": 6,
     "metadata": {},
     "output_type": "execute_result"
    }
   ],
   "source": [
    "X_test.shape"
   ]
  },
  {
   "cell_type": "code",
   "execution_count": 7,
   "metadata": {},
   "outputs": [],
   "source": [
    "mbcf_test = pd.read_csv('yelp_data/test_mbcf_hundten.csv')"
   ]
  },
  {
   "cell_type": "code",
   "execution_count": 8,
   "metadata": {},
   "outputs": [
    {
     "data": {
      "text/plain": [
       "(587, 5)"
      ]
     },
     "execution_count": 8,
     "metadata": {},
     "output_type": "execute_result"
    }
   ],
   "source": [
    "mbcf_test.shape"
   ]
  },
  {
   "cell_type": "code",
   "execution_count": 9,
   "metadata": {},
   "outputs": [
    {
     "data": {
      "text/html": [
       "<div>\n",
       "<style scoped>\n",
       "    .dataframe tbody tr th:only-of-type {\n",
       "        vertical-align: middle;\n",
       "    }\n",
       "\n",
       "    .dataframe tbody tr th {\n",
       "        vertical-align: top;\n",
       "    }\n",
       "\n",
       "    .dataframe thead th {\n",
       "        text-align: right;\n",
       "    }\n",
       "</style>\n",
       "<table border=\"1\" class=\"dataframe\">\n",
       "  <thead>\n",
       "    <tr style=\"text-align: right;\">\n",
       "      <th></th>\n",
       "      <th>shops</th>\n",
       "      <th>userids</th>\n",
       "    </tr>\n",
       "  </thead>\n",
       "  <tbody>\n",
       "    <tr>\n",
       "      <th>0</th>\n",
       "      <td>breko-cafe-singapore</td>\n",
       "      <td>488</td>\n",
       "    </tr>\n",
       "    <tr>\n",
       "      <th>1</th>\n",
       "      <td>the-tea-party-cafe-singapore</td>\n",
       "      <td>789</td>\n",
       "    </tr>\n",
       "    <tr>\n",
       "      <th>2</th>\n",
       "      <td>nylon-coffee-roasters-singapore</td>\n",
       "      <td>209</td>\n",
       "    </tr>\n",
       "    <tr>\n",
       "      <th>3</th>\n",
       "      <td>da-paolo-gastronomia-holland-village-singapore-2</td>\n",
       "      <td>306</td>\n",
       "    </tr>\n",
       "    <tr>\n",
       "      <th>4</th>\n",
       "      <td>twenty-grammes-singapore</td>\n",
       "      <td>2043</td>\n",
       "    </tr>\n",
       "    <tr>\n",
       "      <th>5</th>\n",
       "      <td>pine-gardens-cake-singapore</td>\n",
       "      <td>2043</td>\n",
       "    </tr>\n",
       "    <tr>\n",
       "      <th>6</th>\n",
       "      <td>brawn-and-brains-coffee-singapore</td>\n",
       "      <td>57</td>\n",
       "    </tr>\n",
       "    <tr>\n",
       "      <th>7</th>\n",
       "      <td>the-tiny-roaster-120106</td>\n",
       "      <td>27</td>\n",
       "    </tr>\n",
       "    <tr>\n",
       "      <th>8</th>\n",
       "      <td>ps-cafe-singapore-8</td>\n",
       "      <td>2237</td>\n",
       "    </tr>\n",
       "    <tr>\n",
       "      <th>9</th>\n",
       "      <td>living-cafe-and-deli-singapore</td>\n",
       "      <td>1123</td>\n",
       "    </tr>\n",
       "  </tbody>\n",
       "</table>\n",
       "</div>"
      ],
      "text/plain": [
       "                                              shops  userids\n",
       "0                              breko-cafe-singapore      488\n",
       "1                      the-tea-party-cafe-singapore      789\n",
       "2                   nylon-coffee-roasters-singapore      209\n",
       "3  da-paolo-gastronomia-holland-village-singapore-2      306\n",
       "4                          twenty-grammes-singapore     2043\n",
       "5                       pine-gardens-cake-singapore     2043\n",
       "6                 brawn-and-brains-coffee-singapore       57\n",
       "7                           the-tiny-roaster-120106       27\n",
       "8                               ps-cafe-singapore-8     2237\n",
       "9                    living-cafe-and-deli-singapore     1123"
      ]
     },
     "execution_count": 9,
     "metadata": {},
     "output_type": "execute_result"
    }
   ],
   "source": [
    "mbcf_test[['shops','userids']].head(10)"
   ]
  },
  {
   "cell_type": "code",
   "execution_count": 12,
   "metadata": {},
   "outputs": [
    {
     "data": {
      "text/plain": [
       "4.0    0.506814\n",
       "5.0    0.409284\n",
       "3.0    0.075383\n",
       "2.0    0.006388\n",
       "1.0    0.002129\n",
       "Name: user_ratings, dtype: float64"
      ]
     },
     "execution_count": 12,
     "metadata": {},
     "output_type": "execute_result"
    }
   ],
   "source": [
    "y_train.value_counts(normalize=True)"
   ]
  },
  {
   "cell_type": "markdown",
   "metadata": {},
   "source": [
    "<ul>\n",
    "    \n",
    "- The baseline accuracy will be 0.51 since that is the highest proportion among the training dataset's target classes"
   ]
  },
  {
   "cell_type": "code",
   "execution_count": 13,
   "metadata": {},
   "outputs": [],
   "source": [
    "#instantiate scaler since not all of the features are of the same scale, eg. review_count and avg_store_rating\n",
    "ss = StandardScaler()"
   ]
  },
  {
   "cell_type": "code",
   "execution_count": 14,
   "metadata": {},
   "outputs": [],
   "source": [
    "X_train=X_train.drop(['userids'],axis=1)\n",
    "X_test=X_test.drop(['userids'],axis=1)"
   ]
  },
  {
   "cell_type": "code",
   "execution_count": 15,
   "metadata": {},
   "outputs": [],
   "source": [
    "#fitting the train and transforming both the train and test sets\n",
    "X_train_sc = ss.fit_transform(X_train)\n",
    "X_test_sc = ss.transform(X_test)"
   ]
  },
  {
   "cell_type": "code",
   "execution_count": 16,
   "metadata": {},
   "outputs": [],
   "source": [
    "#reading in reconstructed_X_test for 110 userids from content-based filtering for comparison later on...\n",
    "hundten_cb_pred_actual_X_test = pd.read_csv('yelp_data/xgb_hundten_cb_pred_actual.csv')"
   ]
  },
  {
   "cell_type": "code",
   "execution_count": 17,
   "metadata": {},
   "outputs": [
    {
     "data": {
      "text/plain": [
       "(587, 4)"
      ]
     },
     "execution_count": 17,
     "metadata": {},
     "output_type": "execute_result"
    }
   ],
   "source": [
    "#checking out the dimensions of the read-in content-based filtering dataset....\n",
    "hundten_cb_pred_actual_X_test.shape"
   ]
  },
  {
   "cell_type": "code",
   "execution_count": 18,
   "metadata": {},
   "outputs": [
    {
     "data": {
      "text/html": [
       "<div>\n",
       "<style scoped>\n",
       "    .dataframe tbody tr th:only-of-type {\n",
       "        vertical-align: middle;\n",
       "    }\n",
       "\n",
       "    .dataframe tbody tr th {\n",
       "        vertical-align: top;\n",
       "    }\n",
       "\n",
       "    .dataframe thead th {\n",
       "        text-align: right;\n",
       "    }\n",
       "</style>\n",
       "<table border=\"1\" class=\"dataframe\">\n",
       "  <thead>\n",
       "    <tr style=\"text-align: right;\">\n",
       "      <th></th>\n",
       "      <th>shops</th>\n",
       "      <th>predicted_ratings</th>\n",
       "      <th>actual_ratings</th>\n",
       "      <th>userids</th>\n",
       "    </tr>\n",
       "  </thead>\n",
       "  <tbody>\n",
       "    <tr>\n",
       "      <th>0</th>\n",
       "      <td>shops_brunetti-singapore</td>\n",
       "      <td>5.0</td>\n",
       "      <td>5.0</td>\n",
       "      <td>488</td>\n",
       "    </tr>\n",
       "    <tr>\n",
       "      <th>1</th>\n",
       "      <td>shops_long-black-cafe-singapore</td>\n",
       "      <td>4.0</td>\n",
       "      <td>4.0</td>\n",
       "      <td>789</td>\n",
       "    </tr>\n",
       "    <tr>\n",
       "      <th>2</th>\n",
       "      <td>shops_nylon-coffee-roasters-singapore</td>\n",
       "      <td>5.0</td>\n",
       "      <td>5.0</td>\n",
       "      <td>209</td>\n",
       "    </tr>\n",
       "  </tbody>\n",
       "</table>\n",
       "</div>"
      ],
      "text/plain": [
       "                                   shops  predicted_ratings  actual_ratings  \\\n",
       "0               shops_brunetti-singapore                5.0             5.0   \n",
       "1        shops_long-black-cafe-singapore                4.0             4.0   \n",
       "2  shops_nylon-coffee-roasters-singapore                5.0             5.0   \n",
       "\n",
       "   userids  \n",
       "0      488  \n",
       "1      789  \n",
       "2      209  "
      ]
     },
     "execution_count": 18,
     "metadata": {},
     "output_type": "execute_result"
    }
   ],
   "source": [
    "#checking out the first few rows of the content-based filtering dataset....\n",
    "hundten_cb_pred_actual_X_test.head(3)"
   ]
  },
  {
   "cell_type": "code",
   "execution_count": 19,
   "metadata": {},
   "outputs": [],
   "source": [
    "#cleaning the shops column to remove the \"shops_\" prefix for easier merging later on...\n",
    "hundten_cb_pred_actual_X_test['shops'] = hundten_cb_pred_actual_X_test['shops'].apply(lambda x: x[6:])"
   ]
  },
  {
   "cell_type": "code",
   "execution_count": 20,
   "metadata": {},
   "outputs": [
    {
     "data": {
      "text/html": [
       "<div>\n",
       "<style scoped>\n",
       "    .dataframe tbody tr th:only-of-type {\n",
       "        vertical-align: middle;\n",
       "    }\n",
       "\n",
       "    .dataframe tbody tr th {\n",
       "        vertical-align: top;\n",
       "    }\n",
       "\n",
       "    .dataframe thead th {\n",
       "        text-align: right;\n",
       "    }\n",
       "</style>\n",
       "<table border=\"1\" class=\"dataframe\">\n",
       "  <thead>\n",
       "    <tr style=\"text-align: right;\">\n",
       "      <th></th>\n",
       "      <th>shops</th>\n",
       "      <th>predicted_ratings</th>\n",
       "      <th>actual_ratings</th>\n",
       "      <th>userids</th>\n",
       "    </tr>\n",
       "  </thead>\n",
       "  <tbody>\n",
       "    <tr>\n",
       "      <th>0</th>\n",
       "      <td>brunetti-singapore</td>\n",
       "      <td>5.0</td>\n",
       "      <td>5.0</td>\n",
       "      <td>488</td>\n",
       "    </tr>\n",
       "    <tr>\n",
       "      <th>1</th>\n",
       "      <td>long-black-cafe-singapore</td>\n",
       "      <td>4.0</td>\n",
       "      <td>4.0</td>\n",
       "      <td>789</td>\n",
       "    </tr>\n",
       "    <tr>\n",
       "      <th>2</th>\n",
       "      <td>nylon-coffee-roasters-singapore</td>\n",
       "      <td>5.0</td>\n",
       "      <td>5.0</td>\n",
       "      <td>209</td>\n",
       "    </tr>\n",
       "  </tbody>\n",
       "</table>\n",
       "</div>"
      ],
      "text/plain": [
       "                             shops  predicted_ratings  actual_ratings  userids\n",
       "0               brunetti-singapore                5.0             5.0      488\n",
       "1        long-black-cafe-singapore                4.0             4.0      789\n",
       "2  nylon-coffee-roasters-singapore                5.0             5.0      209"
      ]
     },
     "execution_count": 20,
     "metadata": {},
     "output_type": "execute_result"
    }
   ],
   "source": [
    "#confirming that the change has been made\n",
    "hundten_cb_pred_actual_X_test.head(3)"
   ]
  },
  {
   "cell_type": "code",
   "execution_count": 21,
   "metadata": {},
   "outputs": [
    {
     "data": {
      "text/html": [
       "<div>\n",
       "<style scoped>\n",
       "    .dataframe tbody tr th:only-of-type {\n",
       "        vertical-align: middle;\n",
       "    }\n",
       "\n",
       "    .dataframe tbody tr th {\n",
       "        vertical-align: top;\n",
       "    }\n",
       "\n",
       "    .dataframe thead th {\n",
       "        text-align: right;\n",
       "    }\n",
       "</style>\n",
       "<table border=\"1\" class=\"dataframe\">\n",
       "  <thead>\n",
       "    <tr style=\"text-align: right;\">\n",
       "      <th></th>\n",
       "      <th>shops</th>\n",
       "      <th>predicted_ratings</th>\n",
       "      <th>actual_ratings</th>\n",
       "      <th>userids</th>\n",
       "    </tr>\n",
       "  </thead>\n",
       "  <tbody>\n",
       "    <tr>\n",
       "      <th>1</th>\n",
       "      <td>long-black-cafe-singapore</td>\n",
       "      <td>4.0</td>\n",
       "      <td>4.0</td>\n",
       "      <td>789</td>\n",
       "    </tr>\n",
       "  </tbody>\n",
       "</table>\n",
       "</div>"
      ],
      "text/plain": [
       "                       shops  predicted_ratings  actual_ratings  userids\n",
       "1  long-black-cafe-singapore                4.0             4.0      789"
      ]
     },
     "execution_count": 21,
     "metadata": {},
     "output_type": "execute_result"
    }
   ],
   "source": [
    "hundten_cb_pred_actual_X_test[(hundten_cb_pred_actual_X_test['shops']=='long-black-cafe-singapore') & (hundten_cb_pred_actual_X_test['userids']==789)]"
   ]
  },
  {
   "cell_type": "code",
   "execution_count": 22,
   "metadata": {},
   "outputs": [
    {
     "data": {
      "text/html": [
       "<div>\n",
       "<style scoped>\n",
       "    .dataframe tbody tr th:only-of-type {\n",
       "        vertical-align: middle;\n",
       "    }\n",
       "\n",
       "    .dataframe tbody tr th {\n",
       "        vertical-align: top;\n",
       "    }\n",
       "\n",
       "    .dataframe thead th {\n",
       "        text-align: right;\n",
       "    }\n",
       "</style>\n",
       "<table border=\"1\" class=\"dataframe\">\n",
       "  <thead>\n",
       "    <tr style=\"text-align: right;\">\n",
       "      <th></th>\n",
       "      <th>shops</th>\n",
       "      <th>predicted_ratings</th>\n",
       "      <th>actual_ratings</th>\n",
       "      <th>userids</th>\n",
       "    </tr>\n",
       "  </thead>\n",
       "  <tbody>\n",
       "    <tr>\n",
       "      <th>67</th>\n",
       "      <td>penny-university-singapore</td>\n",
       "      <td>4.0</td>\n",
       "      <td>4.0</td>\n",
       "      <td>75</td>\n",
       "    </tr>\n",
       "    <tr>\n",
       "      <th>156</th>\n",
       "      <td>old-hen-coffee-bar-singapore-2</td>\n",
       "      <td>4.0</td>\n",
       "      <td>4.0</td>\n",
       "      <td>75</td>\n",
       "    </tr>\n",
       "    <tr>\n",
       "      <th>189</th>\n",
       "      <td>brunches-cafe-singapore-3</td>\n",
       "      <td>5.0</td>\n",
       "      <td>5.0</td>\n",
       "      <td>75</td>\n",
       "    </tr>\n",
       "    <tr>\n",
       "      <th>355</th>\n",
       "      <td>kith-cafe-singapore-7</td>\n",
       "      <td>2.0</td>\n",
       "      <td>2.0</td>\n",
       "      <td>75</td>\n",
       "    </tr>\n",
       "    <tr>\n",
       "      <th>470</th>\n",
       "      <td>chye-seng-huat-hardware-singapore</td>\n",
       "      <td>5.0</td>\n",
       "      <td>5.0</td>\n",
       "      <td>75</td>\n",
       "    </tr>\n",
       "    <tr>\n",
       "      <th>561</th>\n",
       "      <td>jewel-coffee-singapore-3</td>\n",
       "      <td>5.0</td>\n",
       "      <td>5.0</td>\n",
       "      <td>75</td>\n",
       "    </tr>\n",
       "  </tbody>\n",
       "</table>\n",
       "</div>"
      ],
      "text/plain": [
       "                                 shops  predicted_ratings  actual_ratings  \\\n",
       "67          penny-university-singapore                4.0             4.0   \n",
       "156     old-hen-coffee-bar-singapore-2                4.0             4.0   \n",
       "189          brunches-cafe-singapore-3                5.0             5.0   \n",
       "355              kith-cafe-singapore-7                2.0             2.0   \n",
       "470  chye-seng-huat-hardware-singapore                5.0             5.0   \n",
       "561           jewel-coffee-singapore-3                5.0             5.0   \n",
       "\n",
       "     userids  \n",
       "67        75  \n",
       "156       75  \n",
       "189       75  \n",
       "355       75  \n",
       "470       75  \n",
       "561       75  "
      ]
     },
     "execution_count": 22,
     "metadata": {},
     "output_type": "execute_result"
    }
   ],
   "source": [
    "hundten_cb_pred_actual_X_test[hundten_cb_pred_actual_X_test['userids']==75]"
   ]
  },
  {
   "cell_type": "code",
   "execution_count": 23,
   "metadata": {},
   "outputs": [
    {
     "data": {
      "text/plain": [
       "(587, 4)"
      ]
     },
     "execution_count": 23,
     "metadata": {},
     "output_type": "execute_result"
    }
   ],
   "source": [
    "hundten_cb_pred_actual_X_test.shape"
   ]
  },
  {
   "cell_type": "code",
   "execution_count": 24,
   "metadata": {},
   "outputs": [],
   "source": [
    "#reading in the collaborative filtering dataset for the 110 userids...\n",
    "hundten_mbcf_pred_actual_test = pd.read_csv('yelp_data/mbcf_hundten_pred_actual_testeval.csv')"
   ]
  },
  {
   "cell_type": "code",
   "execution_count": 25,
   "metadata": {},
   "outputs": [
    {
     "data": {
      "text/plain": [
       "(497, 5)"
      ]
     },
     "execution_count": 25,
     "metadata": {},
     "output_type": "execute_result"
    }
   ],
   "source": [
    "#checking out the dimensions of the model-based collaborative filtering test dataset...\n",
    "hundten_mbcf_pred_actual_test.shape"
   ]
  },
  {
   "cell_type": "code",
   "execution_count": 26,
   "metadata": {},
   "outputs": [
    {
     "data": {
      "text/html": [
       "<div>\n",
       "<style scoped>\n",
       "    .dataframe tbody tr th:only-of-type {\n",
       "        vertical-align: middle;\n",
       "    }\n",
       "\n",
       "    .dataframe tbody tr th {\n",
       "        vertical-align: top;\n",
       "    }\n",
       "\n",
       "    .dataframe thead th {\n",
       "        text-align: right;\n",
       "    }\n",
       "</style>\n",
       "<table border=\"1\" class=\"dataframe\">\n",
       "  <thead>\n",
       "    <tr style=\"text-align: right;\">\n",
       "      <th></th>\n",
       "      <th>shops</th>\n",
       "      <th>ratings</th>\n",
       "      <th>prediction_rounded</th>\n",
       "      <th>prediction</th>\n",
       "      <th>userids</th>\n",
       "    </tr>\n",
       "  </thead>\n",
       "  <tbody>\n",
       "    <tr>\n",
       "      <th>0</th>\n",
       "      <td>the-coconut-club-singapore</td>\n",
       "      <td>5.0</td>\n",
       "      <td>5.0</td>\n",
       "      <td>4.903920</td>\n",
       "      <td>75</td>\n",
       "    </tr>\n",
       "    <tr>\n",
       "      <th>1</th>\n",
       "      <td>wilder-singapore</td>\n",
       "      <td>5.0</td>\n",
       "      <td>5.0</td>\n",
       "      <td>4.907964</td>\n",
       "      <td>2445</td>\n",
       "    </tr>\n",
       "    <tr>\n",
       "      <th>2</th>\n",
       "      <td>the-daily-cut-singapore-3</td>\n",
       "      <td>5.0</td>\n",
       "      <td>5.0</td>\n",
       "      <td>4.913113</td>\n",
       "      <td>225</td>\n",
       "    </tr>\n",
       "  </tbody>\n",
       "</table>\n",
       "</div>"
      ],
      "text/plain": [
       "                        shops  ratings  prediction_rounded  prediction  \\\n",
       "0  the-coconut-club-singapore      5.0                 5.0    4.903920   \n",
       "1            wilder-singapore      5.0                 5.0    4.907964   \n",
       "2   the-daily-cut-singapore-3      5.0                 5.0    4.913113   \n",
       "\n",
       "   userids  \n",
       "0       75  \n",
       "1     2445  \n",
       "2      225  "
      ]
     },
     "execution_count": 26,
     "metadata": {},
     "output_type": "execute_result"
    }
   ],
   "source": [
    "#checking out the first few rows of the model-based collaborative filtering test dataset...\n",
    "hundten_mbcf_pred_actual_test.head(3)"
   ]
  },
  {
   "cell_type": "code",
   "execution_count": 27,
   "metadata": {},
   "outputs": [],
   "source": [
    "#let's merge both content-based filtering and model-based collaborative filtering predictions for userid 2043 together!\n",
    "con_collab_110_tst = pd.merge(hundten_cb_pred_actual_X_test,hundten_mbcf_pred_actual_test,how=\"right\",on=['shops','userids'])"
   ]
  },
  {
   "cell_type": "code",
   "execution_count": 28,
   "metadata": {},
   "outputs": [
    {
     "data": {
      "text/plain": [
       "(497, 7)"
      ]
     },
     "execution_count": 28,
     "metadata": {},
     "output_type": "execute_result"
    }
   ],
   "source": [
    "#checking out the dimensions of the merged dataset...\n",
    "con_collab_110_tst.shape"
   ]
  },
  {
   "cell_type": "code",
   "execution_count": 29,
   "metadata": {},
   "outputs": [
    {
     "data": {
      "text/plain": [
       "shops                   0\n",
       "predicted_ratings     397\n",
       "actual_ratings        397\n",
       "userids                 0\n",
       "ratings                 0\n",
       "prediction_rounded      0\n",
       "prediction              0\n",
       "dtype: int64"
      ]
     },
     "execution_count": 29,
     "metadata": {},
     "output_type": "execute_result"
    }
   ],
   "source": [
    "con_collab_110_tst.isnull().sum()"
   ]
  },
  {
   "cell_type": "code",
   "execution_count": 30,
   "metadata": {},
   "outputs": [
    {
     "data": {
      "text/html": [
       "<div>\n",
       "<style scoped>\n",
       "    .dataframe tbody tr th:only-of-type {\n",
       "        vertical-align: middle;\n",
       "    }\n",
       "\n",
       "    .dataframe tbody tr th {\n",
       "        vertical-align: top;\n",
       "    }\n",
       "\n",
       "    .dataframe thead th {\n",
       "        text-align: right;\n",
       "    }\n",
       "</style>\n",
       "<table border=\"1\" class=\"dataframe\">\n",
       "  <thead>\n",
       "    <tr style=\"text-align: right;\">\n",
       "      <th></th>\n",
       "      <th>shops</th>\n",
       "      <th>predicted_ratings</th>\n",
       "      <th>actual_ratings</th>\n",
       "      <th>userids</th>\n",
       "      <th>ratings</th>\n",
       "      <th>prediction_rounded</th>\n",
       "      <th>prediction</th>\n",
       "    </tr>\n",
       "  </thead>\n",
       "  <tbody>\n",
       "    <tr>\n",
       "      <th>100</th>\n",
       "      <td>the-coconut-club-singapore</td>\n",
       "      <td>NaN</td>\n",
       "      <td>NaN</td>\n",
       "      <td>75</td>\n",
       "      <td>5.0</td>\n",
       "      <td>5.0</td>\n",
       "      <td>4.903920</td>\n",
       "    </tr>\n",
       "    <tr>\n",
       "      <th>101</th>\n",
       "      <td>wilder-singapore</td>\n",
       "      <td>NaN</td>\n",
       "      <td>NaN</td>\n",
       "      <td>2445</td>\n",
       "      <td>5.0</td>\n",
       "      <td>5.0</td>\n",
       "      <td>4.907964</td>\n",
       "    </tr>\n",
       "    <tr>\n",
       "      <th>102</th>\n",
       "      <td>the-daily-cut-singapore-3</td>\n",
       "      <td>NaN</td>\n",
       "      <td>NaN</td>\n",
       "      <td>225</td>\n",
       "      <td>5.0</td>\n",
       "      <td>5.0</td>\n",
       "      <td>4.913113</td>\n",
       "    </tr>\n",
       "  </tbody>\n",
       "</table>\n",
       "</div>"
      ],
      "text/plain": [
       "                          shops  predicted_ratings  actual_ratings  userids  \\\n",
       "100  the-coconut-club-singapore                NaN             NaN       75   \n",
       "101            wilder-singapore                NaN             NaN     2445   \n",
       "102   the-daily-cut-singapore-3                NaN             NaN      225   \n",
       "\n",
       "     ratings  prediction_rounded  prediction  \n",
       "100      5.0                 5.0    4.903920  \n",
       "101      5.0                 5.0    4.907964  \n",
       "102      5.0                 5.0    4.913113  "
      ]
     },
     "execution_count": 30,
     "metadata": {},
     "output_type": "execute_result"
    }
   ],
   "source": [
    "con_collab_110_tst[con_collab_110_tst['predicted_ratings'].isnull()].head(3)"
   ]
  },
  {
   "cell_type": "code",
   "execution_count": 31,
   "metadata": {},
   "outputs": [],
   "source": [
    "#keeping only common shops present in both content-based and collaborative filtering...\n",
    "con_collab_110_tst.dropna(inplace=True)"
   ]
  },
  {
   "cell_type": "code",
   "execution_count": 32,
   "metadata": {},
   "outputs": [
    {
     "data": {
      "text/plain": [
       "(100, 7)"
      ]
     },
     "execution_count": 32,
     "metadata": {},
     "output_type": "execute_result"
    }
   ],
   "source": [
    "#looks like we got 36 outlets in common between content-based and model-based collaborative filtering to work with for userid 2043...\n",
    "con_collab_110_tst.shape"
   ]
  },
  {
   "cell_type": "code",
   "execution_count": 33,
   "metadata": {},
   "outputs": [
    {
     "data": {
      "text/plain": [
       "shops                 0\n",
       "predicted_ratings     0\n",
       "actual_ratings        0\n",
       "userids               0\n",
       "ratings               0\n",
       "prediction_rounded    0\n",
       "prediction            0\n",
       "dtype: int64"
      ]
     },
     "execution_count": 33,
     "metadata": {},
     "output_type": "execute_result"
    }
   ],
   "source": [
    "con_collab_110_tst.isnull().sum()"
   ]
  },
  {
   "cell_type": "code",
   "execution_count": 34,
   "metadata": {},
   "outputs": [
    {
     "data": {
      "text/html": [
       "<div>\n",
       "<style scoped>\n",
       "    .dataframe tbody tr th:only-of-type {\n",
       "        vertical-align: middle;\n",
       "    }\n",
       "\n",
       "    .dataframe tbody tr th {\n",
       "        vertical-align: top;\n",
       "    }\n",
       "\n",
       "    .dataframe thead th {\n",
       "        text-align: right;\n",
       "    }\n",
       "</style>\n",
       "<table border=\"1\" class=\"dataframe\">\n",
       "  <thead>\n",
       "    <tr style=\"text-align: right;\">\n",
       "      <th></th>\n",
       "      <th>shops</th>\n",
       "      <th>predicted_ratings</th>\n",
       "      <th>actual_ratings</th>\n",
       "      <th>userids</th>\n",
       "      <th>ratings</th>\n",
       "      <th>prediction_rounded</th>\n",
       "      <th>prediction</th>\n",
       "    </tr>\n",
       "  </thead>\n",
       "  <tbody>\n",
       "    <tr>\n",
       "      <th>0</th>\n",
       "      <td>long-black-cafe-singapore</td>\n",
       "      <td>4.0</td>\n",
       "      <td>4.0</td>\n",
       "      <td>789</td>\n",
       "      <td>4.0</td>\n",
       "      <td>4.0</td>\n",
       "      <td>3.921498</td>\n",
       "    </tr>\n",
       "    <tr>\n",
       "      <th>1</th>\n",
       "      <td>nylon-coffee-roasters-singapore</td>\n",
       "      <td>5.0</td>\n",
       "      <td>5.0</td>\n",
       "      <td>209</td>\n",
       "      <td>5.0</td>\n",
       "      <td>5.0</td>\n",
       "      <td>4.900086</td>\n",
       "    </tr>\n",
       "    <tr>\n",
       "      <th>2</th>\n",
       "      <td>da-paolo-gastronomia-holland-village-singapore-2</td>\n",
       "      <td>4.0</td>\n",
       "      <td>4.0</td>\n",
       "      <td>306</td>\n",
       "      <td>4.0</td>\n",
       "      <td>4.0</td>\n",
       "      <td>3.924546</td>\n",
       "    </tr>\n",
       "  </tbody>\n",
       "</table>\n",
       "</div>"
      ],
      "text/plain": [
       "                                              shops  predicted_ratings  \\\n",
       "0                         long-black-cafe-singapore                4.0   \n",
       "1                   nylon-coffee-roasters-singapore                5.0   \n",
       "2  da-paolo-gastronomia-holland-village-singapore-2                4.0   \n",
       "\n",
       "   actual_ratings  userids  ratings  prediction_rounded  prediction  \n",
       "0             4.0      789      4.0                 4.0    3.921498  \n",
       "1             5.0      209      5.0                 5.0    4.900086  \n",
       "2             4.0      306      4.0                 4.0    3.924546  "
      ]
     },
     "execution_count": 34,
     "metadata": {},
     "output_type": "execute_result"
    }
   ],
   "source": [
    "#checking out the first few rows of the merged dataset that has been trimmed of NaNs...\n",
    "con_collab_110_tst.head(3)"
   ]
  },
  {
   "cell_type": "code",
   "execution_count": 35,
   "metadata": {},
   "outputs": [],
   "source": [
    "#loading decisiontreeclassifier model\n",
    "#loaded_model = joblib.load('yelp_data/xgb_model.sav')"
   ]
  },
  {
   "cell_type": "code",
   "execution_count": 1,
   "metadata": {},
   "outputs": [],
   "source": [
    "#decisiontreeclassifier for content-based filtering had a test accuracy score of 0.85\n",
    "#loaded_model.best_estimator_.score(X_test_sc,y_test)"
   ]
  },
  {
   "cell_type": "markdown",
   "metadata": {},
   "source": [
    "<ul>\n",
    "    \n",
    "- Suggest baseline score for hybrid recommender is the average of the content-based and collaborative filtering baseline accuracies, i.e. \n",
    "    \n",
    "    $Hybrid\\ recommender\\ baseline\\ accuracy = \\frac{0.48 + 0.47}{2} = 0.48$"
   ]
  },
  {
   "cell_type": "markdown",
   "metadata": {},
   "source": [
    "<img src=\"yelp_data/extended_xgb_1.png\"/>"
   ]
  },
  {
   "cell_type": "markdown",
   "metadata": {},
   "source": [
    "<ul>\n",
    "    \n",
    "- The above shows tuned XGB Classifier's micro-averaged $F_1$ is 0.97! This shall be the weight for content-based filtering!\n"
   ]
  },
  {
   "cell_type": "markdown",
   "metadata": {},
   "source": [
    "<img src=\"yelp_data/extended_als.png\"/>"
   ]
  },
  {
   "cell_type": "markdown",
   "metadata": {},
   "source": [
    "<ul>\n",
    "    \n",
    "- The above shows re-tuned ALS' micro-averaged $F_1$ is 1.0! This shall be the weight for collaborative filtering!"
   ]
  },
  {
   "cell_type": "code",
   "execution_count": 2,
   "metadata": {},
   "outputs": [],
   "source": [
    "#since we are not tuning the models further, let's use the respective models' F1 scores to weight each model's rating predictions!\n",
    "con_wt = 0.97 / (0.97 + 1.0)\n",
    "collab_wt = 1.0 / (0.97 + 1.0)"
   ]
  },
  {
   "cell_type": "code",
   "execution_count": 38,
   "metadata": {},
   "outputs": [],
   "source": [
    "#creating a new column containing the weighted sum of rating predictions from content-based and collaborative filtering\n",
    "con_collab_110_tst['final_rating_predictions'] = (con_collab_110_tst['predicted_ratings']*con_wt) + (con_collab_110_tst['prediction']*collab_wt)"
   ]
  },
  {
   "cell_type": "code",
   "execution_count": 39,
   "metadata": {},
   "outputs": [
    {
     "data": {
      "text/html": [
       "<div>\n",
       "<style scoped>\n",
       "    .dataframe tbody tr th:only-of-type {\n",
       "        vertical-align: middle;\n",
       "    }\n",
       "\n",
       "    .dataframe tbody tr th {\n",
       "        vertical-align: top;\n",
       "    }\n",
       "\n",
       "    .dataframe thead th {\n",
       "        text-align: right;\n",
       "    }\n",
       "</style>\n",
       "<table border=\"1\" class=\"dataframe\">\n",
       "  <thead>\n",
       "    <tr style=\"text-align: right;\">\n",
       "      <th></th>\n",
       "      <th>shops</th>\n",
       "      <th>predicted_ratings</th>\n",
       "      <th>actual_ratings</th>\n",
       "      <th>userids</th>\n",
       "      <th>ratings</th>\n",
       "      <th>prediction_rounded</th>\n",
       "      <th>prediction</th>\n",
       "      <th>final_rating_predictions</th>\n",
       "    </tr>\n",
       "  </thead>\n",
       "  <tbody>\n",
       "    <tr>\n",
       "      <th>0</th>\n",
       "      <td>long-black-cafe-singapore</td>\n",
       "      <td>4.0</td>\n",
       "      <td>4.0</td>\n",
       "      <td>789</td>\n",
       "      <td>4.0</td>\n",
       "      <td>4.0</td>\n",
       "      <td>3.921498</td>\n",
       "      <td>3.960151</td>\n",
       "    </tr>\n",
       "    <tr>\n",
       "      <th>1</th>\n",
       "      <td>nylon-coffee-roasters-singapore</td>\n",
       "      <td>5.0</td>\n",
       "      <td>5.0</td>\n",
       "      <td>209</td>\n",
       "      <td>5.0</td>\n",
       "      <td>5.0</td>\n",
       "      <td>4.900086</td>\n",
       "      <td>4.949282</td>\n",
       "    </tr>\n",
       "    <tr>\n",
       "      <th>2</th>\n",
       "      <td>da-paolo-gastronomia-holland-village-singapore-2</td>\n",
       "      <td>4.0</td>\n",
       "      <td>4.0</td>\n",
       "      <td>306</td>\n",
       "      <td>4.0</td>\n",
       "      <td>4.0</td>\n",
       "      <td>3.924546</td>\n",
       "      <td>3.961698</td>\n",
       "    </tr>\n",
       "  </tbody>\n",
       "</table>\n",
       "</div>"
      ],
      "text/plain": [
       "                                              shops  predicted_ratings  \\\n",
       "0                         long-black-cafe-singapore                4.0   \n",
       "1                   nylon-coffee-roasters-singapore                5.0   \n",
       "2  da-paolo-gastronomia-holland-village-singapore-2                4.0   \n",
       "\n",
       "   actual_ratings  userids  ratings  prediction_rounded  prediction  \\\n",
       "0             4.0      789      4.0                 4.0    3.921498   \n",
       "1             5.0      209      5.0                 5.0    4.900086   \n",
       "2             4.0      306      4.0                 4.0    3.924546   \n",
       "\n",
       "   final_rating_predictions  \n",
       "0                  3.960151  \n",
       "1                  4.949282  \n",
       "2                  3.961698  "
      ]
     },
     "execution_count": 39,
     "metadata": {},
     "output_type": "execute_result"
    }
   ],
   "source": [
    "#checking out the new df with added column...\n",
    "con_collab_110_tst.head(3)"
   ]
  },
  {
   "cell_type": "code",
   "execution_count": 40,
   "metadata": {},
   "outputs": [],
   "source": [
    "#rounding the computed final rating predictions to 0 decimal place so that it can be compared to the actual ratings (which are also discrete whole numbers) via the f1 score...\n",
    "con_collab_110_tst['final_rating_predictions_rd'] = round(con_collab_110_tst['final_rating_predictions'],0)"
   ]
  },
  {
   "cell_type": "code",
   "execution_count": 41,
   "metadata": {},
   "outputs": [
    {
     "data": {
      "text/html": [
       "<div>\n",
       "<style scoped>\n",
       "    .dataframe tbody tr th:only-of-type {\n",
       "        vertical-align: middle;\n",
       "    }\n",
       "\n",
       "    .dataframe tbody tr th {\n",
       "        vertical-align: top;\n",
       "    }\n",
       "\n",
       "    .dataframe thead th {\n",
       "        text-align: right;\n",
       "    }\n",
       "</style>\n",
       "<table border=\"1\" class=\"dataframe\">\n",
       "  <thead>\n",
       "    <tr style=\"text-align: right;\">\n",
       "      <th></th>\n",
       "      <th>shops</th>\n",
       "      <th>predicted_ratings</th>\n",
       "      <th>actual_ratings</th>\n",
       "      <th>userids</th>\n",
       "      <th>ratings</th>\n",
       "      <th>prediction_rounded</th>\n",
       "      <th>prediction</th>\n",
       "      <th>final_rating_predictions</th>\n",
       "      <th>final_rating_predictions_rd</th>\n",
       "    </tr>\n",
       "  </thead>\n",
       "  <tbody>\n",
       "    <tr>\n",
       "      <th>0</th>\n",
       "      <td>long-black-cafe-singapore</td>\n",
       "      <td>4.0</td>\n",
       "      <td>4.0</td>\n",
       "      <td>789</td>\n",
       "      <td>4.0</td>\n",
       "      <td>4.0</td>\n",
       "      <td>3.921498</td>\n",
       "      <td>3.960151</td>\n",
       "      <td>4.0</td>\n",
       "    </tr>\n",
       "    <tr>\n",
       "      <th>1</th>\n",
       "      <td>nylon-coffee-roasters-singapore</td>\n",
       "      <td>5.0</td>\n",
       "      <td>5.0</td>\n",
       "      <td>209</td>\n",
       "      <td>5.0</td>\n",
       "      <td>5.0</td>\n",
       "      <td>4.900086</td>\n",
       "      <td>4.949282</td>\n",
       "      <td>5.0</td>\n",
       "    </tr>\n",
       "    <tr>\n",
       "      <th>2</th>\n",
       "      <td>da-paolo-gastronomia-holland-village-singapore-2</td>\n",
       "      <td>4.0</td>\n",
       "      <td>4.0</td>\n",
       "      <td>306</td>\n",
       "      <td>4.0</td>\n",
       "      <td>4.0</td>\n",
       "      <td>3.924546</td>\n",
       "      <td>3.961698</td>\n",
       "      <td>4.0</td>\n",
       "    </tr>\n",
       "  </tbody>\n",
       "</table>\n",
       "</div>"
      ],
      "text/plain": [
       "                                              shops  predicted_ratings  \\\n",
       "0                         long-black-cafe-singapore                4.0   \n",
       "1                   nylon-coffee-roasters-singapore                5.0   \n",
       "2  da-paolo-gastronomia-holland-village-singapore-2                4.0   \n",
       "\n",
       "   actual_ratings  userids  ratings  prediction_rounded  prediction  \\\n",
       "0             4.0      789      4.0                 4.0    3.921498   \n",
       "1             5.0      209      5.0                 5.0    4.900086   \n",
       "2             4.0      306      4.0                 4.0    3.924546   \n",
       "\n",
       "   final_rating_predictions  final_rating_predictions_rd  \n",
       "0                  3.960151                          4.0  \n",
       "1                  4.949282                          5.0  \n",
       "2                  3.961698                          4.0  "
      ]
     },
     "execution_count": 41,
     "metadata": {},
     "output_type": "execute_result"
    }
   ],
   "source": [
    "#checking out the first few rows of the df containing the rounded prediction column...\n",
    "con_collab_110_tst.head(3)"
   ]
  },
  {
   "cell_type": "code",
   "execution_count": 57,
   "metadata": {},
   "outputs": [
    {
     "data": {
      "text/html": [
       "<div>\n",
       "<style scoped>\n",
       "    .dataframe tbody tr th:only-of-type {\n",
       "        vertical-align: middle;\n",
       "    }\n",
       "\n",
       "    .dataframe tbody tr th {\n",
       "        vertical-align: top;\n",
       "    }\n",
       "\n",
       "    .dataframe thead th {\n",
       "        text-align: right;\n",
       "    }\n",
       "</style>\n",
       "<table border=\"1\" class=\"dataframe\">\n",
       "  <thead>\n",
       "    <tr style=\"text-align: right;\">\n",
       "      <th></th>\n",
       "      <th>shops</th>\n",
       "      <th>actual_ratings</th>\n",
       "      <th>userids</th>\n",
       "      <th>final_rating_predictions_rd</th>\n",
       "      <th>final_rating_predictions</th>\n",
       "    </tr>\n",
       "  </thead>\n",
       "  <tbody>\n",
       "    <tr>\n",
       "      <th>13</th>\n",
       "      <td>clementi-881-coffee-station-singapore</td>\n",
       "      <td>5.0</td>\n",
       "      <td>322</td>\n",
       "      <td>5.0</td>\n",
       "      <td>4.961556</td>\n",
       "    </tr>\n",
       "    <tr>\n",
       "      <th>33</th>\n",
       "      <td>maxwell-food-centre-singapore-3</td>\n",
       "      <td>5.0</td>\n",
       "      <td>1868</td>\n",
       "      <td>5.0</td>\n",
       "      <td>4.960391</td>\n",
       "    </tr>\n",
       "    <tr>\n",
       "      <th>92</th>\n",
       "      <td>the-flying-squirrel-singapore</td>\n",
       "      <td>5.0</td>\n",
       "      <td>2073</td>\n",
       "      <td>5.0</td>\n",
       "      <td>4.959476</td>\n",
       "    </tr>\n",
       "    <tr>\n",
       "      <th>85</th>\n",
       "      <td>praelum-wine-bistro-singapore</td>\n",
       "      <td>5.0</td>\n",
       "      <td>1894</td>\n",
       "      <td>5.0</td>\n",
       "      <td>4.957876</td>\n",
       "    </tr>\n",
       "    <tr>\n",
       "      <th>66</th>\n",
       "      <td>yahava-koffeeworks-singapore</td>\n",
       "      <td>5.0</td>\n",
       "      <td>57</td>\n",
       "      <td>5.0</td>\n",
       "      <td>4.956690</td>\n",
       "    </tr>\n",
       "  </tbody>\n",
       "</table>\n",
       "</div>"
      ],
      "text/plain": [
       "                                    shops  actual_ratings  userids  \\\n",
       "13  clementi-881-coffee-station-singapore             5.0      322   \n",
       "33        maxwell-food-centre-singapore-3             5.0     1868   \n",
       "92          the-flying-squirrel-singapore             5.0     2073   \n",
       "85          praelum-wine-bistro-singapore             5.0     1894   \n",
       "66           yahava-koffeeworks-singapore             5.0       57   \n",
       "\n",
       "    final_rating_predictions_rd  final_rating_predictions  \n",
       "13                          5.0                  4.961556  \n",
       "33                          5.0                  4.960391  \n",
       "92                          5.0                  4.959476  \n",
       "85                          5.0                  4.957876  \n",
       "66                          5.0                  4.956690  "
      ]
     },
     "execution_count": 57,
     "metadata": {},
     "output_type": "execute_result"
    }
   ],
   "source": [
    "#getting a sense of the top 5 recommendations from this hybrid system; seems like the hybrid system's predictions are identical to the actual ratings for the top 5 recommendations!\n",
    "con_collab_110_tst[['shops','actual_ratings','userids','final_rating_predictions_rd','final_rating_predictions']].sort_values('final_rating_predictions',ascending=False).head()"
   ]
  },
  {
   "cell_type": "code",
   "execution_count": 43,
   "metadata": {},
   "outputs": [
    {
     "name": "stdout",
     "output_type": "stream",
     "text": [
      "              precision    recall  f1-score   support\n",
      "\n",
      "         3.0       1.00      1.00      1.00        10\n",
      "         4.0       1.00      1.00      1.00        50\n",
      "         5.0       1.00      1.00      1.00        40\n",
      "\n",
      "    accuracy                           1.00       100\n",
      "   macro avg       1.00      1.00      1.00       100\n",
      "weighted avg       1.00      1.00      1.00       100\n",
      "\n"
     ]
    }
   ],
   "source": [
    "#however, the hybrid system is rather weak in predicting rating 2...but at least it performed well for the other 3 rating classes (3,4,5)\n",
    "print(classification_report(con_collab_110_tst['actual_ratings'],con_collab_110_tst['final_rating_predictions_rd']))"
   ]
  },
  {
   "cell_type": "code",
   "execution_count": 44,
   "metadata": {},
   "outputs": [
    {
     "data": {
      "text/html": [
       "<div>\n",
       "<style scoped>\n",
       "    .dataframe tbody tr th:only-of-type {\n",
       "        vertical-align: middle;\n",
       "    }\n",
       "\n",
       "    .dataframe tbody tr th {\n",
       "        vertical-align: top;\n",
       "    }\n",
       "\n",
       "    .dataframe thead th {\n",
       "        text-align: right;\n",
       "    }\n",
       "</style>\n",
       "<table border=\"1\" class=\"dataframe\">\n",
       "  <thead>\n",
       "    <tr style=\"text-align: right;\">\n",
       "      <th></th>\n",
       "      <th>shops</th>\n",
       "      <th>predicted_ratings</th>\n",
       "      <th>actual_ratings</th>\n",
       "      <th>userids</th>\n",
       "      <th>ratings</th>\n",
       "      <th>prediction_rounded</th>\n",
       "      <th>prediction</th>\n",
       "      <th>final_rating_predictions</th>\n",
       "      <th>final_rating_predictions_rd</th>\n",
       "    </tr>\n",
       "  </thead>\n",
       "  <tbody>\n",
       "  </tbody>\n",
       "</table>\n",
       "</div>"
      ],
      "text/plain": [
       "Empty DataFrame\n",
       "Columns: [shops, predicted_ratings, actual_ratings, userids, ratings, prediction_rounded, prediction, final_rating_predictions, final_rating_predictions_rd]\n",
       "Index: []"
      ]
     },
     "execution_count": 44,
     "metadata": {},
     "output_type": "execute_result"
    }
   ],
   "source": [
    "#appears there were no rating 1 in the 36 rows of common outlets between content-based filtering and collaborative filtering..\n",
    "con_collab_110_tst[con_collab_110_tst['actual_ratings']==1.0]"
   ]
  },
  {
   "cell_type": "markdown",
   "metadata": {},
   "source": [
    "## Defining functions for evaluation of model\n",
    "---"
   ]
  },
  {
   "cell_type": "code",
   "execution_count": 45,
   "metadata": {},
   "outputs": [],
   "source": [
    "#defining function for obtaining tn, fp, fn, tp for each rating class for feeding into micro-avg precision and recall functions defined below\n",
    "def cm_spec(y_true,y_pred,rating,state):\n",
    "    if state=='tn':\n",
    "        return multilabel_confusion_matrix(y_true,y_pred)[rating-3][0][0]\n",
    "    elif state=='fp':\n",
    "        return multilabel_confusion_matrix(y_true,y_pred)[rating-3][0][1]\n",
    "    elif state=='fn':\n",
    "        return multilabel_confusion_matrix(y_true,y_pred)[rating-3][1][0]\n",
    "    else:\n",
    "        return multilabel_confusion_matrix(y_true,y_pred)[rating-3][1][1]\n",
    "    "
   ]
  },
  {
   "cell_type": "code",
   "execution_count": 46,
   "metadata": {},
   "outputs": [],
   "source": [
    "#defining function for obtaining micro-avg precision\n",
    "def micro_avg_precision(y_true,y_pred):\n",
    "    return ((cm_spec(y_true,y_pred,1,'tp')+\n",
    "                                                 cm_spec(y_true,y_pred,2,'tp')+\n",
    "                                                 cm_spec(y_true,y_pred,3,'tp')+\n",
    "                                                 cm_spec(y_true,y_pred,4,'tp')+\n",
    "                                                 cm_spec(y_true,y_pred,5,'tp'))/(\n",
    "                                                cm_spec(y_true,y_pred,1,'tp')+\n",
    "                                                 cm_spec(y_true,y_pred,2,'tp')+\n",
    "                                                 cm_spec(y_true,y_pred,3,'tp')+\n",
    "                                                 cm_spec(y_true,y_pred,4,'tp')+\n",
    "                                                 cm_spec(y_true,y_pred,5,'tp')+\n",
    "                                                cm_spec(y_true,y_pred,1,'fp')+\n",
    "                                                 cm_spec(y_true,y_pred,2,'fp')+\n",
    "                                                 cm_spec(y_true,y_pred,3,'fp')+\n",
    "                                                 cm_spec(y_true,y_pred,4,'fp')+\n",
    "                                                 cm_spec(y_true,y_pred,5,'fp')))"
   ]
  },
  {
   "cell_type": "code",
   "execution_count": 47,
   "metadata": {},
   "outputs": [],
   "source": [
    "#defining function for obtaining micro-avg recall\n",
    "def micro_avg_recall(y_true,y_pred):\n",
    "    return ((cm_spec(y_true,y_pred,1,'tp')+\n",
    "                                                 cm_spec(y_true,y_pred,2,'tp')+\n",
    "                                                 cm_spec(y_true,y_pred,3,'tp')+\n",
    "                                                 cm_spec(y_true,y_pred,4,'tp')+\n",
    "                                                 cm_spec(y_true,y_pred,5,'tp'))/(\n",
    "                                                cm_spec(y_true,y_pred,1,'tp')+\n",
    "                                                 cm_spec(y_true,y_pred,2,'tp')+\n",
    "                                                 cm_spec(y_true,y_pred,3,'tp')+\n",
    "                                                 cm_spec(y_true,y_pred,4,'tp')+\n",
    "                                                 cm_spec(y_true,y_pred,5,'tp')+\n",
    "                                                cm_spec(y_true,y_pred,1,'fn')+\n",
    "                                                 cm_spec(y_true,y_pred,2,'fn')+\n",
    "                                                 cm_spec(y_true,y_pred,3,'fn')+\n",
    "                                                 cm_spec(y_true,y_pred,4,'fn')+\n",
    "                                                 cm_spec(y_true,y_pred,5,'fn')))"
   ]
  },
  {
   "cell_type": "code",
   "execution_count": 48,
   "metadata": {},
   "outputs": [],
   "source": [
    "#defining function for obtaining micro_avg_f1\n",
    "def micro_avg_f1(y_true,y_pred):\n",
    "    return 2 * ((micro_avg_precision(y_true,y_pred) * micro_avg_recall(y_true,y_pred))/(micro_avg_precision(y_true,y_pred) + micro_avg_recall(y_true,y_pred)))"
   ]
  },
  {
   "cell_type": "code",
   "execution_count": 49,
   "metadata": {},
   "outputs": [],
   "source": [
    "#function to print out confusion matrix breakdown for each rating class\n",
    "def confusion_breakdown(y_true,y_pred,rating):\n",
    "    print(\"True negatives for rating {}: {}\".format(\n",
    "        rating,multilabel_confusion_matrix(y_true,y_pred)[rating-3][0][0]))\n",
    "    print(\"False positives for rating {}: {}\".format(\n",
    "        rating,multilabel_confusion_matrix(y_true,y_pred)[rating-3][0][1]))\n",
    "    print(\"False negatives for rating {}: {}\".format(\n",
    "        rating,multilabel_confusion_matrix(y_true,y_pred)[rating-3][1][0]))\n",
    "    print(\"True positives for rating {}: {}\".format(\n",
    "        rating,multilabel_confusion_matrix(y_true,y_pred)[rating-3][1][1]))\n",
    "    return \"******************************************\""
   ]
  },
  {
   "cell_type": "code",
   "execution_count": 50,
   "metadata": {},
   "outputs": [
    {
     "name": "stdout",
     "output_type": "stream",
     "text": [
      "True negatives for rating 3: 90\n",
      "False positives for rating 3: 0\n",
      "False negatives for rating 3: 0\n",
      "True positives for rating 3: 10\n",
      "******************************************\n",
      "True negatives for rating 4: 50\n",
      "False positives for rating 4: 0\n",
      "False negatives for rating 4: 0\n",
      "True positives for rating 4: 50\n",
      "******************************************\n",
      "True negatives for rating 5: 60\n",
      "False positives for rating 5: 0\n",
      "False negatives for rating 5: 0\n",
      "True positives for rating 5: 40\n",
      "******************************************\n"
     ]
    }
   ],
   "source": [
    "print(confusion_breakdown(con_collab_110_tst['actual_ratings'],con_collab_110_tst['final_rating_predictions_rd'],3))\n",
    "print(confusion_breakdown(con_collab_110_tst['actual_ratings'],con_collab_110_tst['final_rating_predictions_rd'],4))\n",
    "print(confusion_breakdown(con_collab_110_tst['actual_ratings'],con_collab_110_tst['final_rating_predictions_rd'],5))"
   ]
  },
  {
   "cell_type": "code",
   "execution_count": 51,
   "metadata": {},
   "outputs": [
    {
     "name": "stdout",
     "output_type": "stream",
     "text": [
      "Hybrid recommender yielded accuracy:  1.0\n"
     ]
    }
   ],
   "source": [
    "print(\"Hybrid recommender yielded accuracy: \", (90+10+100+100)/(300))"
   ]
  },
  {
   "cell_type": "code",
   "execution_count": 52,
   "metadata": {},
   "outputs": [
    {
     "name": "stdout",
     "output_type": "stream",
     "text": [
      "Hybrid recommender yielded micro-averaged precision:  1.0\n"
     ]
    }
   ],
   "source": [
    "print(\"Hybrid recommender yielded micro-averaged precision: \", micro_avg_precision(con_collab_110_tst['actual_ratings'],con_collab_110_tst['final_rating_predictions_rd']))\n"
   ]
  },
  {
   "cell_type": "code",
   "execution_count": 53,
   "metadata": {},
   "outputs": [
    {
     "name": "stdout",
     "output_type": "stream",
     "text": [
      "Hybrid recommender yielded micro-averaged recall:  1.0\n"
     ]
    }
   ],
   "source": [
    "print(\"Hybrid recommender yielded micro-averaged recall: \", micro_avg_recall(con_collab_110_tst['actual_ratings'],con_collab_110_tst['final_rating_predictions_rd']))"
   ]
  },
  {
   "cell_type": "code",
   "execution_count": 54,
   "metadata": {},
   "outputs": [
    {
     "name": "stdout",
     "output_type": "stream",
     "text": [
      "Hybrid recommender yielded micro_avg_f1 of  1.0\n"
     ]
    }
   ],
   "source": [
    "print(\"Hybrid recommender yielded micro_avg_f1 of \", micro_avg_f1(con_collab_110_tst['actual_ratings'],con_collab_110_tst['final_rating_predictions_rd']))"
   ]
  },
  {
   "cell_type": "code",
   "execution_count": 55,
   "metadata": {},
   "outputs": [
    {
     "name": "stdout",
     "output_type": "stream",
     "text": [
      "              precision    recall  f1-score   support\n",
      "\n",
      "         3.0       1.00      1.00      1.00        10\n",
      "         4.0       1.00      1.00      1.00        50\n",
      "         5.0       1.00      1.00      1.00        40\n",
      "\n",
      "    accuracy                           1.00       100\n",
      "   macro avg       1.00      1.00      1.00       100\n",
      "weighted avg       1.00      1.00      1.00       100\n",
      "\n"
     ]
    }
   ],
   "source": [
    "#precision, recall, f1 of all rating classes show good performance except for rating 2, which shows quite a strong false positive count...\n",
    "print(classification_report(con_collab_110_tst['actual_ratings'],con_collab_110_tst['final_rating_predictions_rd']))"
   ]
  },
  {
   "cell_type": "markdown",
   "metadata": {},
   "source": [
    "## Hybrid Model Evaluation Result Interpretation\n",
    "---"
   ]
  },
  {
   "cell_type": "markdown",
   "metadata": {},
   "source": [
    "<ul>\n",
    "    \n",
    "- The updated hybrid recommender (XGB trained on 110 userids, with ALS trained and tested on data with stratified splitting based on userid performed astoundingly well in terms of predicting the ratings with perfect scores of 1.0 for precision, recall, and $F_1$ although it is unable to predict ratings 1.0 and 2.0 as the overlapped samples lacked those ratings...\n",
    "\n",
    "</ul>\n",
    "\n",
    "\n",
    "<ul>\n",
    "    \n",
    "- Accuracy of 1.0, Micro-Averaged precision of 1.0, Micro-Averaged recall of 1.0, Micro-Averaged $F_1$ of 1.0\n",
    "    \n",
    "</ul>\n"
   ]
  }
 ],
 "metadata": {
  "kernelspec": {
   "display_name": "Python 3",
   "language": "python",
   "name": "python3"
  },
  "language_info": {
   "codemirror_mode": {
    "name": "ipython",
    "version": 3
   },
   "file_extension": ".py",
   "mimetype": "text/x-python",
   "name": "python",
   "nbconvert_exporter": "python",
   "pygments_lexer": "ipython3",
   "version": "3.7.6"
  }
 },
 "nbformat": 4,
 "nbformat_minor": 4
}
