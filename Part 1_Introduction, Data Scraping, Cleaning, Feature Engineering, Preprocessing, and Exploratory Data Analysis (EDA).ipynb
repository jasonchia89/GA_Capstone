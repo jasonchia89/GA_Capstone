{
 "cells": [
  {
   "cell_type": "markdown",
   "metadata": {},
   "source": [
    "# Capstone Project: Recommender for Local Coffee-Drinking Places\n",
    "    (Data obtained from Yelp)\n",
    "    (Author: Mr Jason Chia)"
   ]
  },
  {
   "cell_type": "markdown",
   "metadata": {},
   "source": [
    "## Background and Business Problem\n",
    "---\n",
    "\n",
    "- It is ever more challenging nowadays to decide on a prime spot for one's favorite cuppa coffee against the backdrop of a burgeoning food and beverage industry (FnB). With the younger generation rising to the occasion in recent years, we are seeing an increasing number of artisanal and creative FnB outlets, touting all sorts of innovative menu items that render the typical coffee consumers like you utterly spoilt for choice! Beyond these new up-and-coming outfits, don't forget the idyllic, quaint but ultimately good testaments to quality coffee such as traditional hawker centres and foodcourts - there are definitely more than one too many options for coffee-drinkers who prefer to pander to old times and nostalgia too!\n",
    "\n",
    "\n",
    "## Overview of Recommendation Systems and Project Objective\n",
    "---\n",
    "\n",
    "- Therefore, I am taking it upon myself to make your life that much easier by building a recommendation system that will recommend you coffee-drinking places based on reviews and ratings! So instead of poring over all outlets' reviews and checking out their individual ratings on Yelp one by one until one reaches the 1000th outlet before deciding which to settle for, users can potentially just rate a couple that they have been to before, click another button, and BAM!...Out comes the top 5 recommendations you can check out right away!\n",
    "\n",
    "\n",
    "- Types of recommendation systems include Collaborative Filtering - where a user's preferences are predicted from other similar users' and hence, the collaborative aspect, and ranking preference predictions in the form of rating predictions for example, to generate recommendations - and Content-based Filtering - where a user is recommended items similar in terms of item characteristics such as item category to the items once liked or rated highly by user. Collaborative Filtering allows the possibility of cross-recommendations - where items dissimilar to an item once liked or rated highly by user could be recommended to user based on high ratings by other users of similar tastes - but faces the cold-start problem - hard to predict preferences of new users who have never rating anything before or recommend new items that have not been rated before by users. Collaborative Filtering can be sub-divided further into Memory-based and Model-based. [Memory-based Collaborative Filtering](https://www.kaggle.com/gspmoreira/recommender-systems-in-python-101) is purely based on determining similarities between different users' preferences based on past users' rating patterns using some form of pairwise distance metric such as Jaccard distance metric or cosine similarity, while Model-based Collaborative Filtering relies upon an algorithm to model user-item interactions and thus has slightly higher bias but will generalize better to out-of-sample data and hence have lower variance. An example of a model-based collaborative filtering algorithm is the Alternating Least Squares (ALS) algorithm which is a matrix factorization technique that decomposes user-item interaction matrix (such as user-item ratings matrix for datasets with explicit feedback) into user and item latent factors where their dot product will predict user ratings. It alternates between fixing user or item latent factors to solve for the other via gradient descent at each iteration in the process of minimizing loss:\n",
    "    \n",
    "    \n",
    "<img src=\"yelp_data/matfact_explain.png\"/>\n",
    "\n",
    "\n",
    "- [User-centered Content-based Filtering](https://towardsdatascience.com/introduction-to-recommender-systems-6c66cf15ada) is about building a model for each user that predicts that user's rating for all the different items based on characteristics of the various items such as item category, item review count etc., in the process, learning that user's coefficients. A potential shortfall of Content-based Filtering is that it is unlikely to provide cross-recommendations - something that can be compensated by Collaborative Filtering in a hybrid recommendation system which will be what I will be building in this project, albeit a simple version... \n",
    "\n",
    "\n",
    "- Ideally, there should be one model built for each user in content-based filtering but for the purpose of a simple demonstration in this capstone project of 6-7 weeks, I will only be building and tuning one model for the user-centered content-based filtering component for the hybrid system for a sample user (userid 2043) who happened to have rated a vast majority of the coffee-drinking outlets contained within the dataset to be used for this project. Now this could potentially introduce bias since the content-based model will only be representative of this particular user's taste and preferences but we will see later on that's where a hybrid recommendation system's value shines through, with the collaborative filtering component compensating for this bias since it takes into account other similar users' ratings. \n",
    "\n",
    "\n",
    "## Process\n",
    "---\n",
    "\n",
    "- Data scraping: The data is a list of 987 coffee drinking places in Singapore scraped using Yelp's api token, 6,292 reviews, 7,076 ratings and userids of reviews scraped using BeautifulSoup from Yelp's website.\n",
    "\n",
    "\n",
    "- Data Cleaning, Feature Engineering, Preprocessing, and Exploratory Data Analysis (EDA)\n",
    "\n",
    "\n",
    "- Content-based Filtering and Evaluation (Micro-Average Precision, Recall, $F_1$, ROC AUC, and Prevalence-Weighted ROC AUC) (details inside Parts 2 - 6 notebooks): \n",
    "    1. Modeling with Logistic Regression and Tfidf vectorization\n",
    "    2. Modeling with Logistic Regression and Tfidf vectorization and PCA\n",
    "    3. Modeling with Decision Tree Classifier and Tfidf vectorization (performed best)\n",
    "    4. Modeling with Decision Tree Classifier and Tfidf vectorization and PCA\n",
    "    5. Modeling with Random Forest Classifier and Tfidf vectorization\n",
    "    \n",
    "\n",
    "- Collaborative Filtering with ALS and Evaluation (Micro-Average Precision, Recall, $F_1$) (details inside Part 7 notebook)\n",
    "\n",
    "\n",
    "- Hybrid Recommendation System Evaluation (Micro-Average Precision, Recall, $F_1$) (details inside Part 8 notebook)\n",
    "    1. Combination of Content-based and Collaborative Filtering by taking weighted sum of ratings from both as the final rating predictions\n",
    "\n",
    "\n",
    "- Simple Trial of Hybrid Recommendation System : 10 arbitrary ratings will be fed into the system to see if it works to churn out discernible recommendations (details inside Part 9 notebook)\n",
    "\n",
    "\n",
    "- Model Limitations and Potential Improvements (details inside Part 9 notebook)\n",
    "\n",
    "\n",
    "- Conclusions and Future Plans (details inside Part 9 notebook)\n",
    "\n",
    "\n",
    "## Milestones\n",
    "---\n",
    "\n",
    "- Milestone 1: Build User-Centered Content-based Filtering using a sample userid 2043 who has rated a vast majority of outlets using a supervised machine learning model (done)\n",
    "\n",
    "\n",
    "- Milestone 2: Build Model-based Collaborative Filtering using pyspark's ALS algorithm that is primed for collaborative filtering recommendation systems (done)\n",
    "\n",
    "\n",
    "- Milestone 3: Combine both Content-based and Collaborative Filtering into a hybrid system by weighting their respective predictions based on their tuned models' F1 scores to generate final user rating predictions for evaluation (done)\n",
    "\n",
    "\n",
    "- Milestone 4: Conduct a mini trial by posing as a user and feeding 10 arbitrary ratings into the hybrid system to generate recommendations (done)\n",
    "\n",
    "\n",
    "- Long-term goals beyond capstone presentation: Deployment tasks using Flask and Heroku (TBD)"
   ]
  },
  {
   "cell_type": "markdown",
   "metadata": {},
   "source": [
    "## Data Scraping, Cleaning, Feature Engineering, Preprocessing, and Exploratory Data Analysis (EDA)\n",
    "---\n",
    "\n",
    "- Importing relevant libraries first:"
   ]
  },
  {
   "cell_type": "code",
   "execution_count": 1,
   "metadata": {},
   "outputs": [],
   "source": [
    "#!pip install wordcloud"
   ]
  },
  {
   "cell_type": "code",
   "execution_count": 2,
   "metadata": {},
   "outputs": [
    {
     "name": "stderr",
     "output_type": "stream",
     "text": [
      "/Users/jasonchia/opt/anaconda3/lib/python3.7/site-packages/sklearn/utils/deprecation.py:144: FutureWarning: The sklearn.feature_extraction.stop_words module is  deprecated in version 0.22 and will be removed in version 0.24. The corresponding classes / functions should instead be imported from sklearn.feature_extraction.text. Anything that cannot be imported from sklearn.feature_extraction.text is now part of the private API.\n",
      "  warnings.warn(message, FutureWarning)\n"
     ]
    }
   ],
   "source": [
    "#import requests\n",
    "import random\n",
    "#import time\n",
    "import numpy as np\n",
    "import pandas as pd\n",
    "#from bs4 import BeautifulSoup as bs\n",
    "import re\n",
    "from sklearn.preprocessing import LabelEncoder\n",
    "#from os import path   #uncomment these if you have downloaded and installed wordcloud based on the instructions above\n",
    "#from PIL import Image\n",
    "#from wordcloud import WordCloud, STOPWORDS, ImageColorGenerator\n",
    "from sklearn.feature_extraction import stop_words\n",
    "from sklearn.feature_extraction.text import TfidfVectorizer\n",
    "from nltk.stem import WordNetLemmatizer\n",
    "import matplotlib.pyplot as plt\n",
    "import seaborn as sns\n",
    "from sklearn.model_selection import train_test_split, GridSearchCV, RandomizedSearchCV\n",
    "from sklearn.pipeline import Pipeline\n",
    "from sklearn.linear_model import LogisticRegression\n",
    "from sklearn.tree import DecisionTreeClassifier\n",
    "from sklearn.preprocessing import StandardScaler\n",
    "from sklearn.decomposition import PCA\n",
    "from sklearn.metrics import confusion_matrix, classification_report, roc_auc_score\n",
    "from sklearn.metrics import multilabel_confusion_matrix\n",
    "#from imblearn.over_sampling import ADASYN\n",
    "import joblib\n",
    "\n",
    "%matplotlib inline\n",
    "%config InlineBackend.figure_format = 'retina'"
   ]
  },
  {
   "cell_type": "code",
   "execution_count": 3,
   "metadata": {},
   "outputs": [],
   "source": [
    "#api_key = 'Vj_pNA3PAEMJnJ-Lxl-bHMYyre0RobZbTB5LVI3L3SE17vAZi-jH6Db0ZVHEwztlpFVefzT85W6emToeEk259xX2dxAbJhgd1FSOW4gZBlBaCGO3-YacNG-0HOptXnYx'"
   ]
  },
  {
   "cell_type": "code",
   "execution_count": 4,
   "metadata": {},
   "outputs": [],
   "source": [
    "#end_point = 'https://api.yelp.com/v3/businesses/search'"
   ]
  },
  {
   "cell_type": "code",
   "execution_count": 5,
   "metadata": {},
   "outputs": [],
   "source": [
    "#headers = {'Authorization': 'bearer %s' % api_key}"
   ]
  },
  {
   "cell_type": "code",
   "execution_count": 6,
   "metadata": {},
   "outputs": [],
   "source": [
    "#coffee_places_sg = []\n",
    "#for i in range(50):\n",
    " #   parameters_sg = {'term':'coffee',\n",
    "  #                'limit':50,\n",
    "   #               'radius':10000,\n",
    "    #              'offset':i*50,\n",
    "     #             'location':'Singapore'}\n",
    "\n",
    "#    response_sg = requests.get(url=end_point,params=parameters_sg,headers=headers)\n",
    " #   business_search_sg = response_sg.json()\n",
    "    \n",
    "  #  try:\n",
    "   #     [biz for biz in business_search_sg['businesses']] \n",
    "   # except:\n",
    "    #    print(\"no more businesses to be scraped!\")\n",
    "     #   break\n",
    "  #  coffee_places_sg.extend([biz for biz in business_search_sg['businesses']])\n",
    "  #  pd.DataFrame(coffee_places_sg).to_csv('yelp_data/coffee_places_sg.csv',index=False)\n",
    "  #  print(\"{} sg coffee places scraped!\".format(len(coffee_places_sg)))\n",
    "  #  sleep_duration = random.randint(120,240)\n",
    "  #  print(sleep_duration)\n",
    "  #  time.sleep(sleep_duration)"
   ]
  },
  {
   "cell_type": "code",
   "execution_count": 7,
   "metadata": {
    "scrolled": true
   },
   "outputs": [
    {
     "data": {
      "text/html": [
       "<div>\n",
       "<style scoped>\n",
       "    .dataframe tbody tr th:only-of-type {\n",
       "        vertical-align: middle;\n",
       "    }\n",
       "\n",
       "    .dataframe tbody tr th {\n",
       "        vertical-align: top;\n",
       "    }\n",
       "\n",
       "    .dataframe thead th {\n",
       "        text-align: right;\n",
       "    }\n",
       "</style>\n",
       "<table border=\"1\" class=\"dataframe\">\n",
       "  <thead>\n",
       "    <tr style=\"text-align: right;\">\n",
       "      <th></th>\n",
       "      <th>id</th>\n",
       "      <th>alias</th>\n",
       "      <th>name</th>\n",
       "      <th>image_url</th>\n",
       "      <th>is_closed</th>\n",
       "      <th>url</th>\n",
       "      <th>review_count</th>\n",
       "      <th>categories</th>\n",
       "      <th>rating</th>\n",
       "      <th>coordinates</th>\n",
       "      <th>transactions</th>\n",
       "      <th>price</th>\n",
       "      <th>location</th>\n",
       "      <th>phone</th>\n",
       "      <th>display_phone</th>\n",
       "      <th>distance</th>\n",
       "    </tr>\n",
       "  </thead>\n",
       "  <tbody>\n",
       "    <tr>\n",
       "      <th>0</th>\n",
       "      <td>NcgdacFqZtFllBrJQglcPQ</td>\n",
       "      <td>nylon-coffee-roasters-singapore</td>\n",
       "      <td>Nylon Coffee Roasters</td>\n",
       "      <td>https://s3-media2.fl.yelpcdn.com/bphoto/LV3F1g...</td>\n",
       "      <td>False</td>\n",
       "      <td>https://www.yelp.com/biz/nylon-coffee-roasters...</td>\n",
       "      <td>70</td>\n",
       "      <td>[{'alias': 'coffeeroasteries', 'title': 'Coffe...</td>\n",
       "      <td>4.5</td>\n",
       "      <td>{'latitude': 1.276809987029, 'longitude': 103....</td>\n",
       "      <td>[]</td>\n",
       "      <td>$</td>\n",
       "      <td>{'address1': '4 Everton Park', 'address2': '# ...</td>\n",
       "      <td>6.562202e+09</td>\n",
       "      <td>+65 6220 2330</td>\n",
       "      <td>4267.253090</td>\n",
       "    </tr>\n",
       "    <tr>\n",
       "      <th>1</th>\n",
       "      <td>qjF6uy-z3JsBKLPM0Uq-bQ</td>\n",
       "      <td>common-man-coffee-roasters-singapore</td>\n",
       "      <td>Common Man Coffee Roasters</td>\n",
       "      <td>https://s3-media2.fl.yelpcdn.com/bphoto/BozNK4...</td>\n",
       "      <td>False</td>\n",
       "      <td>https://www.yelp.com/biz/common-man-coffee-roa...</td>\n",
       "      <td>83</td>\n",
       "      <td>[{'alias': 'coffeeroasteries', 'title': 'Coffe...</td>\n",
       "      <td>4.0</td>\n",
       "      <td>{'latitude': 1.29186, 'longitude': 103.83842}</td>\n",
       "      <td>[]</td>\n",
       "      <td>$$</td>\n",
       "      <td>{'address1': '22 Martin Rd', 'address2': '#01-...</td>\n",
       "      <td>6.568365e+09</td>\n",
       "      <td>+65 6836 4695</td>\n",
       "      <td>2737.905606</td>\n",
       "    </tr>\n",
       "    <tr>\n",
       "      <th>2</th>\n",
       "      <td>E1bWrjBJDrHUKqzu3SPt3w</td>\n",
       "      <td>tolidos-espresso-nook-singapore-3</td>\n",
       "      <td>Tolido's Espresso Nook</td>\n",
       "      <td>https://s3-media2.fl.yelpcdn.com/bphoto/cu45w5...</td>\n",
       "      <td>False</td>\n",
       "      <td>https://www.yelp.com/biz/tolidos-espresso-nook...</td>\n",
       "      <td>64</td>\n",
       "      <td>[{'alias': 'breakfast_brunch', 'title': 'Break...</td>\n",
       "      <td>4.5</td>\n",
       "      <td>{'latitude': 1.30453486052728, 'longitude': 10...</td>\n",
       "      <td>[]</td>\n",
       "      <td>$$</td>\n",
       "      <td>{'address1': '462 Crawford Ln', 'address2': '#...</td>\n",
       "      <td>6.566480e+09</td>\n",
       "      <td>+65 6648 0178</td>\n",
       "      <td>1717.887930</td>\n",
       "    </tr>\n",
       "  </tbody>\n",
       "</table>\n",
       "</div>"
      ],
      "text/plain": [
       "                       id                                 alias  \\\n",
       "0  NcgdacFqZtFllBrJQglcPQ       nylon-coffee-roasters-singapore   \n",
       "1  qjF6uy-z3JsBKLPM0Uq-bQ  common-man-coffee-roasters-singapore   \n",
       "2  E1bWrjBJDrHUKqzu3SPt3w     tolidos-espresso-nook-singapore-3   \n",
       "\n",
       "                         name  \\\n",
       "0       Nylon Coffee Roasters   \n",
       "1  Common Man Coffee Roasters   \n",
       "2      Tolido's Espresso Nook   \n",
       "\n",
       "                                           image_url  is_closed  \\\n",
       "0  https://s3-media2.fl.yelpcdn.com/bphoto/LV3F1g...      False   \n",
       "1  https://s3-media2.fl.yelpcdn.com/bphoto/BozNK4...      False   \n",
       "2  https://s3-media2.fl.yelpcdn.com/bphoto/cu45w5...      False   \n",
       "\n",
       "                                                 url  review_count  \\\n",
       "0  https://www.yelp.com/biz/nylon-coffee-roasters...            70   \n",
       "1  https://www.yelp.com/biz/common-man-coffee-roa...            83   \n",
       "2  https://www.yelp.com/biz/tolidos-espresso-nook...            64   \n",
       "\n",
       "                                          categories  rating  \\\n",
       "0  [{'alias': 'coffeeroasteries', 'title': 'Coffe...     4.5   \n",
       "1  [{'alias': 'coffeeroasteries', 'title': 'Coffe...     4.0   \n",
       "2  [{'alias': 'breakfast_brunch', 'title': 'Break...     4.5   \n",
       "\n",
       "                                         coordinates transactions price  \\\n",
       "0  {'latitude': 1.276809987029, 'longitude': 103....           []     $   \n",
       "1      {'latitude': 1.29186, 'longitude': 103.83842}           []    $$   \n",
       "2  {'latitude': 1.30453486052728, 'longitude': 10...           []    $$   \n",
       "\n",
       "                                            location         phone  \\\n",
       "0  {'address1': '4 Everton Park', 'address2': '# ...  6.562202e+09   \n",
       "1  {'address1': '22 Martin Rd', 'address2': '#01-...  6.568365e+09   \n",
       "2  {'address1': '462 Crawford Ln', 'address2': '#...  6.566480e+09   \n",
       "\n",
       "   display_phone     distance  \n",
       "0  +65 6220 2330  4267.253090  \n",
       "1  +65 6836 4695  2737.905606  \n",
       "2  +65 6648 0178  1717.887930  "
      ]
     },
     "execution_count": 7,
     "metadata": {},
     "output_type": "execute_result"
    }
   ],
   "source": [
    "#reading in the scraped preliminary dataset sans the reviews and user ratings...\n",
    "df = pd.read_csv('yelp_data/coffee_places_sg.csv') \n",
    "df.head(3)"
   ]
  },
  {
   "cell_type": "code",
   "execution_count": 8,
   "metadata": {},
   "outputs": [],
   "source": [
    "#aliases_sg = list(set(df['alias'].tolist()))"
   ]
  },
  {
   "cell_type": "markdown",
   "metadata": {},
   "source": [
    "<ul> \n",
    "    \n",
    "- The above used an API token from Yelp to scrape data to see what preliminary info I could get. The ```aliases_sg``` variable was then derived from the preliminary info (```df```) to scrape the userids, user reviews and ratings, using ```BeautifulSoup```, which are not obtainable using the API token - the token only allows scraping 3 reviews per outlet... \n",
    "\n",
    "</ul>"
   ]
  },
  {
   "cell_type": "code",
   "execution_count": 9,
   "metadata": {},
   "outputs": [],
   "source": [
    "#new code; caveat - some stores may have updated and past reviews and ratings provided by the same user.\n",
    "#sg_store_rev = {} #to scrape reviews from sg coffee places \n",
    "#sg_store_rating = {} #to scrape ratings from sg coffee places; \n",
    "#sg_store_userid = {} #to scrape userids for reviews and ratings from sg coffee places\n",
    "#outlet_count = 0\n",
    "#for alias in aliases_sg:\n",
    "    #count = 0\n",
    "    #sg_url = \"https://www.yelp.com/biz/{}?osq=coffee\".format(alias)\n",
    "    #print(sg_url)\n",
    "    #sg_store = requests.get(sg_url)\n",
    "    #sg_store_soup = bs(sg_store.content, 'lxml')\n",
    "    #if sg_store_soup.find_all('span',{'itemprop':'reviewCount'}) ==[]:\n",
    "        #print(alias, \"no reviews\")\n",
    "        #outlet_count += 1\n",
    "        #print(\"{} stores out of {} stores done!\".format(outlet_count,len(aliases_sg)))\n",
    "        #pd.DataFrame({key:pd.Series(value) for key, value in sg_store_rev.items()}).to_csv('yelp_data/sg_store_rev.csv', index=False)\n",
    "        #pd.DataFrame({key:pd.Series(value) for key, value in sg_store_rating.items()}).to_csv('yelp_data/sg_store_rating.csv', index=False)\n",
    "        #pd.DataFrame({key:pd.Series(value) for key, value in sg_store_userid.items()}).to_csv('yelp_data/sg_store_userid.csv', index=False)\n",
    "        #sleep_duration = random.randint(15,50)\n",
    "        #print(\"Resting {} seconds...\".format(sleep_duration))\n",
    "        #print(\" \")\n",
    "        #time.sleep(sleep_duration)\n",
    "        #continue\n",
    "    #else:\n",
    "        #next_url = sg_url + \"&start=\" + str(count+20)\n",
    "        #print(\"Checking to see if next page for this store {} has any reviews and ratings to scrape...\".format(next_url))\n",
    "        #print(\" \")\n",
    "        #sg_store_next_url = next_url\n",
    "        #sg_store_next_page = requests.get(sg_store_next_url)\n",
    "        #sg_store_next_page_soup = bs(sg_store_next_page.content, 'lxml')\n",
    "        #if [tag.text for tag in sg_store_next_page_soup.find_all('span',{'lang':'en'})] == []:\n",
    "            #print(\"Nope! This store only has 1 page of reviews and ratings to be scraped! Let's go!\")\n",
    "            #print(\" \")\n",
    "            #if [tag.text for tag in sg_store_soup.find_all('span',{'lang':'en'})] == []:\n",
    "                #print(\"But...there are no english reviews...so let's move on!\")\n",
    "                #sg_store_reviews = []\n",
    "                #sg_store_ratings = []\n",
    "                #sg_store_userids = []\n",
    "                #sg_store_rev[alias] = sg_store_reviews\n",
    "                #sg_store_rating[alias] = sg_store_ratings\n",
    "                #sg_store_userid[alias] = sg_store_userids\n",
    "                #print(\"Store {} has {} english reviews\".format(alias,len(sg_store_reviews)))\n",
    "                #print(\" \")\n",
    "                #outlet_count += 1\n",
    "                #print(\"{} stores out of {} stores done!\".format(outlet_count,len(aliases_sg)))\n",
    "                #print(\" \")\n",
    "                #pd.DataFrame({key:pd.Series(value) for key, value in sg_store_rev.items()}).to_csv('yelp_data/sg_store_rev.csv', index=False)\n",
    "                #pd.DataFrame({key:pd.Series(value) for key, value in sg_store_rating.items()}).to_csv('yelp_data/sg_store_rating.csv', index=False)\n",
    "                #pd.DataFrame({key:pd.Series(value) for key, value in sg_store_userid.items()}).to_csv('yelp_data/sg_store_userid.csv', index=False)\n",
    "                #sleep_duration = random.randint(15,50)\n",
    "                #print(\"Resting {} seconds...\".format(sleep_duration))\n",
    "                #print(\" \")\n",
    "                #time.sleep(sleep_duration)\n",
    "                #continue\n",
    "            #else:\n",
    "                #sg_store_reviews = [tag.text for tag in sg_store_soup.find_all('span',{'lang':'en'})]\n",
    "              #  print(\"First review of page: {}\".format(sg_store_reviews[0]))\n",
    "              #  print(\" \")\n",
    "                #sg_store_ratings = [tag.attrs['aria-label'] for tag in sg_store_soup.find_all('div',{'aria-label':re.compile('[0-9] star rating')})[1:len(sg_store_reviews)+1]]\n",
    "              #  print(\"First rating of page: {}\".format(sg_store_ratings[0]))\n",
    "              #  print(\" \")\n",
    "                #atags = sg_store_soup.find_all('a', href = re.compile('\\/user_details\\?userid=\\w+'))\n",
    "                #userids = []\n",
    "                #for tag in atags:\n",
    "                    #m = re.search('userid=(\\w+)', str(tag))\n",
    "                    #userids.append(m.group()[7:])\n",
    "                #sg_store_userids = userids[::2]\n",
    "                #sg_store_rev[alias] = sg_store_reviews\n",
    "                #sg_store_rating[alias] = sg_store_ratings\n",
    "                #sg_store_userid[alias] = sg_store_userids\n",
    "                #print(\"Store with 1 page of reviews and ratings {} has {} reviews\".format(alias,len(sg_store_reviews)))\n",
    "                #print(\" \")\n",
    "                #print(\"Store with 1 page of reviews and ratings {} has {} ratings\".format(alias,len(sg_store_ratings)))\n",
    "                #print(\" \")\n",
    "                #print(\"Store with 1 page of reviews and ratings {} has {} userids\".format(alias,len(sg_store_userids)))\n",
    "                #print(\" \")\n",
    "                #outlet_count += 1\n",
    "                #print(\"{} stores out of {} stores done!\".format(outlet_count,len(aliases_sg)))\n",
    "                #print(\" \")\n",
    "                #pd.DataFrame({key:pd.Series(value) for key, value in sg_store_rev.items()}).to_csv('yelp_data/sg_store_rev.csv', index=False)\n",
    "                #pd.DataFrame({key:pd.Series(value) for key, value in sg_store_rating.items()}).to_csv('yelp_data/sg_store_rating.csv', index=False)\n",
    "                #pd.DataFrame({key:pd.Series(value) for key, value in sg_store_userid.items()}).to_csv('yelp_data/sg_store_userid.csv', index=False)\n",
    "                #sleep_duration = random.randint(15,50)\n",
    "                #print(\"Resting {} seconds...\".format(sleep_duration))\n",
    "                #print(\" \")\n",
    "                #time.sleep(sleep_duration)\n",
    "                #continue\n",
    "        #else:\n",
    "            #print(\"Next page got! But first, extracting from 1st page first:\", sg_url)\n",
    "            #print(\" \")\n",
    "            #sg_store_reviews = []\n",
    "            #sg_store_ratings = []\n",
    "            #sg_store_userids = []\n",
    "            #if [tag.text for tag in sg_store_soup.find_all('span',{'lang':'en'})] == []:\n",
    "                #print(\"No english reviews on this page, looking at next page..\")\n",
    "                #while [tag.text for tag in sg_store_next_page_soup.find_all('span',{'lang':'en'})] != []:\n",
    "                    #count += 20\n",
    "                    #print(\"Count is currently: {}\".format(count))\n",
    "                    #print(\" \")\n",
    "                    #sg_store_next_url = sg_url + '&start=' + str(count)\n",
    "                    #print(\"New current page to scrape is {}\".format(sg_store_next_url))\n",
    "                    #print(\" \")\n",
    "                    #sg_store_next_page = requests.get(sg_store_next_url)\n",
    "                    #sg_store_next_page_soup = bs(sg_store_next_page.content, 'lxml')\n",
    "                    #sg_store_next_page_reviews = [tag.text for tag in sg_store_next_page_soup.find_all('span',{'lang':'en'})]\n",
    "                    #print(\"Number of reviews on new current page: {}\".format(len(sg_store_next_page_reviews)))\n",
    "                    #print(\" \")\n",
    "                #    print(\"First review of page: {}\".format(sg_store_next_page_reviews[0]))\n",
    "                #    print(\" \")\n",
    "                    #sg_store_reviews.extend(sg_store_next_page_reviews)\n",
    "                    #print(\"Number of reviews scraped up till new current page: {}\".format(len(sg_store_reviews)))\n",
    "                    #print(\" \")\n",
    "                    #sg_store_next_page_ratings = [tag.attrs['aria-label'] for tag in sg_store_next_page_soup.find_all('div',{'aria-label':re.compile('[0-9] star rating')})[1:len(sg_store_next_page_reviews)+1]] \n",
    "                    #print(\"Number of ratings on new current page: {}\".format(len(sg_store_next_page_ratings)))\n",
    "                    #print(\" \")\n",
    "              #      print(\"First rating of page: {}\".format(sg_store_next_page_ratings[0]))\n",
    "               #     print(\" \")\n",
    "                    #sg_store_ratings.extend(sg_store_next_page_ratings)\n",
    "                    #print(\"Number of ratings scraped up till new current page: {}\".format(len(sg_store_ratings)))\n",
    "                    #print(\" \")\n",
    "                    \n",
    "                    #atags = sg_store_next_page_soup.find_all('a', href = re.compile('\\/user_details\\?userid=\\w+'))\n",
    "                    #userids = []\n",
    "                    #for tag in atags:\n",
    "                        #m = re.search('userid=(\\w+)', str(tag))\n",
    "                        #userids.append(m.group()[7:])\n",
    "                    #sg_store_userids.extend(userids[::2])\n",
    "                    \n",
    "                    #print(\"Number of userids on new current page: {}\".format(len(userids[::2])))\n",
    "                    #print(\" \")\n",
    "                    #print(\"Number of userids scraped up till new current page: {}\".format(len(sg_store_userids)))\n",
    "                    #print(\" \")\n",
    "                    \n",
    "                    #sg_store_next_url = sg_url + '&start=' + str(count+20)\n",
    "                    #print(\"Looking at the next page {} to see if got more to scrape..\".format(sg_store_next_url))\n",
    "                    #print(\" \")\n",
    "                    #sg_store_next_page = requests.get(sg_store_next_url)\n",
    "                    #sg_store_next_page_soup = bs(sg_store_next_page.content, 'lxml')\n",
    "                #print(\"Next page no more to scrape! That's it for this store!\")\n",
    "                #print(\" \")\n",
    "                #sg_store_rev[alias] = sg_store_reviews\n",
    "                #sg_store_rating[alias] = sg_store_ratings\n",
    "                #sg_store_userid[alias] = sg_store_userids\n",
    "                #print(\"Store with more than 1 page of reviews and ratings {} has {} reviews\".format(alias,len(sg_store_reviews)))\n",
    "                #print(\" \")\n",
    "                #print(\"Store with more than 1 page of reviews and ratings {} has {} ratings\".format(alias,len(sg_store_ratings)))\n",
    "                #print(\" \")\n",
    "                #print(\"Store with more than 1 page of reviews and ratings {} has {} userids\".format(alias,len(sg_store_userids)))\n",
    "                #print(\" \")\n",
    "                #outlet_count += 1\n",
    "                #print(\"{} stores out of {} stores done!\".format(outlet_count,len(aliases_sg)))\n",
    "                #print(\" \")\n",
    "                #pd.DataFrame({key:pd.Series(value) for key, value in sg_store_rev.items()}).to_csv('yelp_data/sg_store_rev.csv', index=False)\n",
    "                #pd.DataFrame({key:pd.Series(value) for key, value in sg_store_rating.items()}).to_csv('yelp_data/sg_store_rating.csv', index=False)\n",
    "                #pd.DataFrame({key:pd.Series(value) for key, value in sg_store_userid.items()}).to_csv('yelp_data/sg_store_userid.csv', index=False)\n",
    "                #sleep_duration = random.randint(15,50)\n",
    "                #print(\"Resting {} seconds...\".format(sleep_duration))\n",
    "                #print(\" \")\n",
    "                #time.sleep(sleep_duration)\n",
    "                #continue\n",
    "            #else:\n",
    "                #sg_store_reviews = [tag.text for tag in sg_store_soup.find_all('span',{'lang':'en'})]\n",
    "                #print(\"Number of reviews extracted from {} is {}\".format(sg_url,len(sg_store_reviews)))\n",
    "                #print(\" \")\n",
    "      #          print(\"First review of page: {}\".format(sg_store_reviews[0]))\n",
    "       #         print(\" \")\n",
    "                #sg_store_ratings = [tag.attrs['aria-label'] for tag in sg_store_soup.find_all('div',{'aria-label':re.compile('[0-9] star rating')})[1:len(sg_store_reviews)+1]]\n",
    "                #print(\"Number of ratings extracted from {} is {}\".format(sg_url,len(sg_store_ratings)))\n",
    "                #print(\" \")\n",
    "        #        print(\"First rating of page: {}\".format(sg_store_ratings[0]))\n",
    "         #       print(\" \")\n",
    "                #atags = sg_store_soup.find_all('a', href = re.compile('\\/user_details\\?userid=\\w+'))\n",
    "                #userids = []\n",
    "                #for tag in atags:\n",
    "                    #m = re.search('userid=(\\w+)', str(tag))\n",
    "                    #userids.append(m.group()[7:])\n",
    "                #sg_store_userids = userids[::2]\n",
    "                #print(\"Number of userids extracted from {} is {}\".format(sg_url,len(sg_store_userids)))\n",
    "                #print(\" \")\n",
    "                \n",
    "                \n",
    "                #while [tag.text for tag in sg_store_next_page_soup.find_all('span',{'lang':'en'})] != []:\n",
    "                    #print(\"Next page got some more! Thus will increase count...\")\n",
    "                    #print(\" \")\n",
    "                    #count += 20\n",
    "                    #print(\"Count is currently: {}\".format(count))\n",
    "                    #print(\" \")\n",
    "                    #sg_store_next_url = sg_url + '&start=' + str(count)\n",
    "                    #print(\"New current page to scrape is {}\".format(sg_store_next_url))\n",
    "                    #print(\" \")\n",
    "                    #sg_store_next_page = requests.get(sg_store_next_url)\n",
    "                    #sg_store_next_page_soup = bs(sg_store_next_page.content, 'lxml')\n",
    "                    #sg_store_next_page_reviews = [tag.text for tag in sg_store_next_page_soup.find_all('span',{'lang':'en'})]\n",
    "                    #print(\"Number of reviews on new current page: {}\".format(len(sg_store_next_page_reviews)))\n",
    "                    #print(\" \")\n",
    "          #          print(\"First review of page: {}\".format(sg_store_next_page_reviews[0]))\n",
    "           #         print(\" \")\n",
    "                    #sg_store_reviews.extend(sg_store_next_page_reviews)\n",
    "                    #print(\"Number of reviews scraped up till new current page: {}\".format(len(sg_store_reviews)))\n",
    "                    #print(\" \")\n",
    "                    #sg_store_next_page_ratings = [tag.attrs['aria-label'] for tag in sg_store_next_page_soup.find_all('div',{'aria-label':re.compile('[0-9] star rating')})[1:len(sg_store_next_page_reviews)+1]] \n",
    "                    #print(\"Number of ratings on new current page: {}\".format(len(sg_store_next_page_ratings)))\n",
    "                    #print(\" \")\n",
    "            #        print(\"First rating of page: {}\".format(sg_store_next_page_ratings[0]))\n",
    "             #       print(\" \")\n",
    "                    #sg_store_ratings.extend(sg_store_next_page_ratings)\n",
    "                    #print(\"Number of ratings scraped up till new current page: {}\".format(len(sg_store_ratings)))\n",
    "                    #print(\" \")\n",
    "                    \n",
    "                    #atags = sg_store_next_page_soup.find_all('a', href = re.compile('\\/user_details\\?userid=\\w+'))\n",
    "                    #userids = []\n",
    "                    #for tag in atags:\n",
    "                        #m = re.search('userid=(\\w+)', str(tag))\n",
    "                        #userids.append(m.group()[7:])\n",
    "                    #sg_store_userids.extend(userids[::2])\n",
    "                    #print(\"Number of userids on new current page: {}\".format(len(userids[::2])))\n",
    "                    #print(\" \")\n",
    "                    #print(\"Number of userids scraped up till new current page: {}\".format(len(sg_store_userids)))\n",
    "                    #print(\" \")\n",
    "            \n",
    "                    #sg_store_next_url = sg_url + '&start=' + str(count+20)\n",
    "                    #print(\"Looking at the next page {} to see if got more to scrape..\".format(sg_store_next_url))\n",
    "                    #print(\" \")\n",
    "                    #sg_store_next_page = requests.get(sg_store_next_url)\n",
    "                    #sg_store_next_page_soup = bs(sg_store_next_page.content, 'lxml')\n",
    "                #print(\"Next page no more to scrape! That's it for this store!\")\n",
    "                #print(\" \")\n",
    "                #sg_store_rev[alias] = sg_store_reviews\n",
    "                #sg_store_rating[alias] = sg_store_ratings\n",
    "                #sg_store_userid[alias] = sg_store_userids\n",
    "                #print(\"Store with more than 1 page of reviews and ratings {} has {} reviews\".format(alias,len(sg_store_reviews)))\n",
    "                #print(\" \")\n",
    "                #print(\"Store with more than 1 page of reviews and ratings {} has {} ratings\".format(alias,len(sg_store_ratings)))\n",
    "                #print(\" \")\n",
    "                #print(\"Store with more than 1 page of reviews and ratings {} has {} userids\".format(alias,len(sg_store_userids)))\n",
    "                #print(\" \")\n",
    "                #outlet_count += 1\n",
    "                #print(\"{} stores out of {} stores done!\".format(outlet_count,len(aliases_sg)))\n",
    "                #print(\" \")\n",
    "                #pd.DataFrame({key:pd.Series(value) for key, value in sg_store_rev.items()}).to_csv('yelp_data/sg_store_rev.csv', index=False)\n",
    "                #pd.DataFrame({key:pd.Series(value) for key, value in sg_store_rating.items()}).to_csv('yelp_data/sg_store_rating.csv', index=False)\n",
    "                #pd.DataFrame({key:pd.Series(value) for key, value in sg_store_userid.items()}).to_csv('yelp_data/sg_store_userid.csv', index=False)\n",
    "                #sleep_duration = random.randint(15,50)\n",
    "                #print(\"Resting {} seconds...\".format(sleep_duration))\n",
    "                #print(\" \")\n",
    "                #time.sleep(sleep_duration)\n"
   ]
  },
  {
   "cell_type": "markdown",
   "metadata": {},
   "source": [
    "<ul>\n",
    "\n",
    "- The huge chunk of code above scraped the user reviews and ratings using ```BeautifulSoup```\n",
    "    \n",
    "</ul>"
   ]
  },
  {
   "cell_type": "code",
   "execution_count": 10,
   "metadata": {},
   "outputs": [],
   "source": [
    "#checking if there were any duplicated outlets by looking at alias, and storing the indices of those duplicated outlets in a variable for removing these duplicated outlet rows from the df.\n",
    "dup_alias_index = df[df.duplicated(subset=('alias'))].index"
   ]
  },
  {
   "cell_type": "code",
   "execution_count": 11,
   "metadata": {},
   "outputs": [
    {
     "data": {
      "text/plain": [
       "11"
      ]
     },
     "execution_count": 11,
     "metadata": {},
     "output_type": "execute_result"
    }
   ],
   "source": [
    "#there were 11 duplicated outlets\n",
    "len(df[df.duplicated(subset=('alias'))])"
   ]
  },
  {
   "cell_type": "code",
   "execution_count": 12,
   "metadata": {},
   "outputs": [
    {
     "data": {
      "text/plain": [
       "Int64Index([447, 457], dtype='int64')"
      ]
     },
     "execution_count": 12,
     "metadata": {},
     "output_type": "execute_result"
    }
   ],
   "source": [
    "df[df['alias']=='hustle-co-singapore'].index"
   ]
  },
  {
   "cell_type": "code",
   "execution_count": 13,
   "metadata": {},
   "outputs": [
    {
     "data": {
      "text/plain": [
       "id                True\n",
       "alias             True\n",
       "name              True\n",
       "image_url         True\n",
       "is_closed         True\n",
       "url               True\n",
       "review_count      True\n",
       "categories        True\n",
       "rating            True\n",
       "coordinates       True\n",
       "transactions      True\n",
       "price            False\n",
       "location          True\n",
       "phone            False\n",
       "display_phone    False\n",
       "distance          True\n",
       "dtype: bool"
      ]
     },
     "execution_count": 13,
     "metadata": {},
     "output_type": "execute_result"
    }
   ],
   "source": [
    "df.loc[447,:] == df.loc[457,:]"
   ]
  },
  {
   "cell_type": "markdown",
   "metadata": {},
   "source": [
    "<ul>\n",
    "\n",
    "- The above shows that even for the same outlet, the certain variables might be updated, such as price and phone number for instance. If we are removing the duplicated outlet entries in the df, we should take note of the possibility of updates in features of the same outlet later on..."
   ]
  },
  {
   "cell_type": "code",
   "execution_count": 14,
   "metadata": {},
   "outputs": [],
   "source": [
    "df1 = df.drop(dup_alias_index)"
   ]
  },
  {
   "cell_type": "markdown",
   "metadata": {},
   "source": [
    "<ul>\n",
    "    \n",
    "- Each outlet has an alias that is included within the outlet's url, which navigates to the outlet's page on Yelp; as such, I am assuming each outlet has a unique alias (as I am assuming the same outlet should not have more than one Yelp page) and so I am looking for duplicated aliases to be removed from the preliminary dataset. As mentioned above, the duplicates could be a result of updates to features of the same outlet which we should consider when evaluating the model later on.\n",
    "\n",
    "</ul>"
   ]
  },
  {
   "cell_type": "code",
   "execution_count": 15,
   "metadata": {},
   "outputs": [
    {
     "data": {
      "text/plain": [
       "987"
      ]
     },
     "execution_count": 15,
     "metadata": {},
     "output_type": "execute_result"
    }
   ],
   "source": [
    "#reading in the scraped user reviews\n",
    "reviews = pd.read_csv('yelp_data/sg_store_rev.csv')\n",
    "len(reviews.columns)"
   ]
  },
  {
   "cell_type": "code",
   "execution_count": 16,
   "metadata": {},
   "outputs": [
    {
     "data": {
      "text/plain": [
       "(989, 16)"
      ]
     },
     "execution_count": 16,
     "metadata": {},
     "output_type": "execute_result"
    }
   ],
   "source": [
    "df1.shape"
   ]
  },
  {
   "cell_type": "code",
   "execution_count": 17,
   "metadata": {},
   "outputs": [
    {
     "data": {
      "text/plain": [
       "['the-mad-sailors-singapore', 'privé-café-singapore']"
      ]
     },
     "execution_count": 17,
     "metadata": {},
     "output_type": "execute_result"
    }
   ],
   "source": [
    "missed_out_alias = [a for a in df1['alias'] if not a in reviews.columns]\n",
    "missed_out_alias"
   ]
  },
  {
   "cell_type": "code",
   "execution_count": 18,
   "metadata": {},
   "outputs": [
    {
     "data": {
      "text/html": [
       "<div>\n",
       "<style scoped>\n",
       "    .dataframe tbody tr th:only-of-type {\n",
       "        vertical-align: middle;\n",
       "    }\n",
       "\n",
       "    .dataframe tbody tr th {\n",
       "        vertical-align: top;\n",
       "    }\n",
       "\n",
       "    .dataframe thead th {\n",
       "        text-align: right;\n",
       "    }\n",
       "</style>\n",
       "<table border=\"1\" class=\"dataframe\">\n",
       "  <thead>\n",
       "    <tr style=\"text-align: right;\">\n",
       "      <th></th>\n",
       "      <th>id</th>\n",
       "      <th>alias</th>\n",
       "      <th>name</th>\n",
       "      <th>image_url</th>\n",
       "      <th>is_closed</th>\n",
       "      <th>url</th>\n",
       "      <th>review_count</th>\n",
       "      <th>categories</th>\n",
       "      <th>rating</th>\n",
       "      <th>coordinates</th>\n",
       "      <th>transactions</th>\n",
       "      <th>price</th>\n",
       "      <th>location</th>\n",
       "      <th>phone</th>\n",
       "      <th>display_phone</th>\n",
       "      <th>distance</th>\n",
       "    </tr>\n",
       "  </thead>\n",
       "  <tbody>\n",
       "    <tr>\n",
       "      <th>666</th>\n",
       "      <td>NPWWjqGoiGeIlsVV1q4jLw</td>\n",
       "      <td>the-mad-sailors-singapore</td>\n",
       "      <td>The Mad Sailors</td>\n",
       "      <td>https://s3-media2.fl.yelpcdn.com/bphoto/mh4fZx...</td>\n",
       "      <td>False</td>\n",
       "      <td>https://www.yelp.com/biz/the-mad-sailors-singa...</td>\n",
       "      <td>1</td>\n",
       "      <td>[{'alias': 'halal', 'title': 'Halal'}, {'alias...</td>\n",
       "      <td>4.0</td>\n",
       "      <td>{'latitude': 1.30073, 'longitude': 103.85923}</td>\n",
       "      <td>[]</td>\n",
       "      <td>NaN</td>\n",
       "      <td>{'address1': '24 Haji Ln', 'address2': None, '...</td>\n",
       "      <td>6.582483e+09</td>\n",
       "      <td>+65 8248 2853</td>\n",
       "      <td>1893.050623</td>\n",
       "    </tr>\n",
       "    <tr>\n",
       "      <th>889</th>\n",
       "      <td>2FLfIQ9u3PJKg2iLhkl91A</td>\n",
       "      <td>privé-café-singapore</td>\n",
       "      <td>Privé Café</td>\n",
       "      <td>https://s3-media2.fl.yelpcdn.com/bphoto/pWa4dO...</td>\n",
       "      <td>False</td>\n",
       "      <td>https://www.yelp.com/biz/priv%C3%A9-caf%C3%A9-...</td>\n",
       "      <td>25</td>\n",
       "      <td>[{'alias': 'tradamerican', 'title': 'American ...</td>\n",
       "      <td>3.5</td>\n",
       "      <td>{'latitude': 1.26392, 'longitude': 103.81249}</td>\n",
       "      <td>[]</td>\n",
       "      <td>$$</td>\n",
       "      <td>{'address1': '2 Keppel Bay Vista', 'address2':...</td>\n",
       "      <td>6.567761e+09</td>\n",
       "      <td>+65 6776 0777</td>\n",
       "      <td>6894.996206</td>\n",
       "    </tr>\n",
       "  </tbody>\n",
       "</table>\n",
       "</div>"
      ],
      "text/plain": [
       "                         id                      alias             name  \\\n",
       "666  NPWWjqGoiGeIlsVV1q4jLw  the-mad-sailors-singapore  The Mad Sailors   \n",
       "889  2FLfIQ9u3PJKg2iLhkl91A       privé-café-singapore       Privé Café   \n",
       "\n",
       "                                             image_url  is_closed  \\\n",
       "666  https://s3-media2.fl.yelpcdn.com/bphoto/mh4fZx...      False   \n",
       "889  https://s3-media2.fl.yelpcdn.com/bphoto/pWa4dO...      False   \n",
       "\n",
       "                                                   url  review_count  \\\n",
       "666  https://www.yelp.com/biz/the-mad-sailors-singa...             1   \n",
       "889  https://www.yelp.com/biz/priv%C3%A9-caf%C3%A9-...            25   \n",
       "\n",
       "                                            categories  rating  \\\n",
       "666  [{'alias': 'halal', 'title': 'Halal'}, {'alias...     4.0   \n",
       "889  [{'alias': 'tradamerican', 'title': 'American ...     3.5   \n",
       "\n",
       "                                       coordinates transactions price  \\\n",
       "666  {'latitude': 1.30073, 'longitude': 103.85923}           []   NaN   \n",
       "889  {'latitude': 1.26392, 'longitude': 103.81249}           []    $$   \n",
       "\n",
       "                                              location         phone  \\\n",
       "666  {'address1': '24 Haji Ln', 'address2': None, '...  6.582483e+09   \n",
       "889  {'address1': '2 Keppel Bay Vista', 'address2':...  6.567761e+09   \n",
       "\n",
       "     display_phone     distance  \n",
       "666  +65 8248 2853  1893.050623  \n",
       "889  +65 6776 0777  6894.996206  "
      ]
     },
     "execution_count": 18,
     "metadata": {},
     "output_type": "execute_result"
    }
   ],
   "source": [
    "df[(df['alias']=='the-mad-sailors-singapore') | (df['alias']=='privé-café-singapore')]"
   ]
  },
  {
   "cell_type": "markdown",
   "metadata": {},
   "source": [
    "<ul>\n",
    "    \n",
    "- Seems like 2 outlets have reviews that have not been scraped...And the 2 outlets were ```the-mad-sailors-singapore``` and ```privé-café-singapore```. They amount to 26 missing reviews.. Let's look at how many reviews we managed to scrape first... \n",
    "\n",
    "</ul>"
   ]
  },
  {
   "cell_type": "code",
   "execution_count": 19,
   "metadata": {},
   "outputs": [
    {
     "data": {
      "text/html": [
       "<div>\n",
       "<style scoped>\n",
       "    .dataframe tbody tr th:only-of-type {\n",
       "        vertical-align: middle;\n",
       "    }\n",
       "\n",
       "    .dataframe tbody tr th {\n",
       "        vertical-align: top;\n",
       "    }\n",
       "\n",
       "    .dataframe thead th {\n",
       "        text-align: right;\n",
       "    }\n",
       "</style>\n",
       "<table border=\"1\" class=\"dataframe\">\n",
       "  <thead>\n",
       "    <tr style=\"text-align: right;\">\n",
       "      <th></th>\n",
       "      <th>hustle-co-singapore</th>\n",
       "      <th>benjamin-barker-cafe-singapore</th>\n",
       "      <th>the-coffee-roaster-singapore-2</th>\n",
       "      <th>koi-cafe-singapore</th>\n",
       "      <th>starbucks-singapore-21</th>\n",
       "      <th>eaglewings-loft-singapore</th>\n",
       "      <th>killiney-kopitiam-singapore-11</th>\n",
       "      <th>creamier-handcrafted-ice-cream-and-coffee-singapore-2</th>\n",
       "      <th>platform-1094-singapore</th>\n",
       "      <th>nanyang-old-coffee-singapore-7</th>\n",
       "      <th>...</th>\n",
       "      <th>round-8-singapore</th>\n",
       "      <th>kith-cafe-singapore-7</th>\n",
       "      <th>tai-lei-loi-kei-macau-singapore</th>\n",
       "      <th>milksha-singapore</th>\n",
       "      <th>the-signature-patisserie-singapore-2</th>\n",
       "      <th>smoothy-de-cafe-singapore</th>\n",
       "      <th>lee-siau-ling-cafe-singapore</th>\n",
       "      <th>moly-cafe-singapore</th>\n",
       "      <th>artease-singapore-2</th>\n",
       "      <th>starbucks-singapore-52</th>\n",
       "    </tr>\n",
       "  </thead>\n",
       "  <tbody>\n",
       "    <tr>\n",
       "      <th>0</th>\n",
       "      <td>I would say that I accidentally discovered thi...</td>\n",
       "      <td>Nice cafe near Orchard Road. We had the Egg Be...</td>\n",
       "      <td>A refreshing place with a quiet ambience and n...</td>\n",
       "      <td>Bubble tea craze aside, this is some legit bub...</td>\n",
       "      <td>What I like about this outlet is the 24hours. ...</td>\n",
       "      <td>I noticed this place because it was packed in ...</td>\n",
       "      <td>We came here to try a traditional Singaporean ...</td>\n",
       "      <td>One of my fav ice cream joints in Singapore! I...</td>\n",
       "      <td>I am so glad my friend told me about this hidd...</td>\n",
       "      <td>Still feel the same about nanyang coffee. But ...</td>\n",
       "      <td>...</td>\n",
       "      <td>Amidst the industrial estate in Tai Seng, you ...</td>\n",
       "      <td>This is the Bukit Timah branch. Located next t...</td>\n",
       "      <td>Love the pork buns.Authentic, just like those ...</td>\n",
       "      <td>Milksha is located upstairs in Suntec City Mal...</td>\n",
       "      <td>Chocolate. That's it. That's all you need to k...</td>\n",
       "      <td>For those who have been to Taiwan: If you love...</td>\n",
       "      <td>Excellent service and food, prices are cheap a...</td>\n",
       "      <td>Yes I love the Okinawa tea.  Owner is very fri...</td>\n",
       "      <td>This Artease outlet opens till 10pm. Yay! I kn...</td>\n",
       "      <td>Well, I've failed you all.When I came to Singa...</td>\n",
       "    </tr>\n",
       "    <tr>\n",
       "      <th>1</th>\n",
       "      <td>Get away from the hustle 'n' bustle!This funky...</td>\n",
       "      <td>NaN</td>\n",
       "      <td>NaN</td>\n",
       "      <td>NaN</td>\n",
       "      <td>Who doesn't like a 24 hour Starbucks? Located ...</td>\n",
       "      <td>The restaurant was within walking distance fro...</td>\n",
       "      <td>Delayed post. I visited this location back in ...</td>\n",
       "      <td>Over the course of several days in Singapore r...</td>\n",
       "      <td>I was a little skeptical at first because it k...</td>\n",
       "      <td>Hidden behind one of the buildings in Biopolis...</td>\n",
       "      <td>...</td>\n",
       "      <td>A quaint little shop (about 22 seats) that sel...</td>\n",
       "      <td>Prompt, friendly service and generally fresh f...</td>\n",
       "      <td>Tucked at a corner of Nex, this little shop se...</td>\n",
       "      <td>I been waiting for Milksha to open in Singapor...</td>\n",
       "      <td>Only ever been here for coffee and breakfast. ...</td>\n",
       "      <td>NaN</td>\n",
       "      <td>NaN</td>\n",
       "      <td>I suspect the storeowner of Moly Café will be ...</td>\n",
       "      <td>As the name suggests, it prides itself on bein...</td>\n",
       "      <td>NaN</td>\n",
       "    </tr>\n",
       "    <tr>\n",
       "      <th>2</th>\n",
       "      <td>Got their Dirty Burger (medium) &amp; Red Apple Ci...</td>\n",
       "      <td>NaN</td>\n",
       "      <td>NaN</td>\n",
       "      <td>NaN</td>\n",
       "      <td>This place is always so loud and busy. They do...</td>\n",
       "      <td>NaN</td>\n",
       "      <td>This is a great locals place. Great for breakf...</td>\n",
       "      <td>Another ice cream shop right downstairs from w...</td>\n",
       "      <td>Very cute and quaint cafe with Harry Potter th...</td>\n",
       "      <td>NaN</td>\n",
       "      <td>...</td>\n",
       "      <td>NaN</td>\n",
       "      <td>NaN</td>\n",
       "      <td>NaN</td>\n",
       "      <td>NaN</td>\n",
       "      <td>NaN</td>\n",
       "      <td>NaN</td>\n",
       "      <td>NaN</td>\n",
       "      <td>NaN</td>\n",
       "      <td>Never knew you can put chocolate pudding in a ...</td>\n",
       "      <td>NaN</td>\n",
       "    </tr>\n",
       "  </tbody>\n",
       "</table>\n",
       "<p>3 rows × 987 columns</p>\n",
       "</div>"
      ],
      "text/plain": [
       "                                 hustle-co-singapore  \\\n",
       "0  I would say that I accidentally discovered thi...   \n",
       "1  Get away from the hustle 'n' bustle!This funky...   \n",
       "2  Got their Dirty Burger (medium) & Red Apple Ci...   \n",
       "\n",
       "                      benjamin-barker-cafe-singapore  \\\n",
       "0  Nice cafe near Orchard Road. We had the Egg Be...   \n",
       "1                                                NaN   \n",
       "2                                                NaN   \n",
       "\n",
       "                      the-coffee-roaster-singapore-2  \\\n",
       "0  A refreshing place with a quiet ambience and n...   \n",
       "1                                                NaN   \n",
       "2                                                NaN   \n",
       "\n",
       "                                  koi-cafe-singapore  \\\n",
       "0  Bubble tea craze aside, this is some legit bub...   \n",
       "1                                                NaN   \n",
       "2                                                NaN   \n",
       "\n",
       "                              starbucks-singapore-21  \\\n",
       "0  What I like about this outlet is the 24hours. ...   \n",
       "1  Who doesn't like a 24 hour Starbucks? Located ...   \n",
       "2  This place is always so loud and busy. They do...   \n",
       "\n",
       "                           eaglewings-loft-singapore  \\\n",
       "0  I noticed this place because it was packed in ...   \n",
       "1  The restaurant was within walking distance fro...   \n",
       "2                                                NaN   \n",
       "\n",
       "                      killiney-kopitiam-singapore-11  \\\n",
       "0  We came here to try a traditional Singaporean ...   \n",
       "1  Delayed post. I visited this location back in ...   \n",
       "2  This is a great locals place. Great for breakf...   \n",
       "\n",
       "  creamier-handcrafted-ice-cream-and-coffee-singapore-2  \\\n",
       "0  One of my fav ice cream joints in Singapore! I...      \n",
       "1  Over the course of several days in Singapore r...      \n",
       "2  Another ice cream shop right downstairs from w...      \n",
       "\n",
       "                             platform-1094-singapore  \\\n",
       "0  I am so glad my friend told me about this hidd...   \n",
       "1  I was a little skeptical at first because it k...   \n",
       "2  Very cute and quaint cafe with Harry Potter th...   \n",
       "\n",
       "                      nanyang-old-coffee-singapore-7  ...  \\\n",
       "0  Still feel the same about nanyang coffee. But ...  ...   \n",
       "1  Hidden behind one of the buildings in Biopolis...  ...   \n",
       "2                                                NaN  ...   \n",
       "\n",
       "                                   round-8-singapore  \\\n",
       "0  Amidst the industrial estate in Tai Seng, you ...   \n",
       "1  A quaint little shop (about 22 seats) that sel...   \n",
       "2                                                NaN   \n",
       "\n",
       "                               kith-cafe-singapore-7  \\\n",
       "0  This is the Bukit Timah branch. Located next t...   \n",
       "1  Prompt, friendly service and generally fresh f...   \n",
       "2                                                NaN   \n",
       "\n",
       "                     tai-lei-loi-kei-macau-singapore  \\\n",
       "0  Love the pork buns.Authentic, just like those ...   \n",
       "1  Tucked at a corner of Nex, this little shop se...   \n",
       "2                                                NaN   \n",
       "\n",
       "                                   milksha-singapore  \\\n",
       "0  Milksha is located upstairs in Suntec City Mal...   \n",
       "1  I been waiting for Milksha to open in Singapor...   \n",
       "2                                                NaN   \n",
       "\n",
       "                the-signature-patisserie-singapore-2  \\\n",
       "0  Chocolate. That's it. That's all you need to k...   \n",
       "1  Only ever been here for coffee and breakfast. ...   \n",
       "2                                                NaN   \n",
       "\n",
       "                           smoothy-de-cafe-singapore  \\\n",
       "0  For those who have been to Taiwan: If you love...   \n",
       "1                                                NaN   \n",
       "2                                                NaN   \n",
       "\n",
       "                        lee-siau-ling-cafe-singapore  \\\n",
       "0  Excellent service and food, prices are cheap a...   \n",
       "1                                                NaN   \n",
       "2                                                NaN   \n",
       "\n",
       "                                 moly-cafe-singapore  \\\n",
       "0  Yes I love the Okinawa tea.  Owner is very fri...   \n",
       "1  I suspect the storeowner of Moly Café will be ...   \n",
       "2                                                NaN   \n",
       "\n",
       "                                 artease-singapore-2  \\\n",
       "0  This Artease outlet opens till 10pm. Yay! I kn...   \n",
       "1  As the name suggests, it prides itself on bein...   \n",
       "2  Never knew you can put chocolate pudding in a ...   \n",
       "\n",
       "                              starbucks-singapore-52  \n",
       "0  Well, I've failed you all.When I came to Singa...  \n",
       "1                                                NaN  \n",
       "2                                                NaN  \n",
       "\n",
       "[3 rows x 987 columns]"
      ]
     },
     "execution_count": 19,
     "metadata": {},
     "output_type": "execute_result"
    }
   ],
   "source": [
    "#looking first at how the reviews dataframe is organized. There will be NaNs since outlets have different number of user reviews.\n",
    "reviews.head(3)"
   ]
  },
  {
   "cell_type": "code",
   "execution_count": 20,
   "metadata": {},
   "outputs": [
    {
     "data": {
      "text/html": [
       "<div>\n",
       "<style scoped>\n",
       "    .dataframe tbody tr th:only-of-type {\n",
       "        vertical-align: middle;\n",
       "    }\n",
       "\n",
       "    .dataframe tbody tr th {\n",
       "        vertical-align: top;\n",
       "    }\n",
       "\n",
       "    .dataframe thead th {\n",
       "        text-align: right;\n",
       "    }\n",
       "</style>\n",
       "<table border=\"1\" class=\"dataframe\">\n",
       "  <thead>\n",
       "    <tr style=\"text-align: right;\">\n",
       "      <th></th>\n",
       "      <th>shops</th>\n",
       "      <th>reviews</th>\n",
       "    </tr>\n",
       "  </thead>\n",
       "  <tbody>\n",
       "    <tr>\n",
       "      <th>0</th>\n",
       "      <td>hustle-co-singapore</td>\n",
       "      <td>I would say that I accidentally discovered thi...</td>\n",
       "    </tr>\n",
       "    <tr>\n",
       "      <th>1</th>\n",
       "      <td>hustle-co-singapore</td>\n",
       "      <td>Get away from the hustle 'n' bustle!This funky...</td>\n",
       "    </tr>\n",
       "    <tr>\n",
       "      <th>2</th>\n",
       "      <td>hustle-co-singapore</td>\n",
       "      <td>Got their Dirty Burger (medium) &amp; Red Apple Ci...</td>\n",
       "    </tr>\n",
       "  </tbody>\n",
       "</table>\n",
       "</div>"
      ],
      "text/plain": [
       "                 shops                                            reviews\n",
       "0  hustle-co-singapore  I would say that I accidentally discovered thi...\n",
       "1  hustle-co-singapore  Get away from the hustle 'n' bustle!This funky...\n",
       "2  hustle-co-singapore  Got their Dirty Burger (medium) & Red Apple Ci..."
      ]
     },
     "execution_count": 20,
     "metadata": {},
     "output_type": "execute_result"
    }
   ],
   "source": [
    "#converting the reviews dataframe into an appropriate format\n",
    "shop_reviews = pd.melt(reviews, var_name='shops', value_name='reviews')\n",
    "shop_reviews.head(3)"
   ]
  },
  {
   "cell_type": "code",
   "execution_count": 21,
   "metadata": {},
   "outputs": [
    {
     "data": {
      "text/plain": [
       "(227010, 2)"
      ]
     },
     "execution_count": 21,
     "metadata": {},
     "output_type": "execute_result"
    }
   ],
   "source": [
    "#checking the dimensions of the re-organized reivews dataframe. Most of the rows will have NaNs as explained above.\n",
    "shop_reviews.shape"
   ]
  },
  {
   "cell_type": "code",
   "execution_count": 22,
   "metadata": {},
   "outputs": [],
   "source": [
    "#Reviews with NaNs are non-existent (there are no reviews in those row numbers), dropping them here.\n",
    "shop_reviews.dropna(inplace=True)  "
   ]
  },
  {
   "cell_type": "code",
   "execution_count": 23,
   "metadata": {},
   "outputs": [
    {
     "data": {
      "text/plain": [
       "0"
      ]
     },
     "execution_count": 23,
     "metadata": {},
     "output_type": "execute_result"
    }
   ],
   "source": [
    "#no more NaNs!\n",
    "sum(shop_reviews.isnull().sum())"
   ]
  },
  {
   "cell_type": "code",
   "execution_count": 24,
   "metadata": {},
   "outputs": [
    {
     "data": {
      "text/plain": [
       "(6309, 2)"
      ]
     },
     "execution_count": 24,
     "metadata": {},
     "output_type": "execute_result"
    }
   ],
   "source": [
    "#6,309 reviews left after removing rows with NaNs\n",
    "shop_reviews.shape"
   ]
  },
  {
   "cell_type": "code",
   "execution_count": 25,
   "metadata": {
    "scrolled": true
   },
   "outputs": [
    {
     "data": {
      "text/html": [
       "<div>\n",
       "<style scoped>\n",
       "    .dataframe tbody tr th:only-of-type {\n",
       "        vertical-align: middle;\n",
       "    }\n",
       "\n",
       "    .dataframe tbody tr th {\n",
       "        vertical-align: top;\n",
       "    }\n",
       "\n",
       "    .dataframe thead th {\n",
       "        text-align: right;\n",
       "    }\n",
       "</style>\n",
       "<table border=\"1\" class=\"dataframe\">\n",
       "  <thead>\n",
       "    <tr style=\"text-align: right;\">\n",
       "      <th></th>\n",
       "      <th>shops</th>\n",
       "      <th>reviews</th>\n",
       "    </tr>\n",
       "  </thead>\n",
       "  <tbody>\n",
       "    <tr>\n",
       "      <th>3</th>\n",
       "      <td>hustle-co-singapore</td>\n",
       "      <td>Got their Dirty Burger (medium) &amp; Red Apple Ci...</td>\n",
       "    </tr>\n",
       "    <tr>\n",
       "      <th>27376</th>\n",
       "      <td>bread-and-hearth-singapore</td>\n",
       "      <td>Almond croissant ($3.50) - 2.5 starsI suppose ...</td>\n",
       "    </tr>\n",
       "    <tr>\n",
       "      <th>28987</th>\n",
       "      <td>old-hen-coffee-bar-singapore-2</td>\n",
       "      <td>This is one of several nice cafes that have po...</td>\n",
       "    </tr>\n",
       "    <tr>\n",
       "      <th>48071</th>\n",
       "      <td>crossings-cafe-singapore</td>\n",
       "      <td>Chili crab pasta ($17++= $20) - 4.5 starsHuge ...</td>\n",
       "    </tr>\n",
       "    <tr>\n",
       "      <th>54076</th>\n",
       "      <td>the-populus-coffee-and-food-co-singapore</td>\n",
       "      <td>Light and creamy Key Lime Pie with a crumbly p...</td>\n",
       "    </tr>\n",
       "    <tr>\n",
       "      <th>55891</th>\n",
       "      <td>toast-box-singapore-51</td>\n",
       "      <td>Stayed at V Hotel across the street and decide...</td>\n",
       "    </tr>\n",
       "    <tr>\n",
       "      <th>59359</th>\n",
       "      <td>sunday-folks-singapore</td>\n",
       "      <td>If you like going to places that specialize in...</td>\n",
       "    </tr>\n",
       "    <tr>\n",
       "      <th>95681</th>\n",
       "      <td>patties-and-wiches-singapore</td>\n",
       "      <td>Saw this place before it was done renovating. ...</td>\n",
       "    </tr>\n",
       "    <tr>\n",
       "      <th>135705</th>\n",
       "      <td>flavour-flings-singapore</td>\n",
       "      <td>I had the honey chicken burger takeaway and it...</td>\n",
       "    </tr>\n",
       "    <tr>\n",
       "      <th>159414</th>\n",
       "      <td>nylon-coffee-roasters-singapore</td>\n",
       "      <td>Nylon is one my favourite boutique specialty c...</td>\n",
       "    </tr>\n",
       "    <tr>\n",
       "      <th>162395</th>\n",
       "      <td>two-blur-guys-singapore</td>\n",
       "      <td>Great burgers, but their patties are frozen.  ...</td>\n",
       "    </tr>\n",
       "    <tr>\n",
       "      <th>195274</th>\n",
       "      <td>joe-and-the-juice-southern-islands</td>\n",
       "      <td>Do they have food hygiene standards in Singapo...</td>\n",
       "    </tr>\n",
       "    <tr>\n",
       "      <th>195275</th>\n",
       "      <td>joe-and-the-juice-southern-islands</td>\n",
       "      <td>Do they have food hygiene standards in Singapo...</td>\n",
       "    </tr>\n",
       "    <tr>\n",
       "      <th>209761</th>\n",
       "      <td>the-coffee-academics-singapore</td>\n",
       "      <td>The food was absolutely delicious - quite damn...</td>\n",
       "    </tr>\n",
       "    <tr>\n",
       "      <th>210913</th>\n",
       "      <td>old-hen-kitchen-singapore</td>\n",
       "      <td>old hen kitchen now has a set lunch menu which...</td>\n",
       "    </tr>\n",
       "    <tr>\n",
       "      <th>215111</th>\n",
       "      <td>clinton-street-baking-company-and-restaurant-s...</td>\n",
       "      <td>If you want an excellent American style breakf...</td>\n",
       "    </tr>\n",
       "    <tr>\n",
       "      <th>221032</th>\n",
       "      <td>chalk-farm-singapore-2</td>\n",
       "      <td>Ok i admit i am a little hook with their kueh ...</td>\n",
       "    </tr>\n",
       "  </tbody>\n",
       "</table>\n",
       "</div>"
      ],
      "text/plain": [
       "                                                    shops  \\\n",
       "3                                     hustle-co-singapore   \n",
       "27376                          bread-and-hearth-singapore   \n",
       "28987                      old-hen-coffee-bar-singapore-2   \n",
       "48071                            crossings-cafe-singapore   \n",
       "54076            the-populus-coffee-and-food-co-singapore   \n",
       "55891                              toast-box-singapore-51   \n",
       "59359                              sunday-folks-singapore   \n",
       "95681                        patties-and-wiches-singapore   \n",
       "135705                           flavour-flings-singapore   \n",
       "159414                    nylon-coffee-roasters-singapore   \n",
       "162395                            two-blur-guys-singapore   \n",
       "195274                 joe-and-the-juice-southern-islands   \n",
       "195275                 joe-and-the-juice-southern-islands   \n",
       "209761                     the-coffee-academics-singapore   \n",
       "210913                          old-hen-kitchen-singapore   \n",
       "215111  clinton-street-baking-company-and-restaurant-s...   \n",
       "221032                             chalk-farm-singapore-2   \n",
       "\n",
       "                                                  reviews  \n",
       "3       Got their Dirty Burger (medium) & Red Apple Ci...  \n",
       "27376   Almond croissant ($3.50) - 2.5 starsI suppose ...  \n",
       "28987   This is one of several nice cafes that have po...  \n",
       "48071   Chili crab pasta ($17++= $20) - 4.5 starsHuge ...  \n",
       "54076   Light and creamy Key Lime Pie with a crumbly p...  \n",
       "55891   Stayed at V Hotel across the street and decide...  \n",
       "59359   If you like going to places that specialize in...  \n",
       "95681   Saw this place before it was done renovating. ...  \n",
       "135705  I had the honey chicken burger takeaway and it...  \n",
       "159414  Nylon is one my favourite boutique specialty c...  \n",
       "162395  Great burgers, but their patties are frozen.  ...  \n",
       "195274  Do they have food hygiene standards in Singapo...  \n",
       "195275  Do they have food hygiene standards in Singapo...  \n",
       "209761  The food was absolutely delicious - quite damn...  \n",
       "210913  old hen kitchen now has a set lunch menu which...  \n",
       "215111  If you want an excellent American style breakf...  \n",
       "221032  Ok i admit i am a little hook with their kueh ...  "
      ]
     },
     "execution_count": 25,
     "metadata": {},
     "output_type": "execute_result"
    }
   ],
   "source": [
    "#checking if the remaining dataset happened to have duplicated reviews and there were indeed duplicated reviews!\n",
    "shop_reviews[shop_reviews.duplicated(subset=('shops','reviews'))]"
   ]
  },
  {
   "cell_type": "code",
   "execution_count": 26,
   "metadata": {},
   "outputs": [
    {
     "data": {
      "text/plain": [
       "17"
      ]
     },
     "execution_count": 26,
     "metadata": {},
     "output_type": "execute_result"
    }
   ],
   "source": [
    "#17 duplicated reviews to be precise!\n",
    "len(shop_reviews[shop_reviews.duplicated(subset=('shops','reviews'))])"
   ]
  },
  {
   "cell_type": "code",
   "execution_count": 27,
   "metadata": {},
   "outputs": [
    {
     "data": {
      "text/html": [
       "<div>\n",
       "<style scoped>\n",
       "    .dataframe tbody tr th:only-of-type {\n",
       "        vertical-align: middle;\n",
       "    }\n",
       "\n",
       "    .dataframe tbody tr th {\n",
       "        vertical-align: top;\n",
       "    }\n",
       "\n",
       "    .dataframe thead th {\n",
       "        text-align: right;\n",
       "    }\n",
       "</style>\n",
       "<table border=\"1\" class=\"dataframe\">\n",
       "  <thead>\n",
       "    <tr style=\"text-align: right;\">\n",
       "      <th></th>\n",
       "      <th>shops</th>\n",
       "      <th>reviews</th>\n",
       "    </tr>\n",
       "  </thead>\n",
       "  <tbody>\n",
       "    <tr>\n",
       "      <th>0</th>\n",
       "      <td>hustle-co-singapore</td>\n",
       "      <td>I would say that I accidentally discovered thi...</td>\n",
       "    </tr>\n",
       "    <tr>\n",
       "      <th>1</th>\n",
       "      <td>hustle-co-singapore</td>\n",
       "      <td>Get away from the hustle 'n' bustle!This funky...</td>\n",
       "    </tr>\n",
       "    <tr>\n",
       "      <th>2</th>\n",
       "      <td>hustle-co-singapore</td>\n",
       "      <td>Got their Dirty Burger (medium) &amp; Red Apple Ci...</td>\n",
       "    </tr>\n",
       "    <tr>\n",
       "      <th>3</th>\n",
       "      <td>hustle-co-singapore</td>\n",
       "      <td>Got their Dirty Burger (medium) &amp; Red Apple Ci...</td>\n",
       "    </tr>\n",
       "    <tr>\n",
       "      <th>4</th>\n",
       "      <td>hustle-co-singapore</td>\n",
       "      <td>Salmon Rosti and French toast were delish! I w...</td>\n",
       "    </tr>\n",
       "  </tbody>\n",
       "</table>\n",
       "</div>"
      ],
      "text/plain": [
       "                 shops                                            reviews\n",
       "0  hustle-co-singapore  I would say that I accidentally discovered thi...\n",
       "1  hustle-co-singapore  Get away from the hustle 'n' bustle!This funky...\n",
       "2  hustle-co-singapore  Got their Dirty Burger (medium) & Red Apple Ci...\n",
       "3  hustle-co-singapore  Got their Dirty Burger (medium) & Red Apple Ci...\n",
       "4  hustle-co-singapore  Salmon Rosti and French toast were delish! I w..."
      ]
     },
     "execution_count": 27,
     "metadata": {},
     "output_type": "execute_result"
    }
   ],
   "source": [
    "#looking at 'hustle-co-singapore' for example, the index 2/3 is repeated indeed, confirming the above that 'hustle-co-singapore' has 1 duplicated review\n",
    "shop_reviews[shop_reviews['shops']=='hustle-co-singapore']"
   ]
  },
  {
   "cell_type": "code",
   "execution_count": 28,
   "metadata": {},
   "outputs": [],
   "source": [
    "#let's drop these duplicated reviews and reset the index.\n",
    "shop_reviews = shop_reviews.drop(shop_reviews[shop_reviews.duplicated(subset=('shops','reviews'))].index).reset_index(drop=True)"
   ]
  },
  {
   "cell_type": "code",
   "execution_count": 29,
   "metadata": {},
   "outputs": [
    {
     "data": {
      "text/plain": [
       "6292"
      ]
     },
     "execution_count": 29,
     "metadata": {},
     "output_type": "execute_result"
    }
   ],
   "source": [
    "#we have 6292 reviews after dropping duplicate reviews\n",
    "len(shop_reviews)"
   ]
  },
  {
   "cell_type": "code",
   "execution_count": 30,
   "metadata": {},
   "outputs": [
    {
     "data": {
      "text/plain": [
       "['cafe-nido-singapore',\n",
       " 'tcc-the-connoisseur-concerto-singapore-13',\n",
       " 'earlybird-singapore',\n",
       " 'chocolate-mark-singapore',\n",
       " 'the-mad-sailors-singapore',\n",
       " 'privé-café-singapore',\n",
       " 'starbucks-coffee-singapore-12',\n",
       " 'xinspa-spaworks-singapore']"
      ]
     },
     "execution_count": 30,
     "metadata": {},
     "output_type": "execute_result"
    }
   ],
   "source": [
    "#all outlets with reviews not scraped\n",
    "no_rev_outlets = [shop for shop in df1.alias if shop not in set(shop_reviews.shops)]\n",
    "no_rev_outlets"
   ]
  },
  {
   "cell_type": "code",
   "execution_count": 31,
   "metadata": {},
   "outputs": [
    {
     "data": {
      "text/plain": [
       "981"
      ]
     },
     "execution_count": 31,
     "metadata": {},
     "output_type": "execute_result"
    }
   ],
   "source": [
    "len(set(shop_reviews.shops))"
   ]
  },
  {
   "cell_type": "markdown",
   "metadata": {},
   "source": [
    "<ul>\n",
    "    \n",
    "- Recalled earlier that there could be outlets (columns) in the original reviews df that only contain NaNs (no reviews were scraped from Yelp, which could either mean these outlets have no reviews or somehow my code used to scrape the data from Yelp failed in obtaining the reviews from these outlets). As such, there are a total of 8 outlets with no reviews scraped (inclusive of the ```'the-mad-sailors-singapore'``` and ```'privé-café-singapore'``` that we have identified earlier above). Let's see how many missing reviews that amounts to..."
   ]
  },
  {
   "cell_type": "code",
   "execution_count": 32,
   "metadata": {},
   "outputs": [
    {
     "data": {
      "text/plain": [
       "[96, 216, 275, 439, 666, 889, 910, 944]"
      ]
     },
     "execution_count": 32,
     "metadata": {},
     "output_type": "execute_result"
    }
   ],
   "source": [
    "#getting the indices of rows containing outlets with no reviews scraped\n",
    "no_rev_outlets_idx = []\n",
    "for cafe in no_rev_outlets:\n",
    "    no_rev_outlets_idx.extend(df1[df1['alias']==cafe].index)\n",
    "no_rev_outlets_idx"
   ]
  },
  {
   "cell_type": "code",
   "execution_count": 33,
   "metadata": {},
   "outputs": [
    {
     "data": {
      "text/plain": [
       "33"
      ]
     },
     "execution_count": 33,
     "metadata": {},
     "output_type": "execute_result"
    }
   ],
   "source": [
    "#there are 33 missing reviews...\n",
    "sum(df1.loc[no_rev_outlets_idx,:]['review_count'])"
   ]
  },
  {
   "cell_type": "markdown",
   "metadata": {},
   "source": [
    "<ul>\n",
    "    \n",
    "- 33 out of (6,292 + 33 = 6,325) means ~0.5% of reviews are missing. Since this is a small percentage - it shouldn't be a big problem."
   ]
  },
  {
   "cell_type": "code",
   "execution_count": 34,
   "metadata": {},
   "outputs": [
    {
     "data": {
      "text/html": [
       "<div>\n",
       "<style scoped>\n",
       "    .dataframe tbody tr th:only-of-type {\n",
       "        vertical-align: middle;\n",
       "    }\n",
       "\n",
       "    .dataframe tbody tr th {\n",
       "        vertical-align: top;\n",
       "    }\n",
       "\n",
       "    .dataframe thead th {\n",
       "        text-align: right;\n",
       "    }\n",
       "</style>\n",
       "<table border=\"1\" class=\"dataframe\">\n",
       "  <thead>\n",
       "    <tr style=\"text-align: right;\">\n",
       "      <th></th>\n",
       "      <th>shops</th>\n",
       "      <th>reviews</th>\n",
       "    </tr>\n",
       "  </thead>\n",
       "  <tbody>\n",
       "    <tr>\n",
       "      <th>6289</th>\n",
       "      <td>artease-singapore-2</td>\n",
       "      <td>As the name suggests, it prides itself on bein...</td>\n",
       "    </tr>\n",
       "    <tr>\n",
       "      <th>6290</th>\n",
       "      <td>artease-singapore-2</td>\n",
       "      <td>Never knew you can put chocolate pudding in a ...</td>\n",
       "    </tr>\n",
       "    <tr>\n",
       "      <th>6291</th>\n",
       "      <td>starbucks-singapore-52</td>\n",
       "      <td>Well, I've failed you all.When I came to Singa...</td>\n",
       "    </tr>\n",
       "  </tbody>\n",
       "</table>\n",
       "</div>"
      ],
      "text/plain": [
       "                       shops  \\\n",
       "6289     artease-singapore-2   \n",
       "6290     artease-singapore-2   \n",
       "6291  starbucks-singapore-52   \n",
       "\n",
       "                                                reviews  \n",
       "6289  As the name suggests, it prides itself on bein...  \n",
       "6290  Never knew you can put chocolate pudding in a ...  \n",
       "6291  Well, I've failed you all.When I came to Singa...  "
      ]
     },
     "execution_count": 34,
     "metadata": {},
     "output_type": "execute_result"
    }
   ],
   "source": [
    "shop_reviews.tail(3)"
   ]
  },
  {
   "cell_type": "code",
   "execution_count": 35,
   "metadata": {},
   "outputs": [
    {
     "data": {
      "text/plain": [
       "shops      0\n",
       "reviews    0\n",
       "dtype: int64"
      ]
     },
     "execution_count": 35,
     "metadata": {},
     "output_type": "execute_result"
    }
   ],
   "source": [
    "#confirming no nulls in shop_reviews df\n",
    "shop_reviews.isnull().sum()"
   ]
  },
  {
   "cell_type": "code",
   "execution_count": 36,
   "metadata": {},
   "outputs": [],
   "source": [
    "#making a copy of shop_reviews df for further feature engineering\n",
    "shop_reviews_copy = shop_reviews.copy()"
   ]
  },
  {
   "cell_type": "code",
   "execution_count": 37,
   "metadata": {},
   "outputs": [],
   "source": [
    "#adding a space after each review so that when the .groupby() and .sum() operations are implemented in the shops_review df, the different reviews are separated by spaces and subsequent tfidf will not result in erroneous terms being generated that could take the form of concatenated words from the end of a review and the start of the next review...\n",
    "shop_reviews_copy['reviews'] = shop_reviews_copy['reviews'].apply(lambda x: x + ' ')"
   ]
  },
  {
   "cell_type": "code",
   "execution_count": 38,
   "metadata": {
    "scrolled": true
   },
   "outputs": [
    {
     "data": {
      "text/html": [
       "<div>\n",
       "<style scoped>\n",
       "    .dataframe tbody tr th:only-of-type {\n",
       "        vertical-align: middle;\n",
       "    }\n",
       "\n",
       "    .dataframe tbody tr th {\n",
       "        vertical-align: top;\n",
       "    }\n",
       "\n",
       "    .dataframe thead th {\n",
       "        text-align: right;\n",
       "    }\n",
       "</style>\n",
       "<table border=\"1\" class=\"dataframe\">\n",
       "  <thead>\n",
       "    <tr style=\"text-align: right;\">\n",
       "      <th></th>\n",
       "      <th>reviews</th>\n",
       "    </tr>\n",
       "    <tr>\n",
       "      <th>shops</th>\n",
       "      <th></th>\n",
       "    </tr>\n",
       "  </thead>\n",
       "  <tbody>\n",
       "    <tr>\n",
       "      <th>183-rojak-singapore</th>\n",
       "      <td>Opening a rojak stall in Toa Payoh isn't that ...</td>\n",
       "    </tr>\n",
       "    <tr>\n",
       "      <th>1983-a-taste-of-nanyang-singapore-2</th>\n",
       "      <td>Located in the first basement level at MBS, cl...</td>\n",
       "    </tr>\n",
       "    <tr>\n",
       "      <th>2am-dessert-bar-singapore</th>\n",
       "      <td>Creative desserts with several layers of flavo...</td>\n",
       "    </tr>\n",
       "  </tbody>\n",
       "</table>\n",
       "</div>"
      ],
      "text/plain": [
       "                                                                               reviews\n",
       "shops                                                                                 \n",
       "183-rojak-singapore                  Opening a rojak stall in Toa Payoh isn't that ...\n",
       "1983-a-taste-of-nanyang-singapore-2  Located in the first basement level at MBS, cl...\n",
       "2am-dessert-bar-singapore            Creative desserts with several layers of flavo..."
      ]
     },
     "execution_count": 38,
     "metadata": {},
     "output_type": "execute_result"
    }
   ],
   "source": [
    "#creating a new df that aggregates reviews for each outlet\n",
    "unique_shop_reviews_copy = pd.DataFrame(shop_reviews_copy.groupby('shops')['reviews'].sum(),\n",
    "                                        index=shop_reviews_copy.groupby('shops')['reviews'].sum().index,\n",
    "                                        columns=['reviews'])\n",
    "unique_shop_reviews_copy.head(3)"
   ]
  },
  {
   "cell_type": "code",
   "execution_count": 39,
   "metadata": {},
   "outputs": [],
   "source": [
    "#resetting the index to ensure the rows are in order\n",
    "unique_shop_reviews_copy = unique_shop_reviews_copy.reset_index()"
   ]
  },
  {
   "cell_type": "code",
   "execution_count": 40,
   "metadata": {},
   "outputs": [
    {
     "data": {
      "text/html": [
       "<div>\n",
       "<style scoped>\n",
       "    .dataframe tbody tr th:only-of-type {\n",
       "        vertical-align: middle;\n",
       "    }\n",
       "\n",
       "    .dataframe tbody tr th {\n",
       "        vertical-align: top;\n",
       "    }\n",
       "\n",
       "    .dataframe thead th {\n",
       "        text-align: right;\n",
       "    }\n",
       "</style>\n",
       "<table border=\"1\" class=\"dataframe\">\n",
       "  <thead>\n",
       "    <tr style=\"text-align: right;\">\n",
       "      <th></th>\n",
       "      <th>shops</th>\n",
       "      <th>reviews</th>\n",
       "    </tr>\n",
       "  </thead>\n",
       "  <tbody>\n",
       "  </tbody>\n",
       "</table>\n",
       "</div>"
      ],
      "text/plain": [
       "Empty DataFrame\n",
       "Columns: [shops, reviews]\n",
       "Index: []"
      ]
     },
     "execution_count": 40,
     "metadata": {},
     "output_type": "execute_result"
    }
   ],
   "source": [
    "#confirming no duplicate shops\n",
    "unique_shop_reviews_copy[unique_shop_reviews_copy.duplicated(subset=('shops'))]"
   ]
  },
  {
   "cell_type": "code",
   "execution_count": 41,
   "metadata": {},
   "outputs": [
    {
     "data": {
      "text/plain": [
       "(981, 2)"
      ]
     },
     "execution_count": 41,
     "metadata": {},
     "output_type": "execute_result"
    }
   ],
   "source": [
    "unique_shop_reviews_copy.shape"
   ]
  },
  {
   "cell_type": "code",
   "execution_count": 42,
   "metadata": {},
   "outputs": [
    {
     "data": {
      "text/html": [
       "<div>\n",
       "<style scoped>\n",
       "    .dataframe tbody tr th:only-of-type {\n",
       "        vertical-align: middle;\n",
       "    }\n",
       "\n",
       "    .dataframe tbody tr th {\n",
       "        vertical-align: top;\n",
       "    }\n",
       "\n",
       "    .dataframe thead th {\n",
       "        text-align: right;\n",
       "    }\n",
       "</style>\n",
       "<table border=\"1\" class=\"dataframe\">\n",
       "  <thead>\n",
       "    <tr style=\"text-align: right;\">\n",
       "      <th></th>\n",
       "      <th>id</th>\n",
       "      <th>alias</th>\n",
       "      <th>name</th>\n",
       "      <th>image_url</th>\n",
       "      <th>is_closed</th>\n",
       "      <th>url</th>\n",
       "      <th>review_count</th>\n",
       "      <th>categories</th>\n",
       "      <th>rating</th>\n",
       "      <th>coordinates</th>\n",
       "      <th>transactions</th>\n",
       "      <th>price</th>\n",
       "      <th>location</th>\n",
       "      <th>phone</th>\n",
       "      <th>display_phone</th>\n",
       "      <th>distance</th>\n",
       "    </tr>\n",
       "  </thead>\n",
       "  <tbody>\n",
       "    <tr>\n",
       "      <th>998</th>\n",
       "      <td>zMdzcp2ASmv9_7v-mLyCDA</td>\n",
       "      <td>hood-bar-and-cafe-singapore</td>\n",
       "      <td>Hood Bar and Cafe</td>\n",
       "      <td>https://s3-media1.fl.yelpcdn.com/bphoto/o8-Fgk...</td>\n",
       "      <td>False</td>\n",
       "      <td>https://www.yelp.com/biz/hood-bar-and-cafe-sin...</td>\n",
       "      <td>12</td>\n",
       "      <td>[{'alias': 'bars', 'title': 'Bars'}, {'alias':...</td>\n",
       "      <td>3.5</td>\n",
       "      <td>{'latitude': 1.300095, 'longitude': 103.854486}</td>\n",
       "      <td>[]</td>\n",
       "      <td>$$</td>\n",
       "      <td>{'address1': '201 Victoria Street', 'address2'...</td>\n",
       "      <td>6.562219e+09</td>\n",
       "      <td>+65 6221 8846</td>\n",
       "      <td>1676.632966</td>\n",
       "    </tr>\n",
       "    <tr>\n",
       "      <th>999</th>\n",
       "      <td>oR6i1EWW15v4Cdsx2kD9Pw</td>\n",
       "      <td>saladstop-singapore-2</td>\n",
       "      <td>SaladStop</td>\n",
       "      <td>https://s3-media1.fl.yelpcdn.com/bphoto/BFeHTJ...</td>\n",
       "      <td>False</td>\n",
       "      <td>https://www.yelp.com/biz/saladstop-singapore-2...</td>\n",
       "      <td>3</td>\n",
       "      <td>[{'alias': 'cafes', 'title': 'Cafes'}, {'alias...</td>\n",
       "      <td>4.5</td>\n",
       "      <td>{'latitude': 1.2859607, 'longitude': 103.8478512}</td>\n",
       "      <td>[]</td>\n",
       "      <td>$$</td>\n",
       "      <td>{'address1': '1 George St', 'address2': '#01-0...</td>\n",
       "      <td>6.567200e+09</td>\n",
       "      <td>+65 6720 0378</td>\n",
       "      <td>3133.802277</td>\n",
       "    </tr>\n",
       "  </tbody>\n",
       "</table>\n",
       "</div>"
      ],
      "text/plain": [
       "                         id                        alias               name  \\\n",
       "998  zMdzcp2ASmv9_7v-mLyCDA  hood-bar-and-cafe-singapore  Hood Bar and Cafe   \n",
       "999  oR6i1EWW15v4Cdsx2kD9Pw        saladstop-singapore-2          SaladStop   \n",
       "\n",
       "                                             image_url  is_closed  \\\n",
       "998  https://s3-media1.fl.yelpcdn.com/bphoto/o8-Fgk...      False   \n",
       "999  https://s3-media1.fl.yelpcdn.com/bphoto/BFeHTJ...      False   \n",
       "\n",
       "                                                   url  review_count  \\\n",
       "998  https://www.yelp.com/biz/hood-bar-and-cafe-sin...            12   \n",
       "999  https://www.yelp.com/biz/saladstop-singapore-2...             3   \n",
       "\n",
       "                                            categories  rating  \\\n",
       "998  [{'alias': 'bars', 'title': 'Bars'}, {'alias':...     3.5   \n",
       "999  [{'alias': 'cafes', 'title': 'Cafes'}, {'alias...     4.5   \n",
       "\n",
       "                                           coordinates transactions price  \\\n",
       "998    {'latitude': 1.300095, 'longitude': 103.854486}           []    $$   \n",
       "999  {'latitude': 1.2859607, 'longitude': 103.8478512}           []    $$   \n",
       "\n",
       "                                              location         phone  \\\n",
       "998  {'address1': '201 Victoria Street', 'address2'...  6.562219e+09   \n",
       "999  {'address1': '1 George St', 'address2': '#01-0...  6.567200e+09   \n",
       "\n",
       "     display_phone     distance  \n",
       "998  +65 6221 8846  1676.632966  \n",
       "999  +65 6720 0378  3133.802277  "
      ]
     },
     "execution_count": 42,
     "metadata": {},
     "output_type": "execute_result"
    }
   ],
   "source": [
    "df1.tail(2)"
   ]
  },
  {
   "cell_type": "code",
   "execution_count": 43,
   "metadata": {},
   "outputs": [],
   "source": [
    "#feature engineering to create new column of outlet category_alias to be used in content-based filtering later on.\n",
    "df1_lst = []\n",
    "for row in df1['categories']:\n",
    "    work_list = []\n",
    "    category_alias = re.findall(r\"\\'alias\\'\\: \\'([^\\'\\,\\{\\}]+)\\'\", row)\n",
    "    cat_alias = '-'.join(category_alias)\n",
    "    work_list.append(cat_alias)\n",
    "    df1_lst.extend(work_list)\n",
    "df1['category_alias'] = df1_lst"
   ]
  },
  {
   "cell_type": "code",
   "execution_count": 44,
   "metadata": {},
   "outputs": [],
   "source": [
    "#feature engineering to create new column of outlet category_title to be used in content-based filtering later on.\n",
    "df1_lst1 = []\n",
    "for row in df1['categories']:\n",
    "    work_list1 = []\n",
    "    category_title = re.findall(r\"\\'title\\'\\: \\'([^\\'\\,\\{\\}]+)\\'\", row)\n",
    "    cat_title = '-'.join(category_title)\n",
    "    work_list1.append(cat_title)\n",
    "    df1_lst1.extend(work_list1)\n",
    "df1['category_title'] = df1_lst1"
   ]
  },
  {
   "cell_type": "code",
   "execution_count": 45,
   "metadata": {},
   "outputs": [
    {
     "data": {
      "text/html": [
       "<div>\n",
       "<style scoped>\n",
       "    .dataframe tbody tr th:only-of-type {\n",
       "        vertical-align: middle;\n",
       "    }\n",
       "\n",
       "    .dataframe tbody tr th {\n",
       "        vertical-align: top;\n",
       "    }\n",
       "\n",
       "    .dataframe thead th {\n",
       "        text-align: right;\n",
       "    }\n",
       "</style>\n",
       "<table border=\"1\" class=\"dataframe\">\n",
       "  <thead>\n",
       "    <tr style=\"text-align: right;\">\n",
       "      <th></th>\n",
       "      <th>id</th>\n",
       "      <th>alias</th>\n",
       "      <th>name</th>\n",
       "      <th>image_url</th>\n",
       "      <th>is_closed</th>\n",
       "      <th>url</th>\n",
       "      <th>review_count</th>\n",
       "      <th>categories</th>\n",
       "      <th>rating</th>\n",
       "      <th>coordinates</th>\n",
       "      <th>transactions</th>\n",
       "      <th>price</th>\n",
       "      <th>location</th>\n",
       "      <th>phone</th>\n",
       "      <th>display_phone</th>\n",
       "      <th>distance</th>\n",
       "      <th>category_alias</th>\n",
       "      <th>category_title</th>\n",
       "    </tr>\n",
       "  </thead>\n",
       "  <tbody>\n",
       "    <tr>\n",
       "      <th>997</th>\n",
       "      <td>NnD03Wf9QwvcnO8G1rXnGw</td>\n",
       "      <td>grandmas-singapore-3</td>\n",
       "      <td>Grandma's</td>\n",
       "      <td>https://s3-media1.fl.yelpcdn.com/bphoto/vXJQYO...</td>\n",
       "      <td>False</td>\n",
       "      <td>https://www.yelp.com/biz/grandmas-singapore-3?...</td>\n",
       "      <td>2</td>\n",
       "      <td>[{'alias': 'cafes', 'title': 'Cafes'}]</td>\n",
       "      <td>2.5</td>\n",
       "      <td>{'latitude': 1.297649, 'longitude': 103.852532}</td>\n",
       "      <td>[]</td>\n",
       "      <td>$$$</td>\n",
       "      <td>{'address1': '252 North Bridge Road', 'address...</td>\n",
       "      <td>6.563336e+09</td>\n",
       "      <td>+65 6333 5580</td>\n",
       "      <td>1874.433837</td>\n",
       "      <td>cafes</td>\n",
       "      <td>Cafes</td>\n",
       "    </tr>\n",
       "    <tr>\n",
       "      <th>998</th>\n",
       "      <td>zMdzcp2ASmv9_7v-mLyCDA</td>\n",
       "      <td>hood-bar-and-cafe-singapore</td>\n",
       "      <td>Hood Bar and Cafe</td>\n",
       "      <td>https://s3-media1.fl.yelpcdn.com/bphoto/o8-Fgk...</td>\n",
       "      <td>False</td>\n",
       "      <td>https://www.yelp.com/biz/hood-bar-and-cafe-sin...</td>\n",
       "      <td>12</td>\n",
       "      <td>[{'alias': 'bars', 'title': 'Bars'}, {'alias':...</td>\n",
       "      <td>3.5</td>\n",
       "      <td>{'latitude': 1.300095, 'longitude': 103.854486}</td>\n",
       "      <td>[]</td>\n",
       "      <td>$$</td>\n",
       "      <td>{'address1': '201 Victoria Street', 'address2'...</td>\n",
       "      <td>6.562219e+09</td>\n",
       "      <td>+65 6221 8846</td>\n",
       "      <td>1676.632966</td>\n",
       "      <td>bars-cafes-musicvenues</td>\n",
       "      <td>Bars-Cafes-Music Venues</td>\n",
       "    </tr>\n",
       "    <tr>\n",
       "      <th>999</th>\n",
       "      <td>oR6i1EWW15v4Cdsx2kD9Pw</td>\n",
       "      <td>saladstop-singapore-2</td>\n",
       "      <td>SaladStop</td>\n",
       "      <td>https://s3-media1.fl.yelpcdn.com/bphoto/BFeHTJ...</td>\n",
       "      <td>False</td>\n",
       "      <td>https://www.yelp.com/biz/saladstop-singapore-2...</td>\n",
       "      <td>3</td>\n",
       "      <td>[{'alias': 'cafes', 'title': 'Cafes'}, {'alias...</td>\n",
       "      <td>4.5</td>\n",
       "      <td>{'latitude': 1.2859607, 'longitude': 103.8478512}</td>\n",
       "      <td>[]</td>\n",
       "      <td>$$</td>\n",
       "      <td>{'address1': '1 George St', 'address2': '#01-0...</td>\n",
       "      <td>6.567200e+09</td>\n",
       "      <td>+65 6720 0378</td>\n",
       "      <td>3133.802277</td>\n",
       "      <td>cafes-salad-raw_food</td>\n",
       "      <td>Cafes-Salad-Live/Raw Food</td>\n",
       "    </tr>\n",
       "  </tbody>\n",
       "</table>\n",
       "</div>"
      ],
      "text/plain": [
       "                         id                        alias               name  \\\n",
       "997  NnD03Wf9QwvcnO8G1rXnGw         grandmas-singapore-3          Grandma's   \n",
       "998  zMdzcp2ASmv9_7v-mLyCDA  hood-bar-and-cafe-singapore  Hood Bar and Cafe   \n",
       "999  oR6i1EWW15v4Cdsx2kD9Pw        saladstop-singapore-2          SaladStop   \n",
       "\n",
       "                                             image_url  is_closed  \\\n",
       "997  https://s3-media1.fl.yelpcdn.com/bphoto/vXJQYO...      False   \n",
       "998  https://s3-media1.fl.yelpcdn.com/bphoto/o8-Fgk...      False   \n",
       "999  https://s3-media1.fl.yelpcdn.com/bphoto/BFeHTJ...      False   \n",
       "\n",
       "                                                   url  review_count  \\\n",
       "997  https://www.yelp.com/biz/grandmas-singapore-3?...             2   \n",
       "998  https://www.yelp.com/biz/hood-bar-and-cafe-sin...            12   \n",
       "999  https://www.yelp.com/biz/saladstop-singapore-2...             3   \n",
       "\n",
       "                                            categories  rating  \\\n",
       "997             [{'alias': 'cafes', 'title': 'Cafes'}]     2.5   \n",
       "998  [{'alias': 'bars', 'title': 'Bars'}, {'alias':...     3.5   \n",
       "999  [{'alias': 'cafes', 'title': 'Cafes'}, {'alias...     4.5   \n",
       "\n",
       "                                           coordinates transactions price  \\\n",
       "997    {'latitude': 1.297649, 'longitude': 103.852532}           []   $$$   \n",
       "998    {'latitude': 1.300095, 'longitude': 103.854486}           []    $$   \n",
       "999  {'latitude': 1.2859607, 'longitude': 103.8478512}           []    $$   \n",
       "\n",
       "                                              location         phone  \\\n",
       "997  {'address1': '252 North Bridge Road', 'address...  6.563336e+09   \n",
       "998  {'address1': '201 Victoria Street', 'address2'...  6.562219e+09   \n",
       "999  {'address1': '1 George St', 'address2': '#01-0...  6.567200e+09   \n",
       "\n",
       "     display_phone     distance          category_alias  \\\n",
       "997  +65 6333 5580  1874.433837                   cafes   \n",
       "998  +65 6221 8846  1676.632966  bars-cafes-musicvenues   \n",
       "999  +65 6720 0378  3133.802277    cafes-salad-raw_food   \n",
       "\n",
       "                category_title  \n",
       "997                      Cafes  \n",
       "998    Bars-Cafes-Music Venues  \n",
       "999  Cafes-Salad-Live/Raw Food  "
      ]
     },
     "execution_count": 45,
     "metadata": {},
     "output_type": "execute_result"
    }
   ],
   "source": [
    "#df1 now has 2 additional category columns!\n",
    "df1.tail(3)"
   ]
  },
  {
   "cell_type": "code",
   "execution_count": 46,
   "metadata": {},
   "outputs": [
    {
     "data": {
      "text/plain": [
       "987"
      ]
     },
     "execution_count": 46,
     "metadata": {},
     "output_type": "execute_result"
    }
   ],
   "source": [
    "#reading in the scraped userids dataset and checking out the number of users who have rated and/or reviewed the scraped outlets.\n",
    "userids = pd.read_csv('yelp_data/sg_store_userid.csv')\n",
    "len(userids.columns)"
   ]
  },
  {
   "cell_type": "code",
   "execution_count": 47,
   "metadata": {},
   "outputs": [
    {
     "data": {
      "text/html": [
       "<div>\n",
       "<style scoped>\n",
       "    .dataframe tbody tr th:only-of-type {\n",
       "        vertical-align: middle;\n",
       "    }\n",
       "\n",
       "    .dataframe tbody tr th {\n",
       "        vertical-align: top;\n",
       "    }\n",
       "\n",
       "    .dataframe thead th {\n",
       "        text-align: right;\n",
       "    }\n",
       "</style>\n",
       "<table border=\"1\" class=\"dataframe\">\n",
       "  <thead>\n",
       "    <tr style=\"text-align: right;\">\n",
       "      <th></th>\n",
       "      <th>hustle-co-singapore</th>\n",
       "      <th>benjamin-barker-cafe-singapore</th>\n",
       "      <th>the-coffee-roaster-singapore-2</th>\n",
       "      <th>koi-cafe-singapore</th>\n",
       "      <th>starbucks-singapore-21</th>\n",
       "      <th>eaglewings-loft-singapore</th>\n",
       "      <th>killiney-kopitiam-singapore-11</th>\n",
       "      <th>creamier-handcrafted-ice-cream-and-coffee-singapore-2</th>\n",
       "      <th>platform-1094-singapore</th>\n",
       "      <th>nanyang-old-coffee-singapore-7</th>\n",
       "      <th>...</th>\n",
       "      <th>round-8-singapore</th>\n",
       "      <th>kith-cafe-singapore-7</th>\n",
       "      <th>tai-lei-loi-kei-macau-singapore</th>\n",
       "      <th>milksha-singapore</th>\n",
       "      <th>the-signature-patisserie-singapore-2</th>\n",
       "      <th>smoothy-de-cafe-singapore</th>\n",
       "      <th>lee-siau-ling-cafe-singapore</th>\n",
       "      <th>moly-cafe-singapore</th>\n",
       "      <th>artease-singapore-2</th>\n",
       "      <th>starbucks-singapore-52</th>\n",
       "    </tr>\n",
       "  </thead>\n",
       "  <tbody>\n",
       "    <tr>\n",
       "      <th>0</th>\n",
       "      <td>DY6s438vFKfblXEWxG0S1g</td>\n",
       "      <td>qPMX0LylFc65ZXkivCRPsQ</td>\n",
       "      <td>pDk2mjq7RTpIc6AWIvrbfw</td>\n",
       "      <td>FQZZsU3J88IGF8n5e3XYZg</td>\n",
       "      <td>1Q2GYf4LGZiJ</td>\n",
       "      <td>cCZpMsB_EXkMyn_OvQbdEA</td>\n",
       "      <td>EIwNqeBDMQ4Q6k0DQ30SyA</td>\n",
       "      <td>a0VARjOrjhffnICy4NNCrA</td>\n",
       "      <td>0__4UW7FOOJS3jYBJOPj3Q</td>\n",
       "      <td>uf1UdKswKWOqFLUvRvvbzA</td>\n",
       "      <td>...</td>\n",
       "      <td>H8mXfh5XgGCqmMLwVH7k5A</td>\n",
       "      <td>elaLkfhrp_1O5kDA7ssuwA</td>\n",
       "      <td>ZgxnWy0y9sv5eU08S</td>\n",
       "      <td>mDvkSBth03eZtn</td>\n",
       "      <td>LiaJg56jzTYaQJxQ</td>\n",
       "      <td>W8vFfu8VMe9EAhDcphjDuQ</td>\n",
       "      <td>d5aAGX77V3eW86DPfzHmNA</td>\n",
       "      <td>kVpbaec2fs_B_I6hAMB5</td>\n",
       "      <td>w2_cG</td>\n",
       "      <td>nzIq7_i0C79ToOp</td>\n",
       "    </tr>\n",
       "    <tr>\n",
       "      <th>1</th>\n",
       "      <td>YziRZOh5MrqN5b84dQ9AIQ</td>\n",
       "      <td>NaN</td>\n",
       "      <td>NaN</td>\n",
       "      <td>NaN</td>\n",
       "      <td>Vc5DGfRMkBs8Gyibr47LRg</td>\n",
       "      <td>2F38Uc4UNNbFVdyUUnBjOA</td>\n",
       "      <td>_I4S9ZWAoJ2PDippwT605g</td>\n",
       "      <td>OKX</td>\n",
       "      <td>LK0zfxdI77wuBPh9uP9EBQ</td>\n",
       "      <td>NaN</td>\n",
       "      <td>...</td>\n",
       "      <td>X8iuTWYz3zToT4RWa7aBUQ</td>\n",
       "      <td>1ty1PWKi1Lysc9hcimddXg</td>\n",
       "      <td>nF5ySHfiUS0v30njNniOjg</td>\n",
       "      <td>0V_C2aOTDKuR8CO3P3RvJw</td>\n",
       "      <td>acoY4qe3wMos3WxNSgYOuw</td>\n",
       "      <td>NaN</td>\n",
       "      <td>NaN</td>\n",
       "      <td>1wWXchH7yRlFCxfC4dkQnA</td>\n",
       "      <td>6SyrIwCQWCYUfR4_V9OXGw</td>\n",
       "      <td>NaN</td>\n",
       "    </tr>\n",
       "    <tr>\n",
       "      <th>2</th>\n",
       "      <td>21uYcVHQ8uf9GIKrahY2VA</td>\n",
       "      <td>NaN</td>\n",
       "      <td>NaN</td>\n",
       "      <td>NaN</td>\n",
       "      <td>GbcYr_XnbaiYAuFcgHZcbQ</td>\n",
       "      <td>NaN</td>\n",
       "      <td>cb</td>\n",
       "      <td>hon</td>\n",
       "      <td>LTn54LOt2eVWek1iTwDGMg</td>\n",
       "      <td>NaN</td>\n",
       "      <td>...</td>\n",
       "      <td>NaN</td>\n",
       "      <td>NaN</td>\n",
       "      <td>NaN</td>\n",
       "      <td>NaN</td>\n",
       "      <td>NaN</td>\n",
       "      <td>NaN</td>\n",
       "      <td>NaN</td>\n",
       "      <td>NaN</td>\n",
       "      <td>hIlQOXn094Q205B_vu7Sjw</td>\n",
       "      <td>NaN</td>\n",
       "    </tr>\n",
       "    <tr>\n",
       "      <th>3</th>\n",
       "      <td>oUZ3fmICiFLVrUBl0lDx4g</td>\n",
       "      <td>NaN</td>\n",
       "      <td>NaN</td>\n",
       "      <td>NaN</td>\n",
       "      <td>rJpsaqiXNcwoKwvRz0a1rg</td>\n",
       "      <td>NaN</td>\n",
       "      <td>UK2DsID5q3MCqYX23S6xXw</td>\n",
       "      <td>8</td>\n",
       "      <td>X</td>\n",
       "      <td>NaN</td>\n",
       "      <td>...</td>\n",
       "      <td>NaN</td>\n",
       "      <td>NaN</td>\n",
       "      <td>NaN</td>\n",
       "      <td>NaN</td>\n",
       "      <td>NaN</td>\n",
       "      <td>NaN</td>\n",
       "      <td>NaN</td>\n",
       "      <td>NaN</td>\n",
       "      <td>NaN</td>\n",
       "      <td>NaN</td>\n",
       "    </tr>\n",
       "    <tr>\n",
       "      <th>4</th>\n",
       "      <td>NaN</td>\n",
       "      <td>NaN</td>\n",
       "      <td>NaN</td>\n",
       "      <td>NaN</td>\n",
       "      <td>0jmAZwCwQN9ByyWsLx7khA</td>\n",
       "      <td>NaN</td>\n",
       "      <td>VxwCgpZGEPNQ7z9ZxFYntw</td>\n",
       "      <td>TTE8fEIOKXBeNdJFZoCqtg</td>\n",
       "      <td>gm9MU9CqAfMXhrLvpPclQw</td>\n",
       "      <td>NaN</td>\n",
       "      <td>...</td>\n",
       "      <td>NaN</td>\n",
       "      <td>NaN</td>\n",
       "      <td>NaN</td>\n",
       "      <td>NaN</td>\n",
       "      <td>NaN</td>\n",
       "      <td>NaN</td>\n",
       "      <td>NaN</td>\n",
       "      <td>NaN</td>\n",
       "      <td>NaN</td>\n",
       "      <td>NaN</td>\n",
       "    </tr>\n",
       "  </tbody>\n",
       "</table>\n",
       "<p>5 rows × 987 columns</p>\n",
       "</div>"
      ],
      "text/plain": [
       "      hustle-co-singapore benjamin-barker-cafe-singapore  \\\n",
       "0  DY6s438vFKfblXEWxG0S1g         qPMX0LylFc65ZXkivCRPsQ   \n",
       "1  YziRZOh5MrqN5b84dQ9AIQ                            NaN   \n",
       "2  21uYcVHQ8uf9GIKrahY2VA                            NaN   \n",
       "3  oUZ3fmICiFLVrUBl0lDx4g                            NaN   \n",
       "4                     NaN                            NaN   \n",
       "\n",
       "  the-coffee-roaster-singapore-2      koi-cafe-singapore  \\\n",
       "0         pDk2mjq7RTpIc6AWIvrbfw  FQZZsU3J88IGF8n5e3XYZg   \n",
       "1                            NaN                     NaN   \n",
       "2                            NaN                     NaN   \n",
       "3                            NaN                     NaN   \n",
       "4                            NaN                     NaN   \n",
       "\n",
       "   starbucks-singapore-21 eaglewings-loft-singapore  \\\n",
       "0            1Q2GYf4LGZiJ    cCZpMsB_EXkMyn_OvQbdEA   \n",
       "1  Vc5DGfRMkBs8Gyibr47LRg    2F38Uc4UNNbFVdyUUnBjOA   \n",
       "2  GbcYr_XnbaiYAuFcgHZcbQ                       NaN   \n",
       "3  rJpsaqiXNcwoKwvRz0a1rg                       NaN   \n",
       "4  0jmAZwCwQN9ByyWsLx7khA                       NaN   \n",
       "\n",
       "  killiney-kopitiam-singapore-11  \\\n",
       "0         EIwNqeBDMQ4Q6k0DQ30SyA   \n",
       "1         _I4S9ZWAoJ2PDippwT605g   \n",
       "2                             cb   \n",
       "3         UK2DsID5q3MCqYX23S6xXw   \n",
       "4         VxwCgpZGEPNQ7z9ZxFYntw   \n",
       "\n",
       "  creamier-handcrafted-ice-cream-and-coffee-singapore-2  \\\n",
       "0                             a0VARjOrjhffnICy4NNCrA      \n",
       "1                                                OKX      \n",
       "2                                                hon      \n",
       "3                                                  8      \n",
       "4                             TTE8fEIOKXBeNdJFZoCqtg      \n",
       "\n",
       "  platform-1094-singapore nanyang-old-coffee-singapore-7  ...  \\\n",
       "0  0__4UW7FOOJS3jYBJOPj3Q         uf1UdKswKWOqFLUvRvvbzA  ...   \n",
       "1  LK0zfxdI77wuBPh9uP9EBQ                            NaN  ...   \n",
       "2  LTn54LOt2eVWek1iTwDGMg                            NaN  ...   \n",
       "3                       X                            NaN  ...   \n",
       "4  gm9MU9CqAfMXhrLvpPclQw                            NaN  ...   \n",
       "\n",
       "        round-8-singapore   kith-cafe-singapore-7  \\\n",
       "0  H8mXfh5XgGCqmMLwVH7k5A  elaLkfhrp_1O5kDA7ssuwA   \n",
       "1  X8iuTWYz3zToT4RWa7aBUQ  1ty1PWKi1Lysc9hcimddXg   \n",
       "2                     NaN                     NaN   \n",
       "3                     NaN                     NaN   \n",
       "4                     NaN                     NaN   \n",
       "\n",
       "  tai-lei-loi-kei-macau-singapore       milksha-singapore  \\\n",
       "0               ZgxnWy0y9sv5eU08S          mDvkSBth03eZtn   \n",
       "1          nF5ySHfiUS0v30njNniOjg  0V_C2aOTDKuR8CO3P3RvJw   \n",
       "2                             NaN                     NaN   \n",
       "3                             NaN                     NaN   \n",
       "4                             NaN                     NaN   \n",
       "\n",
       "  the-signature-patisserie-singapore-2 smoothy-de-cafe-singapore  \\\n",
       "0                     LiaJg56jzTYaQJxQ    W8vFfu8VMe9EAhDcphjDuQ   \n",
       "1               acoY4qe3wMos3WxNSgYOuw                       NaN   \n",
       "2                                  NaN                       NaN   \n",
       "3                                  NaN                       NaN   \n",
       "4                                  NaN                       NaN   \n",
       "\n",
       "  lee-siau-ling-cafe-singapore     moly-cafe-singapore  \\\n",
       "0       d5aAGX77V3eW86DPfzHmNA    kVpbaec2fs_B_I6hAMB5   \n",
       "1                          NaN  1wWXchH7yRlFCxfC4dkQnA   \n",
       "2                          NaN                     NaN   \n",
       "3                          NaN                     NaN   \n",
       "4                          NaN                     NaN   \n",
       "\n",
       "      artease-singapore-2 starbucks-singapore-52  \n",
       "0                   w2_cG        nzIq7_i0C79ToOp  \n",
       "1  6SyrIwCQWCYUfR4_V9OXGw                    NaN  \n",
       "2  hIlQOXn094Q205B_vu7Sjw                    NaN  \n",
       "3                     NaN                    NaN  \n",
       "4                     NaN                    NaN  \n",
       "\n",
       "[5 rows x 987 columns]"
      ]
     },
     "execution_count": 47,
     "metadata": {},
     "output_type": "execute_result"
    }
   ],
   "source": [
    "#the userids will be label-encoded later on and for content-based filtering, we will just be training a model for a specific user to see how it performs, thus it is ok for the userid to be converted to numerical labels.\n",
    "userids.head()"
   ]
  },
  {
   "cell_type": "code",
   "execution_count": 48,
   "metadata": {},
   "outputs": [
    {
     "data": {
      "text/plain": [
       "987"
      ]
     },
     "execution_count": 48,
     "metadata": {},
     "output_type": "execute_result"
    }
   ],
   "source": [
    "#reading in the ratings dataset scraped from Yelp and checking out the number of ratings.\n",
    "ratings = pd.read_csv('yelp_data/sg_store_rating.csv')\n",
    "len(ratings.columns)"
   ]
  },
  {
   "cell_type": "code",
   "execution_count": 49,
   "metadata": {
    "scrolled": true
   },
   "outputs": [
    {
     "data": {
      "text/plain": [
       "alias\n",
       "183-rojak-singapore                                                food\n",
       "1983-a-taste-of-nanyang-singapore-2       singaporean-coffee-foodstands\n",
       "2am-dessert-bar-singapore                          bars-desserts-coffee\n",
       "2nd-mini-steamboat-delight-singapore                              cafes\n",
       "365-fruit-juice-and-smoothie-singapore                        juicebars\n",
       "Name: category_alias, dtype: object"
      ]
     },
     "execution_count": 49,
     "metadata": {},
     "output_type": "execute_result"
    }
   ],
   "source": [
    "#grouping by category_alias for easier organization of info later on\n",
    "cats = df1.groupby('alias')['category_alias'].sum()\n",
    "cats[:5]"
   ]
  },
  {
   "cell_type": "code",
   "execution_count": 50,
   "metadata": {},
   "outputs": [],
   "source": [
    "#replacing hyphens and underscores with spaces as part of preprocessing\n",
    "cats = cats.apply(lambda val: val.replace('-',' ').replace('_',' '))"
   ]
  },
  {
   "cell_type": "code",
   "execution_count": 51,
   "metadata": {},
   "outputs": [
    {
     "data": {
      "text/html": [
       "<div>\n",
       "<style scoped>\n",
       "    .dataframe tbody tr th:only-of-type {\n",
       "        vertical-align: middle;\n",
       "    }\n",
       "\n",
       "    .dataframe tbody tr th {\n",
       "        vertical-align: top;\n",
       "    }\n",
       "\n",
       "    .dataframe thead th {\n",
       "        text-align: right;\n",
       "    }\n",
       "</style>\n",
       "<table border=\"1\" class=\"dataframe\">\n",
       "  <thead>\n",
       "    <tr style=\"text-align: right;\">\n",
       "      <th></th>\n",
       "      <th>alias</th>\n",
       "      <th>category_alias</th>\n",
       "    </tr>\n",
       "  </thead>\n",
       "  <tbody>\n",
       "    <tr>\n",
       "      <th>0</th>\n",
       "      <td>183-rojak-singapore</td>\n",
       "      <td>food</td>\n",
       "    </tr>\n",
       "    <tr>\n",
       "      <th>1</th>\n",
       "      <td>1983-a-taste-of-nanyang-singapore-2</td>\n",
       "      <td>singaporean coffee foodstands</td>\n",
       "    </tr>\n",
       "    <tr>\n",
       "      <th>2</th>\n",
       "      <td>2am-dessert-bar-singapore</td>\n",
       "      <td>bars desserts coffee</td>\n",
       "    </tr>\n",
       "    <tr>\n",
       "      <th>3</th>\n",
       "      <td>2nd-mini-steamboat-delight-singapore</td>\n",
       "      <td>cafes</td>\n",
       "    </tr>\n",
       "    <tr>\n",
       "      <th>4</th>\n",
       "      <td>365-fruit-juice-and-smoothie-singapore</td>\n",
       "      <td>juicebars</td>\n",
       "    </tr>\n",
       "  </tbody>\n",
       "</table>\n",
       "</div>"
      ],
      "text/plain": [
       "                                    alias                 category_alias\n",
       "0                     183-rojak-singapore                           food\n",
       "1     1983-a-taste-of-nanyang-singapore-2  singaporean coffee foodstands\n",
       "2               2am-dessert-bar-singapore           bars desserts coffee\n",
       "3    2nd-mini-steamboat-delight-singapore                          cafes\n",
       "4  365-fruit-juice-and-smoothie-singapore                      juicebars"
      ]
     },
     "execution_count": 51,
     "metadata": {},
     "output_type": "execute_result"
    }
   ],
   "source": [
    "#creating a new df of shops/aliases and category_alias for merging later on for content-based filtering.\n",
    "cat_df = pd.DataFrame(cats, index=cats.index).reset_index()\n",
    "cat_df.head()"
   ]
  },
  {
   "cell_type": "code",
   "execution_count": 52,
   "metadata": {},
   "outputs": [
    {
     "data": {
      "text/html": [
       "<div>\n",
       "<style scoped>\n",
       "    .dataframe tbody tr th:only-of-type {\n",
       "        vertical-align: middle;\n",
       "    }\n",
       "\n",
       "    .dataframe tbody tr th {\n",
       "        vertical-align: top;\n",
       "    }\n",
       "\n",
       "    .dataframe thead th {\n",
       "        text-align: right;\n",
       "    }\n",
       "</style>\n",
       "<table border=\"1\" class=\"dataframe\">\n",
       "  <thead>\n",
       "    <tr style=\"text-align: right;\">\n",
       "      <th></th>\n",
       "      <th>alias</th>\n",
       "      <th>category_alias</th>\n",
       "    </tr>\n",
       "  </thead>\n",
       "  <tbody>\n",
       "  </tbody>\n",
       "</table>\n",
       "</div>"
      ],
      "text/plain": [
       "Empty DataFrame\n",
       "Columns: [alias, category_alias]\n",
       "Index: []"
      ]
     },
     "execution_count": 52,
     "metadata": {},
     "output_type": "execute_result"
    }
   ],
   "source": [
    "#ensuring no duplicated shops in this new category_alias df\n",
    "cat_df[cat_df.duplicated(subset=('alias'))]"
   ]
  },
  {
   "cell_type": "code",
   "execution_count": 53,
   "metadata": {},
   "outputs": [],
   "source": [
    "#renaming the alias to shops so that this df can be merged with the others later on for content-based filtering.\n",
    "cat_df.rename(columns={'alias':'shops'}, inplace=True)"
   ]
  },
  {
   "cell_type": "code",
   "execution_count": 54,
   "metadata": {},
   "outputs": [
    {
     "data": {
      "text/html": [
       "<div>\n",
       "<style scoped>\n",
       "    .dataframe tbody tr th:only-of-type {\n",
       "        vertical-align: middle;\n",
       "    }\n",
       "\n",
       "    .dataframe tbody tr th {\n",
       "        vertical-align: top;\n",
       "    }\n",
       "\n",
       "    .dataframe thead th {\n",
       "        text-align: right;\n",
       "    }\n",
       "</style>\n",
       "<table border=\"1\" class=\"dataframe\">\n",
       "  <thead>\n",
       "    <tr style=\"text-align: right;\">\n",
       "      <th></th>\n",
       "      <th>shops</th>\n",
       "      <th>category_alias</th>\n",
       "    </tr>\n",
       "  </thead>\n",
       "  <tbody>\n",
       "    <tr>\n",
       "      <th>0</th>\n",
       "      <td>183-rojak-singapore</td>\n",
       "      <td>food</td>\n",
       "    </tr>\n",
       "    <tr>\n",
       "      <th>1</th>\n",
       "      <td>1983-a-taste-of-nanyang-singapore-2</td>\n",
       "      <td>singaporean coffee foodstands</td>\n",
       "    </tr>\n",
       "    <tr>\n",
       "      <th>2</th>\n",
       "      <td>2am-dessert-bar-singapore</td>\n",
       "      <td>bars desserts coffee</td>\n",
       "    </tr>\n",
       "    <tr>\n",
       "      <th>3</th>\n",
       "      <td>2nd-mini-steamboat-delight-singapore</td>\n",
       "      <td>cafes</td>\n",
       "    </tr>\n",
       "    <tr>\n",
       "      <th>4</th>\n",
       "      <td>365-fruit-juice-and-smoothie-singapore</td>\n",
       "      <td>juicebars</td>\n",
       "    </tr>\n",
       "  </tbody>\n",
       "</table>\n",
       "</div>"
      ],
      "text/plain": [
       "                                    shops                 category_alias\n",
       "0                     183-rojak-singapore                           food\n",
       "1     1983-a-taste-of-nanyang-singapore-2  singaporean coffee foodstands\n",
       "2               2am-dessert-bar-singapore           bars desserts coffee\n",
       "3    2nd-mini-steamboat-delight-singapore                          cafes\n",
       "4  365-fruit-juice-and-smoothie-singapore                      juicebars"
      ]
     },
     "execution_count": 54,
     "metadata": {},
     "output_type": "execute_result"
    }
   ],
   "source": [
    "cat_df.head()"
   ]
  },
  {
   "cell_type": "code",
   "execution_count": 55,
   "metadata": {},
   "outputs": [
    {
     "data": {
      "text/plain": [
       "(989, 2)"
      ]
     },
     "execution_count": 55,
     "metadata": {},
     "output_type": "execute_result"
    }
   ],
   "source": [
    "cat_df.shape"
   ]
  },
  {
   "cell_type": "code",
   "execution_count": 56,
   "metadata": {},
   "outputs": [
    {
     "data": {
      "text/html": [
       "<div>\n",
       "<style scoped>\n",
       "    .dataframe tbody tr th:only-of-type {\n",
       "        vertical-align: middle;\n",
       "    }\n",
       "\n",
       "    .dataframe tbody tr th {\n",
       "        vertical-align: top;\n",
       "    }\n",
       "\n",
       "    .dataframe thead th {\n",
       "        text-align: right;\n",
       "    }\n",
       "</style>\n",
       "<table border=\"1\" class=\"dataframe\">\n",
       "  <thead>\n",
       "    <tr style=\"text-align: right;\">\n",
       "      <th></th>\n",
       "      <th>shops</th>\n",
       "      <th>reviews</th>\n",
       "    </tr>\n",
       "  </thead>\n",
       "  <tbody>\n",
       "    <tr>\n",
       "      <th>0</th>\n",
       "      <td>183-rojak-singapore</td>\n",
       "      <td>Opening a rojak stall in Toa Payoh isn't that ...</td>\n",
       "    </tr>\n",
       "    <tr>\n",
       "      <th>1</th>\n",
       "      <td>1983-a-taste-of-nanyang-singapore-2</td>\n",
       "      <td>Located in the first basement level at MBS, cl...</td>\n",
       "    </tr>\n",
       "    <tr>\n",
       "      <th>2</th>\n",
       "      <td>2am-dessert-bar-singapore</td>\n",
       "      <td>Creative desserts with several layers of flavo...</td>\n",
       "    </tr>\n",
       "    <tr>\n",
       "      <th>3</th>\n",
       "      <td>2nd-mini-steamboat-delight-singapore</td>\n",
       "      <td>Fantastic Authentic Place!!!What a treat and a...</td>\n",
       "    </tr>\n",
       "    <tr>\n",
       "      <th>4</th>\n",
       "      <td>365-fruit-juice-and-smoothie-singapore</td>\n",
       "      <td>Real juice, with real fruits and vegetables, a...</td>\n",
       "    </tr>\n",
       "  </tbody>\n",
       "</table>\n",
       "</div>"
      ],
      "text/plain": [
       "                                    shops  \\\n",
       "0                     183-rojak-singapore   \n",
       "1     1983-a-taste-of-nanyang-singapore-2   \n",
       "2               2am-dessert-bar-singapore   \n",
       "3    2nd-mini-steamboat-delight-singapore   \n",
       "4  365-fruit-juice-and-smoothie-singapore   \n",
       "\n",
       "                                             reviews  \n",
       "0  Opening a rojak stall in Toa Payoh isn't that ...  \n",
       "1  Located in the first basement level at MBS, cl...  \n",
       "2  Creative desserts with several layers of flavo...  \n",
       "3  Fantastic Authentic Place!!!What a treat and a...  \n",
       "4  Real juice, with real fruits and vegetables, a...  "
      ]
     },
     "execution_count": 56,
     "metadata": {},
     "output_type": "execute_result"
    }
   ],
   "source": [
    "unique_shop_reviews_copy.head()"
   ]
  },
  {
   "cell_type": "code",
   "execution_count": 57,
   "metadata": {},
   "outputs": [
    {
     "data": {
      "text/plain": [
       "(981, 2)"
      ]
     },
     "execution_count": 57,
     "metadata": {},
     "output_type": "execute_result"
    }
   ],
   "source": [
    "unique_shop_reviews_copy.shape"
   ]
  },
  {
   "cell_type": "code",
   "execution_count": 58,
   "metadata": {},
   "outputs": [
    {
     "data": {
      "text/html": [
       "<div>\n",
       "<style scoped>\n",
       "    .dataframe tbody tr th:only-of-type {\n",
       "        vertical-align: middle;\n",
       "    }\n",
       "\n",
       "    .dataframe tbody tr th {\n",
       "        vertical-align: top;\n",
       "    }\n",
       "\n",
       "    .dataframe thead th {\n",
       "        text-align: right;\n",
       "    }\n",
       "</style>\n",
       "<table border=\"1\" class=\"dataframe\">\n",
       "  <thead>\n",
       "    <tr style=\"text-align: right;\">\n",
       "      <th></th>\n",
       "      <th>shops</th>\n",
       "      <th>reviews</th>\n",
       "      <th>category_alias</th>\n",
       "    </tr>\n",
       "  </thead>\n",
       "  <tbody>\n",
       "    <tr>\n",
       "      <th>0</th>\n",
       "      <td>183-rojak-singapore</td>\n",
       "      <td>Opening a rojak stall in Toa Payoh isn't that ...</td>\n",
       "      <td>food</td>\n",
       "    </tr>\n",
       "    <tr>\n",
       "      <th>1</th>\n",
       "      <td>1983-a-taste-of-nanyang-singapore-2</td>\n",
       "      <td>Located in the first basement level at MBS, cl...</td>\n",
       "      <td>singaporean coffee foodstands</td>\n",
       "    </tr>\n",
       "    <tr>\n",
       "      <th>2</th>\n",
       "      <td>2am-dessert-bar-singapore</td>\n",
       "      <td>Creative desserts with several layers of flavo...</td>\n",
       "      <td>bars desserts coffee</td>\n",
       "    </tr>\n",
       "    <tr>\n",
       "      <th>3</th>\n",
       "      <td>2nd-mini-steamboat-delight-singapore</td>\n",
       "      <td>Fantastic Authentic Place!!!What a treat and a...</td>\n",
       "      <td>cafes</td>\n",
       "    </tr>\n",
       "    <tr>\n",
       "      <th>4</th>\n",
       "      <td>365-fruit-juice-and-smoothie-singapore</td>\n",
       "      <td>Real juice, with real fruits and vegetables, a...</td>\n",
       "      <td>juicebars</td>\n",
       "    </tr>\n",
       "  </tbody>\n",
       "</table>\n",
       "</div>"
      ],
      "text/plain": [
       "                                    shops  \\\n",
       "0                     183-rojak-singapore   \n",
       "1     1983-a-taste-of-nanyang-singapore-2   \n",
       "2               2am-dessert-bar-singapore   \n",
       "3    2nd-mini-steamboat-delight-singapore   \n",
       "4  365-fruit-juice-and-smoothie-singapore   \n",
       "\n",
       "                                             reviews  \\\n",
       "0  Opening a rojak stall in Toa Payoh isn't that ...   \n",
       "1  Located in the first basement level at MBS, cl...   \n",
       "2  Creative desserts with several layers of flavo...   \n",
       "3  Fantastic Authentic Place!!!What a treat and a...   \n",
       "4  Real juice, with real fruits and vegetables, a...   \n",
       "\n",
       "                  category_alias  \n",
       "0                           food  \n",
       "1  singaporean coffee foodstands  \n",
       "2           bars desserts coffee  \n",
       "3                          cafes  \n",
       "4                      juicebars  "
      ]
     },
     "execution_count": 58,
     "metadata": {},
     "output_type": "execute_result"
    }
   ],
   "source": [
    "#merging reviews df with categories df for content_based filtering later on.\n",
    "review_cat_df = pd.merge(unique_shop_reviews_copy,cat_df,how='left',on='shops')\n",
    "review_cat_df.head()"
   ]
  },
  {
   "cell_type": "code",
   "execution_count": 59,
   "metadata": {},
   "outputs": [
    {
     "data": {
      "text/plain": [
       "shops             0\n",
       "reviews           0\n",
       "category_alias    0\n",
       "dtype: int64"
      ]
     },
     "execution_count": 59,
     "metadata": {},
     "output_type": "execute_result"
    }
   ],
   "source": [
    "#confirming no NaNs\n",
    "review_cat_df.isnull().sum()"
   ]
  },
  {
   "cell_type": "code",
   "execution_count": 60,
   "metadata": {},
   "outputs": [
    {
     "data": {
      "text/plain": [
       "(981, 3)"
      ]
     },
     "execution_count": 60,
     "metadata": {},
     "output_type": "execute_result"
    }
   ],
   "source": [
    "review_cat_df.shape"
   ]
  },
  {
   "cell_type": "markdown",
   "metadata": {},
   "source": [
    "## Reviews' Word Cloud EDA\n",
    "---"
   ]
  },
  {
   "cell_type": "code",
   "execution_count": 61,
   "metadata": {},
   "outputs": [],
   "source": [
    "#creating customized stop words' list\n",
    "cust_stop_words = [word for word in stop_words.ENGLISH_STOP_WORDS]"
   ]
  },
  {
   "cell_type": "code",
   "execution_count": 62,
   "metadata": {},
   "outputs": [],
   "source": [
    "#adding on to the above list based on preliminary word cloud EDA\n",
    "cust_stop_words.extend([\"wa\",\"ha\",\"just\",\"ve\",\"did\",\"got\",\"quite\"]) #adding \"wa\" into the list of stop words"
   ]
  },
  {
   "cell_type": "code",
   "execution_count": 63,
   "metadata": {},
   "outputs": [],
   "source": [
    "#preprocessing text in reviews by defining a function to do so\n",
    "lemm = WordNetLemmatizer()\n",
    "\n",
    "def text_processer(raw_text):\n",
    "    # Function to convert a raw string of text to a string of words\n",
    "    # The input is a single string (a raw unprocessed text), and \n",
    "    # the output is a single string (a preprocessed text)\n",
    "    \n",
    "    # 1. Remove http urls.\n",
    "    review_text = re.sub(\"\\(http.+\\)\", \" \", raw_text)\n",
    "    \n",
    "    # 2. Remove non-letters.\n",
    "    letters_only = re.sub(\"[^a-zA-Z]\", \" \", review_text)\n",
    "    \n",
    "    # 3. Convert to lower case, split into individual words.\n",
    "    words = letters_only.lower().split()\n",
    "    \n",
    "    # 4. Lemmatize words.\n",
    "    lemmed_words = [lemm.lemmatize(i) for i in words]\n",
    "    \n",
    "    # 5. Remove stop words.\n",
    "    \n",
    "    meaningful_words = [w for w in lemmed_words if not w in cust_stop_words]\n",
    "    \n",
    "    # 6. Join the words back into one string separated by space, \n",
    "    # and return the result.\n",
    "    return(\" \".join(meaningful_words))"
   ]
  },
  {
   "cell_type": "code",
   "execution_count": 64,
   "metadata": {},
   "outputs": [],
   "source": [
    "rev = unique_shop_reviews_copy['reviews']"
   ]
  },
  {
   "cell_type": "code",
   "execution_count": 65,
   "metadata": {},
   "outputs": [
    {
     "data": {
      "text/plain": [
       "0    Opening a rojak stall in Toa Payoh isn't that ...\n",
       "1    Located in the first basement level at MBS, cl...\n",
       "2    Creative desserts with several layers of flavo...\n",
       "Name: reviews, dtype: object"
      ]
     },
     "execution_count": 65,
     "metadata": {},
     "output_type": "execute_result"
    }
   ],
   "source": [
    "#looking at some of the texts prior to preprocessing...\n",
    "rev[:3]"
   ]
  },
  {
   "cell_type": "code",
   "execution_count": 66,
   "metadata": {},
   "outputs": [
    {
     "data": {
      "text/plain": [
       "0    opening rojak stall toa payoh isn t easy tough...\n",
       "1    located basement level mb close sw entrance es...\n",
       "2    creative dessert layer flavor enjoyed looking ...\n",
       "dtype: object"
      ]
     },
     "execution_count": 66,
     "metadata": {},
     "output_type": "execute_result"
    }
   ],
   "source": [
    "#and then after preprocessing...\n",
    "rev_processed = pd.Series([text_processer(text) for text in rev])\n",
    "rev_processed[:3]"
   ]
  },
  {
   "cell_type": "code",
   "execution_count": 67,
   "metadata": {},
   "outputs": [],
   "source": [
    "#building word cloud from all reviews\n",
    "#text = \" \".join(review for review in rev_processed)  \n",
    "\n",
    "#print (\"There are {} words in the combination of all reviews.\".format(len(text)))\n",
    "\n",
    "#stopwords = set(cust_stop_words)\n",
    "\n",
    "#wordcloud = WordCloud(stopwords=stopwords, background_color=\"white\").generate(text)\n",
    "\n",
    "#plt.imshow(wordcloud, interpolation='bilinear')\n",
    "#plt.axis(\"off\")\n",
    "#plt.show()"
   ]
  },
  {
   "cell_type": "markdown",
   "metadata": {},
   "source": [
    "<img src=\"yelp_data/sg_coffee_places_reviews.png\"/>"
   ]
  },
  {
   "cell_type": "code",
   "execution_count": 68,
   "metadata": {},
   "outputs": [],
   "source": [
    "#saving image for display here.\n",
    "#wordcloud.to_file(\"yelp_data/sg_coffee_places_reviews.png\") "
   ]
  },
  {
   "cell_type": "code",
   "execution_count": 69,
   "metadata": {},
   "outputs": [
    {
     "data": {
      "text/html": [
       "<div>\n",
       "<style scoped>\n",
       "    .dataframe tbody tr th:only-of-type {\n",
       "        vertical-align: middle;\n",
       "    }\n",
       "\n",
       "    .dataframe tbody tr th {\n",
       "        vertical-align: top;\n",
       "    }\n",
       "\n",
       "    .dataframe thead th {\n",
       "        text-align: right;\n",
       "    }\n",
       "</style>\n",
       "<table border=\"1\" class=\"dataframe\">\n",
       "  <thead>\n",
       "    <tr style=\"text-align: right;\">\n",
       "      <th></th>\n",
       "      <th>shops</th>\n",
       "      <th>ratings</th>\n",
       "    </tr>\n",
       "  </thead>\n",
       "  <tbody>\n",
       "    <tr>\n",
       "      <th>0</th>\n",
       "      <td>hustle-co-singapore</td>\n",
       "      <td>5 star rating</td>\n",
       "    </tr>\n",
       "    <tr>\n",
       "      <th>1</th>\n",
       "      <td>hustle-co-singapore</td>\n",
       "      <td>4 star rating</td>\n",
       "    </tr>\n",
       "    <tr>\n",
       "      <th>2</th>\n",
       "      <td>hustle-co-singapore</td>\n",
       "      <td>5 star rating</td>\n",
       "    </tr>\n",
       "  </tbody>\n",
       "</table>\n",
       "</div>"
      ],
      "text/plain": [
       "                 shops        ratings\n",
       "0  hustle-co-singapore  5 star rating\n",
       "1  hustle-co-singapore  4 star rating\n",
       "2  hustle-co-singapore  5 star rating"
      ]
     },
     "execution_count": 69,
     "metadata": {},
     "output_type": "execute_result"
    }
   ],
   "source": [
    "#reading in scraped ratings dataset and re-organizing it in the correct format\n",
    "shop_ratings = pd.melt(ratings, var_name='shops', value_name='ratings')\n",
    "shop_ratings.head(3)"
   ]
  },
  {
   "cell_type": "code",
   "execution_count": 70,
   "metadata": {},
   "outputs": [
    {
     "data": {
      "text/html": [
       "<div>\n",
       "<style scoped>\n",
       "    .dataframe tbody tr th:only-of-type {\n",
       "        vertical-align: middle;\n",
       "    }\n",
       "\n",
       "    .dataframe tbody tr th {\n",
       "        vertical-align: top;\n",
       "    }\n",
       "\n",
       "    .dataframe thead th {\n",
       "        text-align: right;\n",
       "    }\n",
       "</style>\n",
       "<table border=\"1\" class=\"dataframe\">\n",
       "  <thead>\n",
       "    <tr style=\"text-align: right;\">\n",
       "      <th></th>\n",
       "      <th>shops</th>\n",
       "      <th>userids</th>\n",
       "    </tr>\n",
       "  </thead>\n",
       "  <tbody>\n",
       "    <tr>\n",
       "      <th>0</th>\n",
       "      <td>hustle-co-singapore</td>\n",
       "      <td>DY6s438vFKfblXEWxG0S1g</td>\n",
       "    </tr>\n",
       "    <tr>\n",
       "      <th>1</th>\n",
       "      <td>hustle-co-singapore</td>\n",
       "      <td>YziRZOh5MrqN5b84dQ9AIQ</td>\n",
       "    </tr>\n",
       "    <tr>\n",
       "      <th>2</th>\n",
       "      <td>hustle-co-singapore</td>\n",
       "      <td>21uYcVHQ8uf9GIKrahY2VA</td>\n",
       "    </tr>\n",
       "  </tbody>\n",
       "</table>\n",
       "</div>"
      ],
      "text/plain": [
       "                 shops                 userids\n",
       "0  hustle-co-singapore  DY6s438vFKfblXEWxG0S1g\n",
       "1  hustle-co-singapore  YziRZOh5MrqN5b84dQ9AIQ\n",
       "2  hustle-co-singapore  21uYcVHQ8uf9GIKrahY2VA"
      ]
     },
     "execution_count": 70,
     "metadata": {},
     "output_type": "execute_result"
    }
   ],
   "source": [
    "#reading in scraped userids' dataset and re-organizing it in the correct format\n",
    "shop_userids = pd.melt(userids, var_name='shops', value_name='userids')\n",
    "shop_userids.head(3)"
   ]
  },
  {
   "cell_type": "markdown",
   "metadata": {},
   "source": [
    "## Feature Engineering for ```price```\n",
    "---"
   ]
  },
  {
   "cell_type": "code",
   "execution_count": 71,
   "metadata": {},
   "outputs": [
    {
     "data": {
      "text/plain": [
       "$$      299\n",
       "$       214\n",
       "$$$      36\n",
       "$$$$      5\n",
       "Name: price, dtype: int64"
      ]
     },
     "execution_count": 71,
     "metadata": {},
     "output_type": "execute_result"
    }
   ],
   "source": [
    "#checking types of entries for price in df1\n",
    "df1.price.value_counts()"
   ]
  },
  {
   "cell_type": "code",
   "execution_count": 72,
   "metadata": {},
   "outputs": [],
   "source": [
    "#converting price values into an appropriate format for modeling in content-based filtering later on...\n",
    "df1.price = df1.price.map({'$':1,'$$':2,'$$$':3,'$$$$':4})"
   ]
  },
  {
   "cell_type": "code",
   "execution_count": 73,
   "metadata": {
    "scrolled": true
   },
   "outputs": [
    {
     "data": {
      "text/html": [
       "<div>\n",
       "<style scoped>\n",
       "    .dataframe tbody tr th:only-of-type {\n",
       "        vertical-align: middle;\n",
       "    }\n",
       "\n",
       "    .dataframe tbody tr th {\n",
       "        vertical-align: top;\n",
       "    }\n",
       "\n",
       "    .dataframe thead th {\n",
       "        text-align: right;\n",
       "    }\n",
       "</style>\n",
       "<table border=\"1\" class=\"dataframe\">\n",
       "  <thead>\n",
       "    <tr style=\"text-align: right;\">\n",
       "      <th></th>\n",
       "      <th>review_count</th>\n",
       "      <th>rating</th>\n",
       "      <th>price</th>\n",
       "    </tr>\n",
       "  </thead>\n",
       "  <tbody>\n",
       "    <tr>\n",
       "      <th>0</th>\n",
       "      <td>70</td>\n",
       "      <td>4.5</td>\n",
       "      <td>1.0</td>\n",
       "    </tr>\n",
       "    <tr>\n",
       "      <th>1</th>\n",
       "      <td>83</td>\n",
       "      <td>4.0</td>\n",
       "      <td>2.0</td>\n",
       "    </tr>\n",
       "    <tr>\n",
       "      <th>2</th>\n",
       "      <td>64</td>\n",
       "      <td>4.5</td>\n",
       "      <td>2.0</td>\n",
       "    </tr>\n",
       "  </tbody>\n",
       "</table>\n",
       "</div>"
      ],
      "text/plain": [
       "   review_count  rating  price\n",
       "0            70     4.5    1.0\n",
       "1            83     4.0    2.0\n",
       "2            64     4.5    2.0"
      ]
     },
     "execution_count": 73,
     "metadata": {},
     "output_type": "execute_result"
    }
   ],
   "source": [
    "#might be including review_count, rating, and price into content-based filtering later on...\n",
    "df1[['review_count','rating','price']].head(3)"
   ]
  },
  {
   "cell_type": "markdown",
   "metadata": {},
   "source": [
    "## Merge `shop_ratings` and `shop_userids`\n",
    "---\n",
    "\n",
    "Use `pd.merge` to **inner join** `shop_ratings` with `shop_userids` on the `shops` column."
   ]
  },
  {
   "cell_type": "code",
   "execution_count": 74,
   "metadata": {},
   "outputs": [
    {
     "data": {
      "text/html": [
       "<div>\n",
       "<style scoped>\n",
       "    .dataframe tbody tr th:only-of-type {\n",
       "        vertical-align: middle;\n",
       "    }\n",
       "\n",
       "    .dataframe tbody tr th {\n",
       "        vertical-align: top;\n",
       "    }\n",
       "\n",
       "    .dataframe thead th {\n",
       "        text-align: right;\n",
       "    }\n",
       "</style>\n",
       "<table border=\"1\" class=\"dataframe\">\n",
       "  <thead>\n",
       "    <tr style=\"text-align: right;\">\n",
       "      <th></th>\n",
       "      <th>shops</th>\n",
       "      <th>ratings</th>\n",
       "      <th>userids</th>\n",
       "    </tr>\n",
       "  </thead>\n",
       "  <tbody>\n",
       "    <tr>\n",
       "      <th>0</th>\n",
       "      <td>hustle-co-singapore</td>\n",
       "      <td>5 star rating</td>\n",
       "      <td>DY6s438vFKfblXEWxG0S1g</td>\n",
       "    </tr>\n",
       "    <tr>\n",
       "      <th>1</th>\n",
       "      <td>hustle-co-singapore</td>\n",
       "      <td>5 star rating</td>\n",
       "      <td>YziRZOh5MrqN5b84dQ9AIQ</td>\n",
       "    </tr>\n",
       "    <tr>\n",
       "      <th>2</th>\n",
       "      <td>hustle-co-singapore</td>\n",
       "      <td>5 star rating</td>\n",
       "      <td>21uYcVHQ8uf9GIKrahY2VA</td>\n",
       "    </tr>\n",
       "  </tbody>\n",
       "</table>\n",
       "</div>"
      ],
      "text/plain": [
       "                 shops        ratings                 userids\n",
       "0  hustle-co-singapore  5 star rating  DY6s438vFKfblXEWxG0S1g\n",
       "1  hustle-co-singapore  5 star rating  YziRZOh5MrqN5b84dQ9AIQ\n",
       "2  hustle-co-singapore  5 star rating  21uYcVHQ8uf9GIKrahY2VA"
      ]
     },
     "execution_count": 74,
     "metadata": {},
     "output_type": "execute_result"
    }
   ],
   "source": [
    "df = pd.merge(shop_ratings, shop_userids, on='shops')\n",
    "df.head(3)"
   ]
  },
  {
   "cell_type": "code",
   "execution_count": 75,
   "metadata": {},
   "outputs": [
    {
     "data": {
      "text/plain": [
       "(50623230, 3)"
      ]
     },
     "execution_count": 75,
     "metadata": {},
     "output_type": "execute_result"
    }
   ],
   "source": [
    "#lots of NaNs after melting...\n",
    "df.shape"
   ]
  },
  {
   "cell_type": "code",
   "execution_count": 76,
   "metadata": {},
   "outputs": [],
   "source": [
    "#encoding userids as numerical labels for easier parsing later on...\n",
    "le = LabelEncoder()"
   ]
  },
  {
   "cell_type": "code",
   "execution_count": 77,
   "metadata": {},
   "outputs": [
    {
     "data": {
      "text/plain": [
       "dtype('O')"
      ]
     },
     "execution_count": 77,
     "metadata": {},
     "output_type": "execute_result"
    }
   ],
   "source": [
    "df.userids.dtypes"
   ]
  },
  {
   "cell_type": "code",
   "execution_count": 78,
   "metadata": {},
   "outputs": [
    {
     "data": {
      "text/plain": [
       "8                         15870\n",
       "4WlVklOsSd409skDsWwQkQ    15640\n",
       "2F38Uc4UNNbFVdyUUnBjOA    14720\n",
       "Name: userids, dtype: int64"
      ]
     },
     "execution_count": 78,
     "metadata": {},
     "output_type": "execute_result"
    }
   ],
   "source": [
    "#seems like some userids were encoded as integers...\n",
    "df.userids.value_counts()[:3] "
   ]
  },
  {
   "cell_type": "code",
   "execution_count": 79,
   "metadata": {},
   "outputs": [],
   "source": [
    "#converting all userids to str first prior to label-encoding...\n",
    "df.userids = df.userids.astype(str)"
   ]
  },
  {
   "cell_type": "code",
   "execution_count": 80,
   "metadata": {},
   "outputs": [],
   "source": [
    "#converting userids into numerical labels\n",
    "df.userids = le.fit_transform(df.userids)"
   ]
  },
  {
   "cell_type": "code",
   "execution_count": 81,
   "metadata": {},
   "outputs": [
    {
     "data": {
      "text/html": [
       "<div>\n",
       "<style scoped>\n",
       "    .dataframe tbody tr th:only-of-type {\n",
       "        vertical-align: middle;\n",
       "    }\n",
       "\n",
       "    .dataframe tbody tr th {\n",
       "        vertical-align: top;\n",
       "    }\n",
       "\n",
       "    .dataframe thead th {\n",
       "        text-align: right;\n",
       "    }\n",
       "</style>\n",
       "<table border=\"1\" class=\"dataframe\">\n",
       "  <thead>\n",
       "    <tr style=\"text-align: right;\">\n",
       "      <th></th>\n",
       "      <th>shops</th>\n",
       "      <th>ratings</th>\n",
       "      <th>userids</th>\n",
       "    </tr>\n",
       "  </thead>\n",
       "  <tbody>\n",
       "    <tr>\n",
       "      <th>0</th>\n",
       "      <td>hustle-co-singapore</td>\n",
       "      <td>5 star rating</td>\n",
       "      <td>532</td>\n",
       "    </tr>\n",
       "    <tr>\n",
       "      <th>1</th>\n",
       "      <td>hustle-co-singapore</td>\n",
       "      <td>5 star rating</td>\n",
       "      <td>1397</td>\n",
       "    </tr>\n",
       "    <tr>\n",
       "      <th>2</th>\n",
       "      <td>hustle-co-singapore</td>\n",
       "      <td>5 star rating</td>\n",
       "      <td>80</td>\n",
       "    </tr>\n",
       "  </tbody>\n",
       "</table>\n",
       "</div>"
      ],
      "text/plain": [
       "                 shops        ratings  userids\n",
       "0  hustle-co-singapore  5 star rating      532\n",
       "1  hustle-co-singapore  5 star rating     1397\n",
       "2  hustle-co-singapore  5 star rating       80"
      ]
     },
     "execution_count": 81,
     "metadata": {},
     "output_type": "execute_result"
    }
   ],
   "source": [
    "df.head(3)"
   ]
  },
  {
   "cell_type": "code",
   "execution_count": 82,
   "metadata": {},
   "outputs": [],
   "source": [
    "#more feature engineering to convert ratings into numerical values for easier parsing by modeling later on...\n",
    "df.ratings = df.ratings.map({'5 star rating':5,\n",
    "                '4 star rating':4,\n",
    "                '3 star rating':3,\n",
    "                '2 star rating':2,\n",
    "                '1 star rating':1})"
   ]
  },
  {
   "cell_type": "code",
   "execution_count": 83,
   "metadata": {},
   "outputs": [
    {
     "data": {
      "text/html": [
       "<div>\n",
       "<style scoped>\n",
       "    .dataframe tbody tr th:only-of-type {\n",
       "        vertical-align: middle;\n",
       "    }\n",
       "\n",
       "    .dataframe tbody tr th {\n",
       "        vertical-align: top;\n",
       "    }\n",
       "\n",
       "    .dataframe thead th {\n",
       "        text-align: right;\n",
       "    }\n",
       "</style>\n",
       "<table border=\"1\" class=\"dataframe\">\n",
       "  <thead>\n",
       "    <tr style=\"text-align: right;\">\n",
       "      <th></th>\n",
       "      <th>shops</th>\n",
       "      <th>ratings</th>\n",
       "      <th>userids</th>\n",
       "    </tr>\n",
       "  </thead>\n",
       "  <tbody>\n",
       "    <tr>\n",
       "      <th>0</th>\n",
       "      <td>hustle-co-singapore</td>\n",
       "      <td>5.0</td>\n",
       "      <td>532</td>\n",
       "    </tr>\n",
       "    <tr>\n",
       "      <th>1</th>\n",
       "      <td>hustle-co-singapore</td>\n",
       "      <td>5.0</td>\n",
       "      <td>1397</td>\n",
       "    </tr>\n",
       "    <tr>\n",
       "      <th>2</th>\n",
       "      <td>hustle-co-singapore</td>\n",
       "      <td>5.0</td>\n",
       "      <td>80</td>\n",
       "    </tr>\n",
       "  </tbody>\n",
       "</table>\n",
       "</div>"
      ],
      "text/plain": [
       "                 shops  ratings  userids\n",
       "0  hustle-co-singapore      5.0      532\n",
       "1  hustle-co-singapore      5.0     1397\n",
       "2  hustle-co-singapore      5.0       80"
      ]
     },
     "execution_count": 83,
     "metadata": {},
     "output_type": "execute_result"
    }
   ],
   "source": [
    "df.head(3)"
   ]
  },
  {
   "cell_type": "code",
   "execution_count": 84,
   "metadata": {},
   "outputs": [],
   "source": [
    "#dropping rows with NaNs as these are redundant columns or shops with no ratings and creating new df without NaNs\n",
    "df_nona = df.dropna()"
   ]
  },
  {
   "cell_type": "code",
   "execution_count": 85,
   "metadata": {},
   "outputs": [
    {
     "data": {
      "text/plain": [
       "(1406907, 3)"
      ]
     },
     "execution_count": 85,
     "metadata": {},
     "output_type": "execute_result"
    }
   ],
   "source": [
    "#still quite a number of ratings - perhaps some users are avid coffee fans and visited multiple coffee-drinking outlets and contributed to multple reviews or they visited the same outlets more than once. Let's look at the number of users next...\n",
    "df_nona.shape"
   ]
  },
  {
   "cell_type": "code",
   "execution_count": 86,
   "metadata": {},
   "outputs": [
    {
     "data": {
      "text/plain": [
       "2552"
      ]
     },
     "execution_count": 86,
     "metadata": {},
     "output_type": "execute_result"
    }
   ],
   "source": [
    "#there 2552 unique users who rated and/or reviewed the scraped Yelp outlets in Singapore\n",
    "len(df.userids.value_counts().index)"
   ]
  },
  {
   "cell_type": "code",
   "execution_count": 87,
   "metadata": {},
   "outputs": [
    {
     "data": {
      "text/plain": [
       "1382616"
      ]
     },
     "execution_count": 87,
     "metadata": {},
     "output_type": "execute_result"
    }
   ],
   "source": [
    "#the number of instances where the same user gives the same rating for the same outlet-possibly duplicated entries...\n",
    "len(df_nona[df_nona.duplicated(subset=('shops','ratings','userids'))])"
   ]
  },
  {
   "cell_type": "code",
   "execution_count": 88,
   "metadata": {},
   "outputs": [
    {
     "data": {
      "text/plain": [
       "1399831"
      ]
     },
     "execution_count": 88,
     "metadata": {},
     "output_type": "execute_result"
    }
   ],
   "source": [
    "#the number of instances where the same user visits the same outlet but may or may not give the same rating...there are more instances than the above, understandably...\n",
    "len(df_nona[df_nona.duplicated(subset=('shops','userids'))])"
   ]
  },
  {
   "cell_type": "markdown",
   "metadata": {},
   "source": [
    "<ul>\n",
    "    \n",
    "- Let's just limit the dataset such that there are no two rows with the same outlet being rated on by the same user for easier analysis, as well as to avoid the outcome of having the same outlet showing up more than once in the top 5 recommendations for instance. This will nevertheless be considered as one of the limitations of this project..."
   ]
  },
  {
   "cell_type": "code",
   "execution_count": 89,
   "metadata": {},
   "outputs": [
    {
     "data": {
      "text/plain": [
       "(7076, 3)"
      ]
     },
     "execution_count": 89,
     "metadata": {},
     "output_type": "execute_result"
    }
   ],
   "source": [
    "#there were 7,076 instances where there are no two rows with the same outlet being rated on by the same user.\n",
    "df_nona[~df_nona.duplicated(subset=('shops','userids'))].shape"
   ]
  },
  {
   "cell_type": "code",
   "execution_count": 90,
   "metadata": {},
   "outputs": [],
   "source": [
    "#assigning the above to a new df name...\n",
    "df_nona_nodup = df_nona[~df_nona.duplicated(subset=('shops','userids'))]"
   ]
  },
  {
   "cell_type": "code",
   "execution_count": 91,
   "metadata": {},
   "outputs": [
    {
     "data": {
      "text/html": [
       "<div>\n",
       "<style scoped>\n",
       "    .dataframe tbody tr th:only-of-type {\n",
       "        vertical-align: middle;\n",
       "    }\n",
       "\n",
       "    .dataframe tbody tr th {\n",
       "        vertical-align: top;\n",
       "    }\n",
       "\n",
       "    .dataframe thead th {\n",
       "        text-align: right;\n",
       "    }\n",
       "</style>\n",
       "<table border=\"1\" class=\"dataframe\">\n",
       "  <thead>\n",
       "    <tr style=\"text-align: right;\">\n",
       "      <th></th>\n",
       "      <th>shops</th>\n",
       "      <th>ratings</th>\n",
       "      <th>userids</th>\n",
       "    </tr>\n",
       "  </thead>\n",
       "  <tbody>\n",
       "  </tbody>\n",
       "</table>\n",
       "</div>"
      ],
      "text/plain": [
       "Empty DataFrame\n",
       "Columns: [shops, ratings, userids]\n",
       "Index: []"
      ]
     },
     "execution_count": 91,
     "metadata": {},
     "output_type": "execute_result"
    }
   ],
   "source": [
    "#confirming no duplicated shops...\n",
    "df_nona_nodup[df_nona_nodup.duplicated(subset=('shops','userids'))]"
   ]
  },
  {
   "cell_type": "code",
   "execution_count": 92,
   "metadata": {},
   "outputs": [],
   "source": [
    "#saving this dataset for retrieval later on for model-based collaborative filtering\n",
    "df_nona_nodup.to_csv('yelp_data/mbcf.csv',index=False)"
   ]
  },
  {
   "cell_type": "code",
   "execution_count": 93,
   "metadata": {},
   "outputs": [
    {
     "data": {
      "text/plain": [
       "userids\n",
       "2043    980\n",
       "306      65\n",
       "91       64\n",
       "Name: ratings, dtype: int64"
      ]
     },
     "execution_count": 93,
     "metadata": {},
     "output_type": "execute_result"
    }
   ],
   "source": [
    "#since userid 2043 rated the most number of outlets and the number is rather substantial at 980, let's choose userid 2043 to train the content-based filtering!\n",
    "df_nona_nodup.groupby('userids')['ratings'].count().sort_values(ascending=False).head(3)"
   ]
  },
  {
   "cell_type": "code",
   "execution_count": 94,
   "metadata": {},
   "outputs": [
    {
     "data": {
      "text/html": [
       "<div>\n",
       "<style scoped>\n",
       "    .dataframe tbody tr th:only-of-type {\n",
       "        vertical-align: middle;\n",
       "    }\n",
       "\n",
       "    .dataframe tbody tr th {\n",
       "        vertical-align: top;\n",
       "    }\n",
       "\n",
       "    .dataframe thead th {\n",
       "        text-align: right;\n",
       "    }\n",
       "</style>\n",
       "<table border=\"1\" class=\"dataframe\">\n",
       "  <thead>\n",
       "    <tr style=\"text-align: right;\">\n",
       "      <th></th>\n",
       "      <th>shops</th>\n",
       "      <th>ratings</th>\n",
       "      <th>userids</th>\n",
       "    </tr>\n",
       "  </thead>\n",
       "  <tbody>\n",
       "    <tr>\n",
       "      <th>4</th>\n",
       "      <td>hustle-co-singapore</td>\n",
       "      <td>5.0</td>\n",
       "      <td>2043</td>\n",
       "    </tr>\n",
       "    <tr>\n",
       "      <th>51291</th>\n",
       "      <td>benjamin-barker-cafe-singapore</td>\n",
       "      <td>4.0</td>\n",
       "      <td>2043</td>\n",
       "    </tr>\n",
       "    <tr>\n",
       "      <th>102581</th>\n",
       "      <td>the-coffee-roaster-singapore-2</td>\n",
       "      <td>3.0</td>\n",
       "      <td>2043</td>\n",
       "    </tr>\n",
       "    <tr>\n",
       "      <th>153871</th>\n",
       "      <td>koi-cafe-singapore</td>\n",
       "      <td>5.0</td>\n",
       "      <td>2043</td>\n",
       "    </tr>\n",
       "    <tr>\n",
       "      <th>205165</th>\n",
       "      <td>starbucks-singapore-21</td>\n",
       "      <td>4.0</td>\n",
       "      <td>2043</td>\n",
       "    </tr>\n",
       "  </tbody>\n",
       "</table>\n",
       "</div>"
      ],
      "text/plain": [
       "                                 shops  ratings  userids\n",
       "4                  hustle-co-singapore      5.0     2043\n",
       "51291   benjamin-barker-cafe-singapore      4.0     2043\n",
       "102581  the-coffee-roaster-singapore-2      3.0     2043\n",
       "153871              koi-cafe-singapore      5.0     2043\n",
       "205165          starbucks-singapore-21      4.0     2043"
      ]
     },
     "execution_count": 94,
     "metadata": {},
     "output_type": "execute_result"
    }
   ],
   "source": [
    "#create a new df of ratings for userid 2043\n",
    "userid2043 = df_nona_nodup[df_nona_nodup['userids']==2043]\n",
    "userid2043.head()"
   ]
  },
  {
   "cell_type": "code",
   "execution_count": 95,
   "metadata": {},
   "outputs": [
    {
     "data": {
      "text/html": [
       "<div>\n",
       "<style scoped>\n",
       "    .dataframe tbody tr th:only-of-type {\n",
       "        vertical-align: middle;\n",
       "    }\n",
       "\n",
       "    .dataframe tbody tr th {\n",
       "        vertical-align: top;\n",
       "    }\n",
       "\n",
       "    .dataframe thead th {\n",
       "        text-align: right;\n",
       "    }\n",
       "</style>\n",
       "<table border=\"1\" class=\"dataframe\">\n",
       "  <thead>\n",
       "    <tr style=\"text-align: right;\">\n",
       "      <th></th>\n",
       "      <th>shops</th>\n",
       "      <th>ratings</th>\n",
       "      <th>userids</th>\n",
       "    </tr>\n",
       "  </thead>\n",
       "  <tbody>\n",
       "  </tbody>\n",
       "</table>\n",
       "</div>"
      ],
      "text/plain": [
       "Empty DataFrame\n",
       "Columns: [shops, ratings, userids]\n",
       "Index: []"
      ]
     },
     "execution_count": 95,
     "metadata": {},
     "output_type": "execute_result"
    }
   ],
   "source": [
    "#confirming no duplicated shops\n",
    "userid2043[userid2043.duplicated(subset=('shops'))]"
   ]
  },
  {
   "cell_type": "code",
   "execution_count": 96,
   "metadata": {},
   "outputs": [
    {
     "data": {
      "text/plain": [
       "(980, 3)"
      ]
     },
     "execution_count": 96,
     "metadata": {},
     "output_type": "execute_result"
    }
   ],
   "source": [
    "userid2043.shape"
   ]
  },
  {
   "cell_type": "code",
   "execution_count": 97,
   "metadata": {},
   "outputs": [
    {
     "data": {
      "text/html": [
       "<div>\n",
       "<style scoped>\n",
       "    .dataframe tbody tr th:only-of-type {\n",
       "        vertical-align: middle;\n",
       "    }\n",
       "\n",
       "    .dataframe tbody tr th {\n",
       "        vertical-align: top;\n",
       "    }\n",
       "\n",
       "    .dataframe thead th {\n",
       "        text-align: right;\n",
       "    }\n",
       "</style>\n",
       "<table border=\"1\" class=\"dataframe\">\n",
       "  <thead>\n",
       "    <tr style=\"text-align: right;\">\n",
       "      <th></th>\n",
       "      <th>shops</th>\n",
       "      <th>reviews</th>\n",
       "      <th>category_alias</th>\n",
       "    </tr>\n",
       "  </thead>\n",
       "  <tbody>\n",
       "    <tr>\n",
       "      <th>0</th>\n",
       "      <td>183-rojak-singapore</td>\n",
       "      <td>Opening a rojak stall in Toa Payoh isn't that ...</td>\n",
       "      <td>food</td>\n",
       "    </tr>\n",
       "    <tr>\n",
       "      <th>1</th>\n",
       "      <td>1983-a-taste-of-nanyang-singapore-2</td>\n",
       "      <td>Located in the first basement level at MBS, cl...</td>\n",
       "      <td>singaporean coffee foodstands</td>\n",
       "    </tr>\n",
       "    <tr>\n",
       "      <th>2</th>\n",
       "      <td>2am-dessert-bar-singapore</td>\n",
       "      <td>Creative desserts with several layers of flavo...</td>\n",
       "      <td>bars desserts coffee</td>\n",
       "    </tr>\n",
       "  </tbody>\n",
       "</table>\n",
       "</div>"
      ],
      "text/plain": [
       "                                 shops  \\\n",
       "0                  183-rojak-singapore   \n",
       "1  1983-a-taste-of-nanyang-singapore-2   \n",
       "2            2am-dessert-bar-singapore   \n",
       "\n",
       "                                             reviews  \\\n",
       "0  Opening a rojak stall in Toa Payoh isn't that ...   \n",
       "1  Located in the first basement level at MBS, cl...   \n",
       "2  Creative desserts with several layers of flavo...   \n",
       "\n",
       "                  category_alias  \n",
       "0                           food  \n",
       "1  singaporean coffee foodstands  \n",
       "2           bars desserts coffee  "
      ]
     },
     "execution_count": 97,
     "metadata": {},
     "output_type": "execute_result"
    }
   ],
   "source": [
    "review_cat_df.head(3)"
   ]
  },
  {
   "cell_type": "code",
   "execution_count": 98,
   "metadata": {},
   "outputs": [
    {
     "data": {
      "text/plain": [
       "(981, 3)"
      ]
     },
     "execution_count": 98,
     "metadata": {},
     "output_type": "execute_result"
    }
   ],
   "source": [
    "review_cat_df.shape"
   ]
  },
  {
   "cell_type": "code",
   "execution_count": 99,
   "metadata": {},
   "outputs": [],
   "source": [
    "#creating new df1 containing additional features other than reviews and categories to be used in content-based filtering later on...\n",
    "df1_feats_content = df1[['alias','review_count','rating','price']]"
   ]
  },
  {
   "cell_type": "code",
   "execution_count": 100,
   "metadata": {},
   "outputs": [
    {
     "data": {
      "text/html": [
       "<div>\n",
       "<style scoped>\n",
       "    .dataframe tbody tr th:only-of-type {\n",
       "        vertical-align: middle;\n",
       "    }\n",
       "\n",
       "    .dataframe tbody tr th {\n",
       "        vertical-align: top;\n",
       "    }\n",
       "\n",
       "    .dataframe thead th {\n",
       "        text-align: right;\n",
       "    }\n",
       "</style>\n",
       "<table border=\"1\" class=\"dataframe\">\n",
       "  <thead>\n",
       "    <tr style=\"text-align: right;\">\n",
       "      <th></th>\n",
       "      <th>alias</th>\n",
       "      <th>review_count</th>\n",
       "      <th>rating</th>\n",
       "      <th>price</th>\n",
       "    </tr>\n",
       "  </thead>\n",
       "  <tbody>\n",
       "    <tr>\n",
       "      <th>0</th>\n",
       "      <td>nylon-coffee-roasters-singapore</td>\n",
       "      <td>70</td>\n",
       "      <td>4.5</td>\n",
       "      <td>1.0</td>\n",
       "    </tr>\n",
       "    <tr>\n",
       "      <th>1</th>\n",
       "      <td>common-man-coffee-roasters-singapore</td>\n",
       "      <td>83</td>\n",
       "      <td>4.0</td>\n",
       "      <td>2.0</td>\n",
       "    </tr>\n",
       "  </tbody>\n",
       "</table>\n",
       "</div>"
      ],
      "text/plain": [
       "                                  alias  review_count  rating  price\n",
       "0       nylon-coffee-roasters-singapore            70     4.5    1.0\n",
       "1  common-man-coffee-roasters-singapore            83     4.0    2.0"
      ]
     },
     "execution_count": 100,
     "metadata": {},
     "output_type": "execute_result"
    }
   ],
   "source": [
    "df1_feats_content.head(2)"
   ]
  },
  {
   "cell_type": "code",
   "execution_count": 101,
   "metadata": {},
   "outputs": [
    {
     "name": "stderr",
     "output_type": "stream",
     "text": [
      "/Users/jasonchia/opt/anaconda3/lib/python3.7/site-packages/pandas/core/frame.py:4133: SettingWithCopyWarning: \n",
      "A value is trying to be set on a copy of a slice from a DataFrame\n",
      "\n",
      "See the caveats in the documentation: https://pandas.pydata.org/pandas-docs/stable/user_guide/indexing.html#returning-a-view-versus-a-copy\n",
      "  errors=errors,\n"
     ]
    }
   ],
   "source": [
    "#renaming alias column to shops for merging with review_cat_df later on...\n",
    "df1_feats_content.rename(columns={'alias':'shops'},inplace=True)"
   ]
  },
  {
   "cell_type": "code",
   "execution_count": 102,
   "metadata": {},
   "outputs": [
    {
     "data": {
      "text/html": [
       "<div>\n",
       "<style scoped>\n",
       "    .dataframe tbody tr th:only-of-type {\n",
       "        vertical-align: middle;\n",
       "    }\n",
       "\n",
       "    .dataframe tbody tr th {\n",
       "        vertical-align: top;\n",
       "    }\n",
       "\n",
       "    .dataframe thead th {\n",
       "        text-align: right;\n",
       "    }\n",
       "</style>\n",
       "<table border=\"1\" class=\"dataframe\">\n",
       "  <thead>\n",
       "    <tr style=\"text-align: right;\">\n",
       "      <th></th>\n",
       "      <th>shops</th>\n",
       "      <th>review_count</th>\n",
       "      <th>rating</th>\n",
       "      <th>price</th>\n",
       "    </tr>\n",
       "  </thead>\n",
       "  <tbody>\n",
       "    <tr>\n",
       "      <th>0</th>\n",
       "      <td>nylon-coffee-roasters-singapore</td>\n",
       "      <td>70</td>\n",
       "      <td>4.5</td>\n",
       "      <td>1.0</td>\n",
       "    </tr>\n",
       "    <tr>\n",
       "      <th>1</th>\n",
       "      <td>common-man-coffee-roasters-singapore</td>\n",
       "      <td>83</td>\n",
       "      <td>4.0</td>\n",
       "      <td>2.0</td>\n",
       "    </tr>\n",
       "  </tbody>\n",
       "</table>\n",
       "</div>"
      ],
      "text/plain": [
       "                                  shops  review_count  rating  price\n",
       "0       nylon-coffee-roasters-singapore            70     4.5    1.0\n",
       "1  common-man-coffee-roasters-singapore            83     4.0    2.0"
      ]
     },
     "execution_count": 102,
     "metadata": {},
     "output_type": "execute_result"
    }
   ],
   "source": [
    "df1_feats_content.head(2)"
   ]
  },
  {
   "cell_type": "code",
   "execution_count": 103,
   "metadata": {},
   "outputs": [
    {
     "name": "stdout",
     "output_type": "stream",
     "text": [
      "<class 'pandas.core.frame.DataFrame'>\n",
      "Int64Index: 989 entries, 0 to 999\n",
      "Data columns (total 4 columns):\n",
      " #   Column        Non-Null Count  Dtype  \n",
      "---  ------        --------------  -----  \n",
      " 0   shops         989 non-null    object \n",
      " 1   review_count  989 non-null    int64  \n",
      " 2   rating        989 non-null    float64\n",
      " 3   price         554 non-null    float64\n",
      "dtypes: float64(2), int64(1), object(1)\n",
      "memory usage: 38.6+ KB\n"
     ]
    }
   ],
   "source": [
    "df1_feats_content.info()"
   ]
  },
  {
   "cell_type": "code",
   "execution_count": 104,
   "metadata": {},
   "outputs": [
    {
     "data": {
      "text/plain": [
       "shops             0\n",
       "review_count      0\n",
       "rating            0\n",
       "price           435\n",
       "dtype: int64"
      ]
     },
     "execution_count": 104,
     "metadata": {},
     "output_type": "execute_result"
    }
   ],
   "source": [
    "df1_feats_content.isnull().sum()"
   ]
  },
  {
   "cell_type": "markdown",
   "metadata": {},
   "source": [
    "<ul>\n",
    "    \n",
    "- There are 435 NaNs under the price column, which is substantial..."
   ]
  },
  {
   "cell_type": "code",
   "execution_count": 105,
   "metadata": {},
   "outputs": [
    {
     "data": {
      "text/html": [
       "<div>\n",
       "<style scoped>\n",
       "    .dataframe tbody tr th:only-of-type {\n",
       "        vertical-align: middle;\n",
       "    }\n",
       "\n",
       "    .dataframe tbody tr th {\n",
       "        vertical-align: top;\n",
       "    }\n",
       "\n",
       "    .dataframe thead th {\n",
       "        text-align: right;\n",
       "    }\n",
       "</style>\n",
       "<table border=\"1\" class=\"dataframe\">\n",
       "  <thead>\n",
       "    <tr style=\"text-align: right;\">\n",
       "      <th></th>\n",
       "      <th>shops</th>\n",
       "      <th>reviews</th>\n",
       "      <th>category_alias</th>\n",
       "      <th>review_count</th>\n",
       "      <th>rating</th>\n",
       "      <th>price</th>\n",
       "    </tr>\n",
       "  </thead>\n",
       "  <tbody>\n",
       "    <tr>\n",
       "      <th>0</th>\n",
       "      <td>183-rojak-singapore</td>\n",
       "      <td>Opening a rojak stall in Toa Payoh isn't that ...</td>\n",
       "      <td>food</td>\n",
       "      <td>2</td>\n",
       "      <td>3.5</td>\n",
       "      <td>1.0</td>\n",
       "    </tr>\n",
       "    <tr>\n",
       "      <th>1</th>\n",
       "      <td>1983-a-taste-of-nanyang-singapore-2</td>\n",
       "      <td>Located in the first basement level at MBS, cl...</td>\n",
       "      <td>singaporean coffee foodstands</td>\n",
       "      <td>4</td>\n",
       "      <td>4.0</td>\n",
       "      <td>1.0</td>\n",
       "    </tr>\n",
       "  </tbody>\n",
       "</table>\n",
       "</div>"
      ],
      "text/plain": [
       "                                 shops  \\\n",
       "0                  183-rojak-singapore   \n",
       "1  1983-a-taste-of-nanyang-singapore-2   \n",
       "\n",
       "                                             reviews  \\\n",
       "0  Opening a rojak stall in Toa Payoh isn't that ...   \n",
       "1  Located in the first basement level at MBS, cl...   \n",
       "\n",
       "                  category_alias  review_count  rating  price  \n",
       "0                           food             2     3.5    1.0  \n",
       "1  singaporean coffee foodstands             4     4.0    1.0  "
      ]
     },
     "execution_count": 105,
     "metadata": {},
     "output_type": "execute_result"
    }
   ],
   "source": [
    "reviewcount_cat_rt_pr_df = pd.merge(review_cat_df,df1_feats_content,how='left',on='shops')\n",
    "reviewcount_cat_rt_pr_df.head(2)"
   ]
  },
  {
   "cell_type": "code",
   "execution_count": 106,
   "metadata": {},
   "outputs": [
    {
     "data": {
      "text/plain": [
       "shops               0\n",
       "reviews             0\n",
       "category_alias      0\n",
       "review_count        0\n",
       "rating              0\n",
       "price             429\n",
       "dtype: int64"
      ]
     },
     "execution_count": 106,
     "metadata": {},
     "output_type": "execute_result"
    }
   ],
   "source": [
    "reviewcount_cat_rt_pr_df.isnull().sum()"
   ]
  },
  {
   "cell_type": "code",
   "execution_count": 107,
   "metadata": {},
   "outputs": [
    {
     "data": {
      "text/plain": [
       "(981, 6)"
      ]
     },
     "execution_count": 107,
     "metadata": {},
     "output_type": "execute_result"
    }
   ],
   "source": [
    "reviewcount_cat_rt_pr_df.shape"
   ]
  },
  {
   "cell_type": "markdown",
   "metadata": {},
   "source": [
    "There are 429 NaNs out of 981 rows, which constitutes about 44% of the data if we are dropping any row with NaN. As such, ```price``` can no longer be used as a feature in the content-based filtering and will be dropped..."
   ]
  },
  {
   "cell_type": "code",
   "execution_count": 108,
   "metadata": {},
   "outputs": [],
   "source": [
    "#dropping price column...\n",
    "reviewcount_cat_rt_pr_df.drop(['price'],axis=1,inplace=True)"
   ]
  },
  {
   "cell_type": "code",
   "execution_count": 109,
   "metadata": {},
   "outputs": [
    {
     "data": {
      "text/html": [
       "<div>\n",
       "<style scoped>\n",
       "    .dataframe tbody tr th:only-of-type {\n",
       "        vertical-align: middle;\n",
       "    }\n",
       "\n",
       "    .dataframe tbody tr th {\n",
       "        vertical-align: top;\n",
       "    }\n",
       "\n",
       "    .dataframe thead th {\n",
       "        text-align: right;\n",
       "    }\n",
       "</style>\n",
       "<table border=\"1\" class=\"dataframe\">\n",
       "  <thead>\n",
       "    <tr style=\"text-align: right;\">\n",
       "      <th></th>\n",
       "      <th>shops</th>\n",
       "      <th>reviews</th>\n",
       "      <th>category_alias</th>\n",
       "      <th>review_count</th>\n",
       "      <th>rating</th>\n",
       "    </tr>\n",
       "  </thead>\n",
       "  <tbody>\n",
       "    <tr>\n",
       "      <th>0</th>\n",
       "      <td>183-rojak-singapore</td>\n",
       "      <td>Opening a rojak stall in Toa Payoh isn't that ...</td>\n",
       "      <td>food</td>\n",
       "      <td>2</td>\n",
       "      <td>3.5</td>\n",
       "    </tr>\n",
       "    <tr>\n",
       "      <th>1</th>\n",
       "      <td>1983-a-taste-of-nanyang-singapore-2</td>\n",
       "      <td>Located in the first basement level at MBS, cl...</td>\n",
       "      <td>singaporean coffee foodstands</td>\n",
       "      <td>4</td>\n",
       "      <td>4.0</td>\n",
       "    </tr>\n",
       "    <tr>\n",
       "      <th>2</th>\n",
       "      <td>2am-dessert-bar-singapore</td>\n",
       "      <td>Creative desserts with several layers of flavo...</td>\n",
       "      <td>bars desserts coffee</td>\n",
       "      <td>38</td>\n",
       "      <td>3.5</td>\n",
       "    </tr>\n",
       "  </tbody>\n",
       "</table>\n",
       "</div>"
      ],
      "text/plain": [
       "                                 shops  \\\n",
       "0                  183-rojak-singapore   \n",
       "1  1983-a-taste-of-nanyang-singapore-2   \n",
       "2            2am-dessert-bar-singapore   \n",
       "\n",
       "                                             reviews  \\\n",
       "0  Opening a rojak stall in Toa Payoh isn't that ...   \n",
       "1  Located in the first basement level at MBS, cl...   \n",
       "2  Creative desserts with several layers of flavo...   \n",
       "\n",
       "                  category_alias  review_count  rating  \n",
       "0                           food             2     3.5  \n",
       "1  singaporean coffee foodstands             4     4.0  \n",
       "2           bars desserts coffee            38     3.5  "
      ]
     },
     "execution_count": 109,
     "metadata": {},
     "output_type": "execute_result"
    }
   ],
   "source": [
    "reviewcount_cat_rt_pr_df.head(3)"
   ]
  },
  {
   "cell_type": "code",
   "execution_count": 110,
   "metadata": {},
   "outputs": [
    {
     "data": {
      "text/plain": [
       "shops             0\n",
       "reviews           0\n",
       "category_alias    0\n",
       "review_count      0\n",
       "rating            0\n",
       "dtype: int64"
      ]
     },
     "execution_count": 110,
     "metadata": {},
     "output_type": "execute_result"
    }
   ],
   "source": [
    "#no more nulls.\n",
    "reviewcount_cat_rt_pr_df.isnull().sum()"
   ]
  },
  {
   "cell_type": "code",
   "execution_count": 111,
   "metadata": {},
   "outputs": [
    {
     "data": {
      "text/html": [
       "<div>\n",
       "<style scoped>\n",
       "    .dataframe tbody tr th:only-of-type {\n",
       "        vertical-align: middle;\n",
       "    }\n",
       "\n",
       "    .dataframe tbody tr th {\n",
       "        vertical-align: top;\n",
       "    }\n",
       "\n",
       "    .dataframe thead th {\n",
       "        text-align: right;\n",
       "    }\n",
       "</style>\n",
       "<table border=\"1\" class=\"dataframe\">\n",
       "  <thead>\n",
       "    <tr style=\"text-align: right;\">\n",
       "      <th></th>\n",
       "      <th>shops</th>\n",
       "      <th>reviews</th>\n",
       "      <th>category_alias</th>\n",
       "      <th>review_count</th>\n",
       "      <th>rating</th>\n",
       "    </tr>\n",
       "  </thead>\n",
       "  <tbody>\n",
       "  </tbody>\n",
       "</table>\n",
       "</div>"
      ],
      "text/plain": [
       "Empty DataFrame\n",
       "Columns: [shops, reviews, category_alias, review_count, rating]\n",
       "Index: []"
      ]
     },
     "execution_count": 111,
     "metadata": {},
     "output_type": "execute_result"
    }
   ],
   "source": [
    "#no duplicates\n",
    "reviewcount_cat_rt_pr_df[reviewcount_cat_rt_pr_df.duplicated()]"
   ]
  },
  {
   "cell_type": "code",
   "execution_count": 112,
   "metadata": {},
   "outputs": [
    {
     "data": {
      "text/plain": [
       "(981, 5)"
      ]
     },
     "execution_count": 112,
     "metadata": {},
     "output_type": "execute_result"
    }
   ],
   "source": [
    "reviewcount_cat_rt_pr_df.shape"
   ]
  },
  {
   "cell_type": "code",
   "execution_count": 113,
   "metadata": {},
   "outputs": [
    {
     "data": {
      "text/html": [
       "<div>\n",
       "<style scoped>\n",
       "    .dataframe tbody tr th:only-of-type {\n",
       "        vertical-align: middle;\n",
       "    }\n",
       "\n",
       "    .dataframe tbody tr th {\n",
       "        vertical-align: top;\n",
       "    }\n",
       "\n",
       "    .dataframe thead th {\n",
       "        text-align: right;\n",
       "    }\n",
       "</style>\n",
       "<table border=\"1\" class=\"dataframe\">\n",
       "  <thead>\n",
       "    <tr style=\"text-align: right;\">\n",
       "      <th></th>\n",
       "      <th>shops</th>\n",
       "      <th>reviews</th>\n",
       "      <th>category_alias</th>\n",
       "      <th>review_count</th>\n",
       "      <th>rating</th>\n",
       "    </tr>\n",
       "  </thead>\n",
       "  <tbody>\n",
       "    <tr>\n",
       "      <th>0</th>\n",
       "      <td>183-rojak-singapore</td>\n",
       "      <td>Opening a rojak stall in Toa Payoh isn't that ...</td>\n",
       "      <td>food</td>\n",
       "      <td>2</td>\n",
       "      <td>3.5</td>\n",
       "    </tr>\n",
       "    <tr>\n",
       "      <th>1</th>\n",
       "      <td>1983-a-taste-of-nanyang-singapore-2</td>\n",
       "      <td>Located in the first basement level at MBS, cl...</td>\n",
       "      <td>singaporean coffee foodstands</td>\n",
       "      <td>4</td>\n",
       "      <td>4.0</td>\n",
       "    </tr>\n",
       "    <tr>\n",
       "      <th>2</th>\n",
       "      <td>2am-dessert-bar-singapore</td>\n",
       "      <td>Creative desserts with several layers of flavo...</td>\n",
       "      <td>bars desserts coffee</td>\n",
       "      <td>38</td>\n",
       "      <td>3.5</td>\n",
       "    </tr>\n",
       "    <tr>\n",
       "      <th>3</th>\n",
       "      <td>2nd-mini-steamboat-delight-singapore</td>\n",
       "      <td>Fantastic Authentic Place!!!What a treat and a...</td>\n",
       "      <td>cafes</td>\n",
       "      <td>2</td>\n",
       "      <td>4.5</td>\n",
       "    </tr>\n",
       "    <tr>\n",
       "      <th>4</th>\n",
       "      <td>365-fruit-juice-and-smoothie-singapore</td>\n",
       "      <td>Real juice, with real fruits and vegetables, a...</td>\n",
       "      <td>juicebars</td>\n",
       "      <td>1</td>\n",
       "      <td>4.0</td>\n",
       "    </tr>\n",
       "  </tbody>\n",
       "</table>\n",
       "</div>"
      ],
      "text/plain": [
       "                                    shops  \\\n",
       "0                     183-rojak-singapore   \n",
       "1     1983-a-taste-of-nanyang-singapore-2   \n",
       "2               2am-dessert-bar-singapore   \n",
       "3    2nd-mini-steamboat-delight-singapore   \n",
       "4  365-fruit-juice-and-smoothie-singapore   \n",
       "\n",
       "                                             reviews  \\\n",
       "0  Opening a rojak stall in Toa Payoh isn't that ...   \n",
       "1  Located in the first basement level at MBS, cl...   \n",
       "2  Creative desserts with several layers of flavo...   \n",
       "3  Fantastic Authentic Place!!!What a treat and a...   \n",
       "4  Real juice, with real fruits and vegetables, a...   \n",
       "\n",
       "                  category_alias  review_count  rating  \n",
       "0                           food             2     3.5  \n",
       "1  singaporean coffee foodstands             4     4.0  \n",
       "2           bars desserts coffee            38     3.5  \n",
       "3                          cafes             2     4.5  \n",
       "4                      juicebars             1     4.0  "
      ]
     },
     "execution_count": 113,
     "metadata": {},
     "output_type": "execute_result"
    }
   ],
   "source": [
    "reviewcount_cat_rt_pr_df.head()"
   ]
  },
  {
   "cell_type": "code",
   "execution_count": 114,
   "metadata": {},
   "outputs": [],
   "source": [
    "#this will be used to merge with new user ratings (potentially on flask and .py script?), train_test_split on those with null user col, train on those with user col predict on those without\n",
    "reviewcount_cat_rt_pr_df.to_csv('yelp_data/content_based_df_nouser.csv', index=False)"
   ]
  },
  {
   "cell_type": "code",
   "execution_count": 115,
   "metadata": {},
   "outputs": [
    {
     "data": {
      "text/plain": [
       "(980, 3)"
      ]
     },
     "execution_count": 115,
     "metadata": {},
     "output_type": "execute_result"
    }
   ],
   "source": [
    "userid2043.shape"
   ]
  },
  {
   "cell_type": "code",
   "execution_count": 116,
   "metadata": {},
   "outputs": [],
   "source": [
    "#finally, merging userid2043 ratings into features df for content-based df\n",
    "content_based_df = pd.merge(reviewcount_cat_rt_pr_df,userid2043,how='left',on='shops')"
   ]
  },
  {
   "cell_type": "code",
   "execution_count": 117,
   "metadata": {},
   "outputs": [
    {
     "data": {
      "text/plain": [
       "shops             0\n",
       "reviews           0\n",
       "category_alias    0\n",
       "review_count      0\n",
       "rating            0\n",
       "ratings           1\n",
       "userids           1\n",
       "dtype: int64"
      ]
     },
     "execution_count": 117,
     "metadata": {},
     "output_type": "execute_result"
    }
   ],
   "source": [
    "#as expected, 2 nulls (rating and userid) due to the outlet userid2043 did not rate\n",
    "content_based_df.isnull().sum()"
   ]
  },
  {
   "cell_type": "code",
   "execution_count": 118,
   "metadata": {},
   "outputs": [
    {
     "data": {
      "text/html": [
       "<div>\n",
       "<style scoped>\n",
       "    .dataframe tbody tr th:only-of-type {\n",
       "        vertical-align: middle;\n",
       "    }\n",
       "\n",
       "    .dataframe tbody tr th {\n",
       "        vertical-align: top;\n",
       "    }\n",
       "\n",
       "    .dataframe thead th {\n",
       "        text-align: right;\n",
       "    }\n",
       "</style>\n",
       "<table border=\"1\" class=\"dataframe\">\n",
       "  <thead>\n",
       "    <tr style=\"text-align: right;\">\n",
       "      <th></th>\n",
       "      <th>shops</th>\n",
       "      <th>reviews</th>\n",
       "      <th>category_alias</th>\n",
       "      <th>review_count</th>\n",
       "      <th>rating</th>\n",
       "      <th>ratings</th>\n",
       "      <th>userids</th>\n",
       "    </tr>\n",
       "  </thead>\n",
       "  <tbody>\n",
       "    <tr>\n",
       "      <th>474</th>\n",
       "      <td>maxwell-food-centre-singapore-3</td>\n",
       "      <td>When traveling to Singapore a must stop is try...</td>\n",
       "      <td>hawkercentre</td>\n",
       "      <td>240</td>\n",
       "      <td>4.5</td>\n",
       "      <td>NaN</td>\n",
       "      <td>NaN</td>\n",
       "    </tr>\n",
       "  </tbody>\n",
       "</table>\n",
       "</div>"
      ],
      "text/plain": [
       "                               shops  \\\n",
       "474  maxwell-food-centre-singapore-3   \n",
       "\n",
       "                                               reviews category_alias  \\\n",
       "474  When traveling to Singapore a must stop is try...   hawkercentre   \n",
       "\n",
       "     review_count  rating  ratings  userids  \n",
       "474           240     4.5      NaN      NaN  "
      ]
     },
     "execution_count": 118,
     "metadata": {},
     "output_type": "execute_result"
    }
   ],
   "source": [
    "#userid2043 did not rate maxwell food centre outlet\n",
    "content_based_df[(content_based_df['ratings'].isnull())|(content_based_df['userids'].isnull())]"
   ]
  },
  {
   "cell_type": "code",
   "execution_count": 119,
   "metadata": {},
   "outputs": [],
   "source": [
    "#dropping that outlet\n",
    "content_based_df.drop(474,inplace=True)"
   ]
  },
  {
   "cell_type": "code",
   "execution_count": 120,
   "metadata": {},
   "outputs": [],
   "source": [
    "#resetting index thereafter to ensure consistency later on...\n",
    "content_based_df.reset_index(drop=True,inplace=True)"
   ]
  },
  {
   "cell_type": "code",
   "execution_count": 121,
   "metadata": {},
   "outputs": [
    {
     "data": {
      "text/html": [
       "<div>\n",
       "<style scoped>\n",
       "    .dataframe tbody tr th:only-of-type {\n",
       "        vertical-align: middle;\n",
       "    }\n",
       "\n",
       "    .dataframe tbody tr th {\n",
       "        vertical-align: top;\n",
       "    }\n",
       "\n",
       "    .dataframe thead th {\n",
       "        text-align: right;\n",
       "    }\n",
       "</style>\n",
       "<table border=\"1\" class=\"dataframe\">\n",
       "  <thead>\n",
       "    <tr style=\"text-align: right;\">\n",
       "      <th></th>\n",
       "      <th>shops</th>\n",
       "      <th>reviews</th>\n",
       "      <th>category_alias</th>\n",
       "      <th>review_count</th>\n",
       "      <th>rating</th>\n",
       "      <th>ratings</th>\n",
       "      <th>userids</th>\n",
       "    </tr>\n",
       "  </thead>\n",
       "  <tbody>\n",
       "    <tr>\n",
       "      <th>0</th>\n",
       "      <td>183-rojak-singapore</td>\n",
       "      <td>Opening a rojak stall in Toa Payoh isn't that ...</td>\n",
       "      <td>food</td>\n",
       "      <td>2</td>\n",
       "      <td>3.5</td>\n",
       "      <td>4.0</td>\n",
       "      <td>2043.0</td>\n",
       "    </tr>\n",
       "    <tr>\n",
       "      <th>1</th>\n",
       "      <td>1983-a-taste-of-nanyang-singapore-2</td>\n",
       "      <td>Located in the first basement level at MBS, cl...</td>\n",
       "      <td>singaporean coffee foodstands</td>\n",
       "      <td>4</td>\n",
       "      <td>4.0</td>\n",
       "      <td>4.0</td>\n",
       "      <td>2043.0</td>\n",
       "    </tr>\n",
       "    <tr>\n",
       "      <th>2</th>\n",
       "      <td>2am-dessert-bar-singapore</td>\n",
       "      <td>Creative desserts with several layers of flavo...</td>\n",
       "      <td>bars desserts coffee</td>\n",
       "      <td>38</td>\n",
       "      <td>3.5</td>\n",
       "      <td>5.0</td>\n",
       "      <td>2043.0</td>\n",
       "    </tr>\n",
       "    <tr>\n",
       "      <th>3</th>\n",
       "      <td>2nd-mini-steamboat-delight-singapore</td>\n",
       "      <td>Fantastic Authentic Place!!!What a treat and a...</td>\n",
       "      <td>cafes</td>\n",
       "      <td>2</td>\n",
       "      <td>4.5</td>\n",
       "      <td>5.0</td>\n",
       "      <td>2043.0</td>\n",
       "    </tr>\n",
       "    <tr>\n",
       "      <th>4</th>\n",
       "      <td>365-fruit-juice-and-smoothie-singapore</td>\n",
       "      <td>Real juice, with real fruits and vegetables, a...</td>\n",
       "      <td>juicebars</td>\n",
       "      <td>1</td>\n",
       "      <td>4.0</td>\n",
       "      <td>4.0</td>\n",
       "      <td>2043.0</td>\n",
       "    </tr>\n",
       "  </tbody>\n",
       "</table>\n",
       "</div>"
      ],
      "text/plain": [
       "                                    shops  \\\n",
       "0                     183-rojak-singapore   \n",
       "1     1983-a-taste-of-nanyang-singapore-2   \n",
       "2               2am-dessert-bar-singapore   \n",
       "3    2nd-mini-steamboat-delight-singapore   \n",
       "4  365-fruit-juice-and-smoothie-singapore   \n",
       "\n",
       "                                             reviews  \\\n",
       "0  Opening a rojak stall in Toa Payoh isn't that ...   \n",
       "1  Located in the first basement level at MBS, cl...   \n",
       "2  Creative desserts with several layers of flavo...   \n",
       "3  Fantastic Authentic Place!!!What a treat and a...   \n",
       "4  Real juice, with real fruits and vegetables, a...   \n",
       "\n",
       "                  category_alias  review_count  rating  ratings  userids  \n",
       "0                           food             2     3.5      4.0   2043.0  \n",
       "1  singaporean coffee foodstands             4     4.0      4.0   2043.0  \n",
       "2           bars desserts coffee            38     3.5      5.0   2043.0  \n",
       "3                          cafes             2     4.5      5.0   2043.0  \n",
       "4                      juicebars             1     4.0      4.0   2043.0  "
      ]
     },
     "execution_count": 121,
     "metadata": {},
     "output_type": "execute_result"
    }
   ],
   "source": [
    "content_based_df.head()"
   ]
  },
  {
   "cell_type": "markdown",
   "metadata": {},
   "source": [
    "<ul>\n",
    "    \n",
    "- To avoid confusion, will be renaming rating to avg_store_rating, and ratings to user_rating..."
   ]
  },
  {
   "cell_type": "code",
   "execution_count": 122,
   "metadata": {},
   "outputs": [],
   "source": [
    "content_based_df.rename(columns={'rating':'avg_store_rating'}, inplace=True)"
   ]
  },
  {
   "cell_type": "code",
   "execution_count": 123,
   "metadata": {},
   "outputs": [],
   "source": [
    "content_based_df.rename(columns={'ratings':'user_rating'}, inplace=True)"
   ]
  },
  {
   "cell_type": "code",
   "execution_count": 124,
   "metadata": {},
   "outputs": [
    {
     "data": {
      "text/html": [
       "<div>\n",
       "<style scoped>\n",
       "    .dataframe tbody tr th:only-of-type {\n",
       "        vertical-align: middle;\n",
       "    }\n",
       "\n",
       "    .dataframe tbody tr th {\n",
       "        vertical-align: top;\n",
       "    }\n",
       "\n",
       "    .dataframe thead th {\n",
       "        text-align: right;\n",
       "    }\n",
       "</style>\n",
       "<table border=\"1\" class=\"dataframe\">\n",
       "  <thead>\n",
       "    <tr style=\"text-align: right;\">\n",
       "      <th></th>\n",
       "      <th>shops</th>\n",
       "      <th>reviews</th>\n",
       "      <th>category_alias</th>\n",
       "      <th>review_count</th>\n",
       "      <th>avg_store_rating</th>\n",
       "      <th>user_rating</th>\n",
       "      <th>userids</th>\n",
       "    </tr>\n",
       "  </thead>\n",
       "  <tbody>\n",
       "    <tr>\n",
       "      <th>0</th>\n",
       "      <td>183-rojak-singapore</td>\n",
       "      <td>Opening a rojak stall in Toa Payoh isn't that ...</td>\n",
       "      <td>food</td>\n",
       "      <td>2</td>\n",
       "      <td>3.5</td>\n",
       "      <td>4.0</td>\n",
       "      <td>2043.0</td>\n",
       "    </tr>\n",
       "    <tr>\n",
       "      <th>1</th>\n",
       "      <td>1983-a-taste-of-nanyang-singapore-2</td>\n",
       "      <td>Located in the first basement level at MBS, cl...</td>\n",
       "      <td>singaporean coffee foodstands</td>\n",
       "      <td>4</td>\n",
       "      <td>4.0</td>\n",
       "      <td>4.0</td>\n",
       "      <td>2043.0</td>\n",
       "    </tr>\n",
       "    <tr>\n",
       "      <th>2</th>\n",
       "      <td>2am-dessert-bar-singapore</td>\n",
       "      <td>Creative desserts with several layers of flavo...</td>\n",
       "      <td>bars desserts coffee</td>\n",
       "      <td>38</td>\n",
       "      <td>3.5</td>\n",
       "      <td>5.0</td>\n",
       "      <td>2043.0</td>\n",
       "    </tr>\n",
       "  </tbody>\n",
       "</table>\n",
       "</div>"
      ],
      "text/plain": [
       "                                 shops  \\\n",
       "0                  183-rojak-singapore   \n",
       "1  1983-a-taste-of-nanyang-singapore-2   \n",
       "2            2am-dessert-bar-singapore   \n",
       "\n",
       "                                             reviews  \\\n",
       "0  Opening a rojak stall in Toa Payoh isn't that ...   \n",
       "1  Located in the first basement level at MBS, cl...   \n",
       "2  Creative desserts with several layers of flavo...   \n",
       "\n",
       "                  category_alias  review_count  avg_store_rating  user_rating  \\\n",
       "0                           food             2               3.5          4.0   \n",
       "1  singaporean coffee foodstands             4               4.0          4.0   \n",
       "2           bars desserts coffee            38               3.5          5.0   \n",
       "\n",
       "   userids  \n",
       "0   2043.0  \n",
       "1   2043.0  \n",
       "2   2043.0  "
      ]
     },
     "execution_count": 124,
     "metadata": {},
     "output_type": "execute_result"
    }
   ],
   "source": [
    "content_based_df.head(3)"
   ]
  },
  {
   "cell_type": "code",
   "execution_count": 125,
   "metadata": {},
   "outputs": [],
   "source": [
    "#creating new df for userid2043 and so there is no need to keep the userids column\n",
    "userid2043_content_based_df = content_based_df.drop(['userids'], axis=1)"
   ]
  },
  {
   "cell_type": "code",
   "execution_count": 126,
   "metadata": {},
   "outputs": [
    {
     "data": {
      "text/html": [
       "<div>\n",
       "<style scoped>\n",
       "    .dataframe tbody tr th:only-of-type {\n",
       "        vertical-align: middle;\n",
       "    }\n",
       "\n",
       "    .dataframe tbody tr th {\n",
       "        vertical-align: top;\n",
       "    }\n",
       "\n",
       "    .dataframe thead th {\n",
       "        text-align: right;\n",
       "    }\n",
       "</style>\n",
       "<table border=\"1\" class=\"dataframe\">\n",
       "  <thead>\n",
       "    <tr style=\"text-align: right;\">\n",
       "      <th></th>\n",
       "      <th>shops</th>\n",
       "      <th>reviews</th>\n",
       "      <th>category_alias</th>\n",
       "      <th>review_count</th>\n",
       "      <th>avg_store_rating</th>\n",
       "      <th>user_rating</th>\n",
       "    </tr>\n",
       "  </thead>\n",
       "  <tbody>\n",
       "    <tr>\n",
       "      <th>0</th>\n",
       "      <td>183-rojak-singapore</td>\n",
       "      <td>Opening a rojak stall in Toa Payoh isn't that ...</td>\n",
       "      <td>food</td>\n",
       "      <td>2</td>\n",
       "      <td>3.5</td>\n",
       "      <td>4.0</td>\n",
       "    </tr>\n",
       "    <tr>\n",
       "      <th>1</th>\n",
       "      <td>1983-a-taste-of-nanyang-singapore-2</td>\n",
       "      <td>Located in the first basement level at MBS, cl...</td>\n",
       "      <td>singaporean coffee foodstands</td>\n",
       "      <td>4</td>\n",
       "      <td>4.0</td>\n",
       "      <td>4.0</td>\n",
       "    </tr>\n",
       "    <tr>\n",
       "      <th>2</th>\n",
       "      <td>2am-dessert-bar-singapore</td>\n",
       "      <td>Creative desserts with several layers of flavo...</td>\n",
       "      <td>bars desserts coffee</td>\n",
       "      <td>38</td>\n",
       "      <td>3.5</td>\n",
       "      <td>5.0</td>\n",
       "    </tr>\n",
       "  </tbody>\n",
       "</table>\n",
       "</div>"
      ],
      "text/plain": [
       "                                 shops  \\\n",
       "0                  183-rojak-singapore   \n",
       "1  1983-a-taste-of-nanyang-singapore-2   \n",
       "2            2am-dessert-bar-singapore   \n",
       "\n",
       "                                             reviews  \\\n",
       "0  Opening a rojak stall in Toa Payoh isn't that ...   \n",
       "1  Located in the first basement level at MBS, cl...   \n",
       "2  Creative desserts with several layers of flavo...   \n",
       "\n",
       "                  category_alias  review_count  avg_store_rating  user_rating  \n",
       "0                           food             2               3.5          4.0  \n",
       "1  singaporean coffee foodstands             4               4.0          4.0  \n",
       "2           bars desserts coffee            38               3.5          5.0  "
      ]
     },
     "execution_count": 126,
     "metadata": {},
     "output_type": "execute_result"
    }
   ],
   "source": [
    "userid2043_content_based_df.head(3)"
   ]
  },
  {
   "cell_type": "markdown",
   "metadata": {},
   "source": [
    "### ```pd.get_dummies('shops')``` time!!"
   ]
  },
  {
   "cell_type": "code",
   "execution_count": 127,
   "metadata": {},
   "outputs": [
    {
     "data": {
      "text/html": [
       "<div>\n",
       "<style scoped>\n",
       "    .dataframe tbody tr th:only-of-type {\n",
       "        vertical-align: middle;\n",
       "    }\n",
       "\n",
       "    .dataframe tbody tr th {\n",
       "        vertical-align: top;\n",
       "    }\n",
       "\n",
       "    .dataframe thead th {\n",
       "        text-align: right;\n",
       "    }\n",
       "</style>\n",
       "<table border=\"1\" class=\"dataframe\">\n",
       "  <thead>\n",
       "    <tr style=\"text-align: right;\">\n",
       "      <th></th>\n",
       "      <th>reviews</th>\n",
       "      <th>review_count</th>\n",
       "      <th>avg_store_rating</th>\n",
       "      <th>user_rating</th>\n",
       "      <th>shops_183-rojak-singapore</th>\n",
       "      <th>shops_1983-a-taste-of-nanyang-singapore-2</th>\n",
       "      <th>shops_2am-dessert-bar-singapore</th>\n",
       "      <th>shops_2nd-mini-steamboat-delight-singapore</th>\n",
       "      <th>shops_365-fruit-juice-and-smoothie-singapore</th>\n",
       "      <th>shops_3838-eating-place-singapore</th>\n",
       "      <th>...</th>\n",
       "      <th>category_alias_themedcafes</th>\n",
       "      <th>category_alias_themedcafes bistros</th>\n",
       "      <th>category_alias_tradamerican breakfast brunch bakeries</th>\n",
       "      <th>category_alias_tradamerican coffee breakfast brunch</th>\n",
       "      <th>category_alias_tradamerican desserts coffee</th>\n",
       "      <th>category_alias_turkish cafes mediterranean</th>\n",
       "      <th>category_alias_vietnamese importedfood</th>\n",
       "      <th>category_alias_waffles icecream coffee</th>\n",
       "      <th>category_alias_wine bars breakfast brunch sandwiches</th>\n",
       "      <th>category_alias_wine bars cafes</th>\n",
       "    </tr>\n",
       "  </thead>\n",
       "  <tbody>\n",
       "    <tr>\n",
       "      <th>0</th>\n",
       "      <td>Opening a rojak stall in Toa Payoh isn't that ...</td>\n",
       "      <td>2</td>\n",
       "      <td>3.5</td>\n",
       "      <td>4.0</td>\n",
       "      <td>1</td>\n",
       "      <td>0</td>\n",
       "      <td>0</td>\n",
       "      <td>0</td>\n",
       "      <td>0</td>\n",
       "      <td>0</td>\n",
       "      <td>...</td>\n",
       "      <td>0</td>\n",
       "      <td>0</td>\n",
       "      <td>0</td>\n",
       "      <td>0</td>\n",
       "      <td>0</td>\n",
       "      <td>0</td>\n",
       "      <td>0</td>\n",
       "      <td>0</td>\n",
       "      <td>0</td>\n",
       "      <td>0</td>\n",
       "    </tr>\n",
       "    <tr>\n",
       "      <th>1</th>\n",
       "      <td>Located in the first basement level at MBS, cl...</td>\n",
       "      <td>4</td>\n",
       "      <td>4.0</td>\n",
       "      <td>4.0</td>\n",
       "      <td>0</td>\n",
       "      <td>1</td>\n",
       "      <td>0</td>\n",
       "      <td>0</td>\n",
       "      <td>0</td>\n",
       "      <td>0</td>\n",
       "      <td>...</td>\n",
       "      <td>0</td>\n",
       "      <td>0</td>\n",
       "      <td>0</td>\n",
       "      <td>0</td>\n",
       "      <td>0</td>\n",
       "      <td>0</td>\n",
       "      <td>0</td>\n",
       "      <td>0</td>\n",
       "      <td>0</td>\n",
       "      <td>0</td>\n",
       "    </tr>\n",
       "    <tr>\n",
       "      <th>2</th>\n",
       "      <td>Creative desserts with several layers of flavo...</td>\n",
       "      <td>38</td>\n",
       "      <td>3.5</td>\n",
       "      <td>5.0</td>\n",
       "      <td>0</td>\n",
       "      <td>0</td>\n",
       "      <td>1</td>\n",
       "      <td>0</td>\n",
       "      <td>0</td>\n",
       "      <td>0</td>\n",
       "      <td>...</td>\n",
       "      <td>0</td>\n",
       "      <td>0</td>\n",
       "      <td>0</td>\n",
       "      <td>0</td>\n",
       "      <td>0</td>\n",
       "      <td>0</td>\n",
       "      <td>0</td>\n",
       "      <td>0</td>\n",
       "      <td>0</td>\n",
       "      <td>0</td>\n",
       "    </tr>\n",
       "  </tbody>\n",
       "</table>\n",
       "<p>3 rows × 1282 columns</p>\n",
       "</div>"
      ],
      "text/plain": [
       "                                             reviews  review_count  \\\n",
       "0  Opening a rojak stall in Toa Payoh isn't that ...             2   \n",
       "1  Located in the first basement level at MBS, cl...             4   \n",
       "2  Creative desserts with several layers of flavo...            38   \n",
       "\n",
       "   avg_store_rating  user_rating  shops_183-rojak-singapore  \\\n",
       "0               3.5          4.0                          1   \n",
       "1               4.0          4.0                          0   \n",
       "2               3.5          5.0                          0   \n",
       "\n",
       "   shops_1983-a-taste-of-nanyang-singapore-2  shops_2am-dessert-bar-singapore  \\\n",
       "0                                          0                                0   \n",
       "1                                          1                                0   \n",
       "2                                          0                                1   \n",
       "\n",
       "   shops_2nd-mini-steamboat-delight-singapore  \\\n",
       "0                                           0   \n",
       "1                                           0   \n",
       "2                                           0   \n",
       "\n",
       "   shops_365-fruit-juice-and-smoothie-singapore  \\\n",
       "0                                             0   \n",
       "1                                             0   \n",
       "2                                             0   \n",
       "\n",
       "   shops_3838-eating-place-singapore  ...  category_alias_themedcafes  \\\n",
       "0                                  0  ...                           0   \n",
       "1                                  0  ...                           0   \n",
       "2                                  0  ...                           0   \n",
       "\n",
       "   category_alias_themedcafes bistros  \\\n",
       "0                                   0   \n",
       "1                                   0   \n",
       "2                                   0   \n",
       "\n",
       "   category_alias_tradamerican breakfast brunch bakeries  \\\n",
       "0                                                  0       \n",
       "1                                                  0       \n",
       "2                                                  0       \n",
       "\n",
       "   category_alias_tradamerican coffee breakfast brunch  \\\n",
       "0                                                  0     \n",
       "1                                                  0     \n",
       "2                                                  0     \n",
       "\n",
       "   category_alias_tradamerican desserts coffee  \\\n",
       "0                                            0   \n",
       "1                                            0   \n",
       "2                                            0   \n",
       "\n",
       "   category_alias_turkish cafes mediterranean  \\\n",
       "0                                           0   \n",
       "1                                           0   \n",
       "2                                           0   \n",
       "\n",
       "   category_alias_vietnamese importedfood  \\\n",
       "0                                       0   \n",
       "1                                       0   \n",
       "2                                       0   \n",
       "\n",
       "   category_alias_waffles icecream coffee  \\\n",
       "0                                       0   \n",
       "1                                       0   \n",
       "2                                       0   \n",
       "\n",
       "   category_alias_wine bars breakfast brunch sandwiches  \\\n",
       "0                                                  0      \n",
       "1                                                  0      \n",
       "2                                                  0      \n",
       "\n",
       "   category_alias_wine bars cafes  \n",
       "0                               0  \n",
       "1                               0  \n",
       "2                               0  \n",
       "\n",
       "[3 rows x 1282 columns]"
      ]
     },
     "execution_count": 127,
     "metadata": {},
     "output_type": "execute_result"
    }
   ],
   "source": [
    "userid2043_content_based_df_wdummies = pd.get_dummies(userid2043_content_based_df, columns=['shops','category_alias'], drop_first=False)\n",
    "userid2043_content_based_df_wdummies.head(3)"
   ]
  },
  {
   "cell_type": "markdown",
   "metadata": {},
   "source": [
    "## Setting Feature X (features) and Target y (user_rating)\n",
    "---"
   ]
  },
  {
   "cell_type": "code",
   "execution_count": 128,
   "metadata": {},
   "outputs": [],
   "source": [
    "X = userid2043_content_based_df_wdummies.drop(['user_rating'], axis=1)\n",
    "y = userid2043_content_based_df_wdummies['user_rating']"
   ]
  },
  {
   "cell_type": "code",
   "execution_count": 129,
   "metadata": {},
   "outputs": [],
   "source": [
    "#collating dummified columns\n",
    "shops_cats_list = [col for col in userid2043_content_based_df_wdummies.columns if (col.startswith('shops')) or (col.startswith('category'))]"
   ]
  },
  {
   "cell_type": "code",
   "execution_count": 130,
   "metadata": {},
   "outputs": [],
   "source": [
    "#extending with review_count and avg_store_rating\n",
    "shops_cats_list.extend(['review_count','avg_store_rating'])"
   ]
  },
  {
   "cell_type": "code",
   "execution_count": 131,
   "metadata": {},
   "outputs": [
    {
     "data": {
      "text/plain": [
       "1280"
      ]
     },
     "execution_count": 131,
     "metadata": {},
     "output_type": "execute_result"
    }
   ],
   "source": [
    "len(shops_cats_list)"
   ]
  },
  {
   "cell_type": "code",
   "execution_count": 132,
   "metadata": {},
   "outputs": [],
   "source": [
    "#as tfidf can only work on one column of texts at a time, am separating features as below...\n",
    "X1 = X['reviews']\n",
    "X2 = X[shops_cats_list]"
   ]
  },
  {
   "cell_type": "code",
   "execution_count": 133,
   "metadata": {},
   "outputs": [
    {
     "data": {
      "text/plain": [
       "0    Opening a rojak stall in Toa Payoh isn't that ...\n",
       "1    Located in the first basement level at MBS, cl...\n",
       "2    Creative desserts with several layers of flavo...\n",
       "Name: reviews, dtype: object"
      ]
     },
     "execution_count": 133,
     "metadata": {},
     "output_type": "execute_result"
    }
   ],
   "source": [
    "#showing pre-processed look of the reviews. \n",
    "X1.head(3)"
   ]
  },
  {
   "cell_type": "code",
   "execution_count": 134,
   "metadata": {},
   "outputs": [],
   "source": [
    "#Assigning a new variable name to X1 for processing.\n",
    "rev = X1"
   ]
  },
  {
   "cell_type": "code",
   "execution_count": 135,
   "metadata": {},
   "outputs": [
    {
     "data": {
      "text/plain": [
       "0    opening rojak stall toa payoh isn t easy tough...\n",
       "1    located basement level mb close sw entrance es...\n",
       "2    creative dessert layer flavor enjoyed looking ...\n",
       "dtype: object"
      ]
     },
     "execution_count": 135,
     "metadata": {},
     "output_type": "execute_result"
    }
   ],
   "source": [
    "#showing how the processed reviews look like\n",
    "rev_processed = pd.Series([text_processer(text) for text in rev])\n",
    "rev_processed[:3]"
   ]
  },
  {
   "cell_type": "code",
   "execution_count": 136,
   "metadata": {},
   "outputs": [
    {
     "data": {
      "text/plain": [
       "(980, 18027)"
      ]
     },
     "execution_count": 136,
     "metadata": {},
     "output_type": "execute_result"
    }
   ],
   "source": [
    "#using tfidf vectorizer to convert the reviews into term frequency columns...\n",
    "tvec_naive = TfidfVectorizer(stop_words = cust_stop_words)  #instantiating TfidfVectorizer with customized stop words\n",
    "\n",
    "X1_tvec_naive = tvec_naive.fit_transform(rev_processed).todense()   #fitting tvec and transforming the processed reviews\n",
    "X1_tvec_naive_df = pd.DataFrame(X1_tvec_naive, columns = tvec_naive.get_feature_names())  #converting it into a dataframe for easy lookup.\n",
    "X1_tvec_naive_df.shape #checking how array's dimension has changed with the vectorization."
   ]
  },
  {
   "cell_type": "code",
   "execution_count": 137,
   "metadata": {},
   "outputs": [
    {
     "data": {
      "text/plain": [
       "(980, 19307)"
      ]
     },
     "execution_count": 137,
     "metadata": {},
     "output_type": "execute_result"
    }
   ],
   "source": [
    "#combining tvec-df with the rest of the features for modeling later on...\n",
    "X_legit = pd.concat([X1_tvec_naive_df,X2], axis=1)\n",
    "X_legit.shape"
   ]
  },
  {
   "cell_type": "code",
   "execution_count": 138,
   "metadata": {},
   "outputs": [
    {
     "data": {
      "text/plain": [
       "0"
      ]
     },
     "execution_count": 138,
     "metadata": {},
     "output_type": "execute_result"
    }
   ],
   "source": [
    "#confirming no nulls\n",
    "sum(X_legit.isnull().sum())"
   ]
  },
  {
   "cell_type": "code",
   "execution_count": 142,
   "metadata": {},
   "outputs": [],
   "source": [
    "#saving finalized X_legit for further use later on..\n",
    "X_legit.to_csv('yelp_data/xlegit.csv',index=False)"
   ]
  },
  {
   "cell_type": "code",
   "execution_count": 143,
   "metadata": {},
   "outputs": [],
   "source": [
    "#saving target for further use later on..\n",
    "y.to_csv('yelp_data/y.csv',index=False)"
   ]
  },
  {
   "cell_type": "markdown",
   "metadata": {},
   "source": [
    "## EDA for the Non-Natural Language Processing (NLP) (non-reviews) parts of the training dataset\n",
    "---"
   ]
  },
  {
   "cell_type": "code",
   "execution_count": 144,
   "metadata": {},
   "outputs": [],
   "source": [
    "#split the dataset into train and test sets first\n",
    "X_train, X_test, y_train, y_test = train_test_split(X_legit, y, test_size=0.2, random_state=42, stratify=y)"
   ]
  },
  {
   "cell_type": "code",
   "execution_count": 145,
   "metadata": {},
   "outputs": [
    {
     "data": {
      "text/plain": [
       "4.0    0.479592\n",
       "5.0    0.383929\n",
       "3.0    0.118622\n",
       "2.0    0.012755\n",
       "1.0    0.005102\n",
       "Name: user_rating, dtype: float64"
      ]
     },
     "execution_count": 145,
     "metadata": {},
     "output_type": "execute_result"
    }
   ],
   "source": [
    "y_train.value_counts(normalize=True)"
   ]
  },
  {
   "cell_type": "markdown",
   "metadata": {},
   "source": [
    "<ul>\n",
    "    \n",
    "- The baseline accuracy will be 0.48 since that is the highest proportion among the training dataset's target classes"
   ]
  },
  {
   "cell_type": "code",
   "execution_count": 146,
   "metadata": {},
   "outputs": [],
   "source": [
    "#making a copy of X_train which will include y_train for initial training set's EDA...\n",
    "X_train_y_train = X_train.copy()"
   ]
  },
  {
   "cell_type": "code",
   "execution_count": 147,
   "metadata": {},
   "outputs": [],
   "source": [
    "#including y_train column so that EDA can be conducted on the training set as follows..\n",
    "X_train_y_train['user_rating'] = y_train"
   ]
  },
  {
   "cell_type": "code",
   "execution_count": 148,
   "metadata": {},
   "outputs": [
    {
     "data": {
      "image/png": "[encoded data removed]",
      "text/plain": [
       "<Figure size 432x288 with 1 Axes>"
      ]
     },
     "metadata": {
      "image/png": {
       "height": 262,
       "width": 372
      },
      "needs_background": "light"
     },
     "output_type": "display_data"
    }
   ],
   "source": [
    "sns.distplot(X_train_y_train.user_rating);"
   ]
  },
  {
   "cell_type": "code",
   "execution_count": 149,
   "metadata": {},
   "outputs": [
    {
     "data": {
      "image/png": "[encoded data removed]",
      "text/plain": [
       "<Figure size 432x288 with 1 Axes>"
      ]
     },
     "metadata": {
      "image/png": {
       "height": 262,
       "width": 372
      },
      "needs_background": "light"
     },
     "output_type": "display_data"
    }
   ],
   "source": [
    "sns.distplot(X_train_y_train.avg_store_rating);"
   ]
  },
  {
   "cell_type": "markdown",
   "metadata": {},
   "source": [
    "<ul>\n",
    "    \n",
    "- Avg_store_rating slightly left-skewed…"
   ]
  },
  {
   "cell_type": "code",
   "execution_count": 150,
   "metadata": {},
   "outputs": [
    {
     "data": {
      "image/png": "[encoded data removed]",
      "text/plain": [
       "<Figure size 432x288 with 1 Axes>"
      ]
     },
     "metadata": {
      "image/png": {
       "height": 262,
       "width": 378
      },
      "needs_background": "light"
     },
     "output_type": "display_data"
    }
   ],
   "source": [
    "sns.distplot(X_train_y_train.review_count);"
   ]
  },
  {
   "cell_type": "markdown",
   "metadata": {},
   "source": [
    "<ul>\n",
    "\n",
    "- Outlets' review counts are severely right-skewed. Most outlets only having 1-2 reviews..."
   ]
  },
  {
   "cell_type": "code",
   "execution_count": 151,
   "metadata": {},
   "outputs": [
    {
     "data": {
      "image/png": "[encoded data removed]",
      "text/plain": [
       "<Figure size 432x432 with 3 Axes>"
      ]
     },
     "metadata": {
      "image/png": {
       "height": 423,
       "width": 423
      },
      "needs_background": "light"
     },
     "output_type": "display_data"
    }
   ],
   "source": [
    "sns.jointplot(X_train_y_train.user_rating, X_train_y_train.avg_store_rating);"
   ]
  },
  {
   "cell_type": "markdown",
   "metadata": {},
   "source": [
    "<ul>\n",
    "\n",
    "- Some semblance of a correlation visible from the jointplot above between user_rating and avg_store_rating..."
   ]
  },
  {
   "cell_type": "code",
   "execution_count": 152,
   "metadata": {},
   "outputs": [
    {
     "data": {
      "image/png": "[encoded data removed]",
      "text/plain": [
       "<Figure size 432x288 with 1 Axes>"
      ]
     },
     "metadata": {
      "image/png": {
       "height": 262,
       "width": 386
      },
      "needs_background": "light"
     },
     "output_type": "display_data"
    }
   ],
   "source": [
    "sns.regplot(X_train_y_train.user_rating, X_train_y_train.avg_store_rating);"
   ]
  },
  {
   "cell_type": "code",
   "execution_count": 153,
   "metadata": {},
   "outputs": [
    {
     "data": {
      "image/png": "[encoded data removed]",
      "text/plain": [
       "<Figure size 432x288 with 2 Axes>"
      ]
     },
     "metadata": {
      "image/png": {
       "height": 252,
       "width": 423
      },
      "needs_background": "light"
     },
     "output_type": "display_data"
    }
   ],
   "source": [
    "# Generate a mask for the upper triangle (taken from seaborn example gallery)\n",
    "mask = np.zeros_like(X_train_y_train[['review_count','avg_store_rating','user_rating']].corr(), dtype=np.bool)\n",
    "mask[np.triu_indices_from(mask)] = True\n",
    "#plotting correlation heatmap\n",
    "ax = sns.heatmap(X_train_y_train[['review_count','avg_store_rating','user_rating']].corr(), mask=mask, annot=True);"
   ]
  },
  {
   "cell_type": "markdown",
   "metadata": {},
   "source": [
    "<ul>\n",
    "    \n",
    "- The heatmap (together with the comparison between the distplots and the regplot and jointplot) above shows that userid 2043's rating is rather strongly correlated with the average outlet's rating but not so much with the outlet's review count... the same trend may not be observed for other users... a point to note...\n",
    "\n",
    "\n",
    "- Now, let's proceed to the Modeling sub-notebook in the same capstone directory!\n"
   ]
  },
  {
   "cell_type": "markdown",
   "metadata": {},
   "source": [
    "### Additional (optional) sneak peek at the tuning process for LogReg and DecisionTreeClassifier for Content-based Filtering\n",
    "---"
   ]
  },
  {
   "cell_type": "code",
   "execution_count": 154,
   "metadata": {},
   "outputs": [],
   "source": [
    "#this is a sample code of the tuning for DecisionTreeClassifier, LogReg has also been tuned in this notebook before but that code has been removed to prevent lagging up this notebook.\n",
    "#more details on the modeling components in their respective sub-notebooks in the same capstone directory\n",
    "#params = {\n",
    "#    'max_depth':[3,5,7,10],\n",
    "#    'min_samples_split':[5, 10, 15, 20],\n",
    "#    'min_samples_leaf':[2, 3, 4, 5, 6, 7],\n",
    "#    'class_weight':['balanced']\n",
    "#    } \n",
    "\n",
    "\n",
    "#dtc_gridsearch = GridSearchCV(DecisionTreeClassifier(), params, cv = 10, verbose = 1, n_jobs = -1)\n",
    "#dtc_gridsearch.fit(X_train_sc, y_train)"
   ]
  },
  {
   "cell_type": "code",
   "execution_count": 155,
   "metadata": {},
   "outputs": [],
   "source": [
    "#print('Gridsearch best score: ', dtc_gridsearch.best_score_)\n",
    "#print('Gridsearch best estimator: ', dtc_gridsearch.best_estimator_)\n",
    "#print('Gridsearch best score on test set: ', dtc_gridsearch.best_estimator_.score(X_test_sc,y_test))"
   ]
  },
  {
   "cell_type": "code",
   "execution_count": 156,
   "metadata": {},
   "outputs": [],
   "source": [
    "#saving the tuned logreg model for later use in current working directory. The saved model has been moved to ./yelp_data-part 1\n",
    "#filename = 'lr_gs_model.sav'"
   ]
  },
  {
   "cell_type": "code",
   "execution_count": 157,
   "metadata": {},
   "outputs": [],
   "source": [
    "#saving the tuned logreg model for later use in current working directory. The saved model has been moved to ./yelp_data-part 2\n",
    "#joblib.dump(lr_gridsearch,filename)"
   ]
  },
  {
   "cell_type": "code",
   "execution_count": 158,
   "metadata": {},
   "outputs": [],
   "source": [
    "#saving the tuned decisiontreeclassifier model for later use in current working directory. The saved model has been moved to ./yelp_data-part 1\n",
    "#filename_1 = 'dtc_gs_model.sav'"
   ]
  },
  {
   "cell_type": "code",
   "execution_count": 159,
   "metadata": {},
   "outputs": [],
   "source": [
    "#saving the tuned decisiontreeclassifier model for later use in current working directory. The saved model has been moved to ./yelp_data-part 2\n",
    "#joblib.dump(dtc_gridsearch,filename_1)"
   ]
  },
  {
   "cell_type": "markdown",
   "metadata": {},
   "source": [
    "<ul>\n",
    "    \n",
    "- Kindly note that I have also tuned LogReg and DecisionTreeClassifier models with PCA (to see if reducing the dimensionality helps in producing a better model since the 980+ shops have been dummy-coded and together with the tfidf-ed reviews, they have contributed to rather high feature dimensionality which can increase model complexity and adversely impact variance significantly) in 2 other sub-notebooks separately but both did not perform well.. Kindly take a look at those other sub-notebooks for more details. "
   ]
  },
  {
   "cell_type": "markdown",
   "metadata": {},
   "source": [
    "## Source(s)\n",
    "---\n",
    "\n",
    "- https://www.kaggle.com/gspmoreira/recommender-systems-in-python-101\n",
    "- https://towardsdatascience.com/introduction-to-recommender-systems-6c66cf15ada"
   ]
  }
 ],
 "metadata": {
  "kernelspec": {
   "display_name": "Python 3",
   "language": "python",
   "name": "python3"
  },
  "language_info": {
   "codemirror_mode": {
    "name": "ipython",
    "version": 3
   },
   "file_extension": ".py",
   "mimetype": "text/x-python",
   "name": "python",
   "nbconvert_exporter": "python",
   "pygments_lexer": "ipython3",
   "version": "3.7.6"
  }
 },
 "nbformat": 4,
 "nbformat_minor": 4
}
